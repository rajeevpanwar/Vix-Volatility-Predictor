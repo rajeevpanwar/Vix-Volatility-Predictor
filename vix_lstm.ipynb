{
 "cells": [
  {
   "cell_type": "markdown",
   "metadata": {},
   "source": [
    "### Importing Libaries ###"
   ]
  },
  {
   "cell_type": "code",
   "execution_count": 53,
   "metadata": {},
   "outputs": [],
   "source": [
    "#Library imports\n",
    "import re\n",
    "import os\n",
    "import time\n",
    "import math\n",
    "import random\n",
    "import itertools\n",
    "import warnings\n",
    "import numpy as np\n",
    "from numpy import array\n",
    "import pandas as pd\n",
    "from pandas import datetime\n",
    "from pandas import DataFrame\n",
    "from pandas import concat\n",
    "from matplotlib import pyplot\n",
    "import seaborn as sns\n",
    "import statsmodels.api as sm\n",
    "from statsmodels.tsa.seasonal import seasonal_decompose\n",
    "from statsmodels.tsa.stattools import adfuller\n",
    "from statsmodels.tsa.arima_model import ARIMA\n",
    "from statsmodels.tsa.statespace.sarimax import SARIMAX\n",
    "import matplotlib.pyplot as plt\n",
    "from pylab import rcParams\n",
    "from sklearn.pipeline import Pipeline\n",
    "from sklearn.preprocessing import StandardScaler, MinMaxScaler\n",
    "from sklearn.model_selection import train_test_split, GridSearchCV\n",
    "from sklearn.model_selection import TimeSeriesSplit\n",
    "from sklearn import model_selection\n",
    "from sklearn.metrics import mean_squared_error\n",
    "from sklearn.preprocessing import FunctionTransformer\n",
    "from sklearn.model_selection import LeaveOneOut\n",
    "from sklearn.model_selection import RepeatedKFold\n",
    "from sklearn.model_selection import cross_val_score\n",
    "from sklearn import svm\n",
    "from statsmodels.graphics.tsaplots import plot_pacf, plot_acf\n",
    "import pmdarima as pm\n",
    "from pmdarima.model_selection import train_test_split\n",
    "\n",
    "from tensorflow import keras\n",
    "from tensorflow.keras import layers\n",
    "import tensorflow as tf\n",
    "from keras.models import Sequential\n",
    "from keras.layers.core import Dense, Activation, Dropout\n",
    "from keras.layers.recurrent import LSTM\n",
    "\n",
    "warnings.filterwarnings(\"ignore\")\n",
    "#Notebook arguments\n",
    "%matplotlib inline"
   ]
  },
  {
   "cell_type": "markdown",
   "metadata": {},
   "source": [
    "# Importing Data"
   ]
  },
  {
   "cell_type": "code",
   "execution_count": 54,
   "metadata": {},
   "outputs": [],
   "source": [
    "#I'm using pandas to download my data into the notebook\n",
    "index_df = pd.read_pickle('vix.pickle')"
   ]
  },
  {
   "cell_type": "code",
   "execution_count": 55,
   "metadata": {},
   "outputs": [
    {
     "data": {
      "text/html": [
       "<div>\n",
       "<style scoped>\n",
       "    .dataframe tbody tr th:only-of-type {\n",
       "        vertical-align: middle;\n",
       "    }\n",
       "\n",
       "    .dataframe tbody tr th {\n",
       "        vertical-align: top;\n",
       "    }\n",
       "\n",
       "    .dataframe thead th {\n",
       "        text-align: right;\n",
       "    }\n",
       "</style>\n",
       "<table border=\"1\" class=\"dataframe\">\n",
       "  <thead>\n",
       "    <tr style=\"text-align: right;\">\n",
       "      <th></th>\n",
       "      <th>Date</th>\n",
       "      <th>Open</th>\n",
       "      <th>High</th>\n",
       "      <th>Low</th>\n",
       "      <th>Close</th>\n",
       "      <th>Adj Close</th>\n",
       "      <th>Volume</th>\n",
       "    </tr>\n",
       "  </thead>\n",
       "  <tbody>\n",
       "    <tr>\n",
       "      <th>0</th>\n",
       "      <td>2010-06-23</td>\n",
       "      <td>26.930000</td>\n",
       "      <td>28.549999</td>\n",
       "      <td>26.540001</td>\n",
       "      <td>26.910000</td>\n",
       "      <td>26.910000</td>\n",
       "      <td>0</td>\n",
       "    </tr>\n",
       "    <tr>\n",
       "      <th>1</th>\n",
       "      <td>2010-06-24</td>\n",
       "      <td>27.610001</td>\n",
       "      <td>30.270000</td>\n",
       "      <td>27.530001</td>\n",
       "      <td>29.740000</td>\n",
       "      <td>29.740000</td>\n",
       "      <td>0</td>\n",
       "    </tr>\n",
       "    <tr>\n",
       "      <th>2</th>\n",
       "      <td>2010-06-25</td>\n",
       "      <td>29.639999</td>\n",
       "      <td>30.410000</td>\n",
       "      <td>28.070000</td>\n",
       "      <td>28.530001</td>\n",
       "      <td>28.530001</td>\n",
       "      <td>0</td>\n",
       "    </tr>\n",
       "    <tr>\n",
       "      <th>3</th>\n",
       "      <td>2010-06-28</td>\n",
       "      <td>29.200001</td>\n",
       "      <td>29.900000</td>\n",
       "      <td>28.469999</td>\n",
       "      <td>29.000000</td>\n",
       "      <td>29.000000</td>\n",
       "      <td>0</td>\n",
       "    </tr>\n",
       "    <tr>\n",
       "      <th>4</th>\n",
       "      <td>2010-06-29</td>\n",
       "      <td>31.219999</td>\n",
       "      <td>35.389999</td>\n",
       "      <td>31.219999</td>\n",
       "      <td>34.130001</td>\n",
       "      <td>34.130001</td>\n",
       "      <td>0</td>\n",
       "    </tr>\n",
       "  </tbody>\n",
       "</table>\n",
       "</div>"
      ],
      "text/plain": [
       "         Date       Open       High        Low      Close  Adj Close  Volume\n",
       "0  2010-06-23  26.930000  28.549999  26.540001  26.910000  26.910000       0\n",
       "1  2010-06-24  27.610001  30.270000  27.530001  29.740000  29.740000       0\n",
       "2  2010-06-25  29.639999  30.410000  28.070000  28.530001  28.530001       0\n",
       "3  2010-06-28  29.200001  29.900000  28.469999  29.000000  29.000000       0\n",
       "4  2010-06-29  31.219999  35.389999  31.219999  34.130001  34.130001       0"
      ]
     },
     "execution_count": 55,
     "metadata": {},
     "output_type": "execute_result"
    }
   ],
   "source": [
    "index_df.head()"
   ]
  },
  {
   "cell_type": "code",
   "execution_count": 56,
   "metadata": {},
   "outputs": [
    {
     "data": {
      "text/html": [
       "<div>\n",
       "<style scoped>\n",
       "    .dataframe tbody tr th:only-of-type {\n",
       "        vertical-align: middle;\n",
       "    }\n",
       "\n",
       "    .dataframe tbody tr th {\n",
       "        vertical-align: top;\n",
       "    }\n",
       "\n",
       "    .dataframe thead th {\n",
       "        text-align: right;\n",
       "    }\n",
       "</style>\n",
       "<table border=\"1\" class=\"dataframe\">\n",
       "  <thead>\n",
       "    <tr style=\"text-align: right;\">\n",
       "      <th></th>\n",
       "      <th>Date</th>\n",
       "      <th>Open</th>\n",
       "      <th>High</th>\n",
       "      <th>Low</th>\n",
       "      <th>Close</th>\n",
       "      <th>Adj Close</th>\n",
       "      <th>Volume</th>\n",
       "    </tr>\n",
       "  </thead>\n",
       "  <tbody>\n",
       "    <tr>\n",
       "      <th>2513</th>\n",
       "      <td>2020-06-17</td>\n",
       "      <td>33.279999</td>\n",
       "      <td>35.169998</td>\n",
       "      <td>32.250000</td>\n",
       "      <td>33.470001</td>\n",
       "      <td>33.470001</td>\n",
       "      <td>0</td>\n",
       "    </tr>\n",
       "    <tr>\n",
       "      <th>2514</th>\n",
       "      <td>2020-06-18</td>\n",
       "      <td>33.830002</td>\n",
       "      <td>36.250000</td>\n",
       "      <td>32.240002</td>\n",
       "      <td>32.939999</td>\n",
       "      <td>32.939999</td>\n",
       "      <td>0</td>\n",
       "    </tr>\n",
       "    <tr>\n",
       "      <th>2515</th>\n",
       "      <td>2020-06-19</td>\n",
       "      <td>32.070000</td>\n",
       "      <td>35.119999</td>\n",
       "      <td>30.400000</td>\n",
       "      <td>35.119999</td>\n",
       "      <td>35.119999</td>\n",
       "      <td>0</td>\n",
       "    </tr>\n",
       "    <tr>\n",
       "      <th>2516</th>\n",
       "      <td>2020-06-22</td>\n",
       "      <td>35.220001</td>\n",
       "      <td>35.389999</td>\n",
       "      <td>31.639999</td>\n",
       "      <td>31.770000</td>\n",
       "      <td>31.770000</td>\n",
       "      <td>0</td>\n",
       "    </tr>\n",
       "    <tr>\n",
       "      <th>2517</th>\n",
       "      <td>2020-06-23</td>\n",
       "      <td>31.709999</td>\n",
       "      <td>31.709999</td>\n",
       "      <td>29.260000</td>\n",
       "      <td>31.370001</td>\n",
       "      <td>31.370001</td>\n",
       "      <td>0</td>\n",
       "    </tr>\n",
       "  </tbody>\n",
       "</table>\n",
       "</div>"
      ],
      "text/plain": [
       "            Date       Open       High        Low      Close  Adj Close  \\\n",
       "2513  2020-06-17  33.279999  35.169998  32.250000  33.470001  33.470001   \n",
       "2514  2020-06-18  33.830002  36.250000  32.240002  32.939999  32.939999   \n",
       "2515  2020-06-19  32.070000  35.119999  30.400000  35.119999  35.119999   \n",
       "2516  2020-06-22  35.220001  35.389999  31.639999  31.770000  31.770000   \n",
       "2517  2020-06-23  31.709999  31.709999  29.260000  31.370001  31.370001   \n",
       "\n",
       "      Volume  \n",
       "2513       0  \n",
       "2514       0  \n",
       "2515       0  \n",
       "2516       0  \n",
       "2517       0  "
      ]
     },
     "execution_count": 56,
     "metadata": {},
     "output_type": "execute_result"
    }
   ],
   "source": [
    "index_df.tail()"
   ]
  },
  {
   "cell_type": "code",
   "execution_count": 57,
   "metadata": {},
   "outputs": [
    {
     "data": {
      "text/plain": [
       "str"
      ]
     },
     "execution_count": 57,
     "metadata": {},
     "output_type": "execute_result"
    }
   ],
   "source": [
    "\n",
    "type(index_df['Date'][2])"
   ]
  },
  {
   "cell_type": "code",
   "execution_count": 58,
   "metadata": {},
   "outputs": [],
   "source": [
    "#Set the format of the date to datetime \n",
    "index_df['Date'] = pd.to_datetime(index_df['Date'])\n",
    "#Set date column as index \n",
    "index_df = index_df.set_index(['Date'])"
   ]
  },
  {
   "cell_type": "code",
   "execution_count": 59,
   "metadata": {},
   "outputs": [
    {
     "data": {
      "text/html": [
       "<div>\n",
       "<style scoped>\n",
       "    .dataframe tbody tr th:only-of-type {\n",
       "        vertical-align: middle;\n",
       "    }\n",
       "\n",
       "    .dataframe tbody tr th {\n",
       "        vertical-align: top;\n",
       "    }\n",
       "\n",
       "    .dataframe thead th {\n",
       "        text-align: right;\n",
       "    }\n",
       "</style>\n",
       "<table border=\"1\" class=\"dataframe\">\n",
       "  <thead>\n",
       "    <tr style=\"text-align: right;\">\n",
       "      <th></th>\n",
       "      <th>Open</th>\n",
       "      <th>High</th>\n",
       "      <th>Low</th>\n",
       "      <th>Close</th>\n",
       "      <th>Adj Close</th>\n",
       "      <th>Volume</th>\n",
       "    </tr>\n",
       "    <tr>\n",
       "      <th>Date</th>\n",
       "      <th></th>\n",
       "      <th></th>\n",
       "      <th></th>\n",
       "      <th></th>\n",
       "      <th></th>\n",
       "      <th></th>\n",
       "    </tr>\n",
       "  </thead>\n",
       "  <tbody>\n",
       "    <tr>\n",
       "      <th>2010-06-23</th>\n",
       "      <td>26.930000</td>\n",
       "      <td>28.549999</td>\n",
       "      <td>26.540001</td>\n",
       "      <td>26.910000</td>\n",
       "      <td>26.910000</td>\n",
       "      <td>0</td>\n",
       "    </tr>\n",
       "    <tr>\n",
       "      <th>2010-06-24</th>\n",
       "      <td>27.610001</td>\n",
       "      <td>30.270000</td>\n",
       "      <td>27.530001</td>\n",
       "      <td>29.740000</td>\n",
       "      <td>29.740000</td>\n",
       "      <td>0</td>\n",
       "    </tr>\n",
       "    <tr>\n",
       "      <th>2010-06-25</th>\n",
       "      <td>29.639999</td>\n",
       "      <td>30.410000</td>\n",
       "      <td>28.070000</td>\n",
       "      <td>28.530001</td>\n",
       "      <td>28.530001</td>\n",
       "      <td>0</td>\n",
       "    </tr>\n",
       "    <tr>\n",
       "      <th>2010-06-28</th>\n",
       "      <td>29.200001</td>\n",
       "      <td>29.900000</td>\n",
       "      <td>28.469999</td>\n",
       "      <td>29.000000</td>\n",
       "      <td>29.000000</td>\n",
       "      <td>0</td>\n",
       "    </tr>\n",
       "    <tr>\n",
       "      <th>2010-06-29</th>\n",
       "      <td>31.219999</td>\n",
       "      <td>35.389999</td>\n",
       "      <td>31.219999</td>\n",
       "      <td>34.130001</td>\n",
       "      <td>34.130001</td>\n",
       "      <td>0</td>\n",
       "    </tr>\n",
       "  </tbody>\n",
       "</table>\n",
       "</div>"
      ],
      "text/plain": [
       "                 Open       High        Low      Close  Adj Close  Volume\n",
       "Date                                                                     \n",
       "2010-06-23  26.930000  28.549999  26.540001  26.910000  26.910000       0\n",
       "2010-06-24  27.610001  30.270000  27.530001  29.740000  29.740000       0\n",
       "2010-06-25  29.639999  30.410000  28.070000  28.530001  28.530001       0\n",
       "2010-06-28  29.200001  29.900000  28.469999  29.000000  29.000000       0\n",
       "2010-06-29  31.219999  35.389999  31.219999  34.130001  34.130001       0"
      ]
     },
     "execution_count": 59,
     "metadata": {},
     "output_type": "execute_result"
    }
   ],
   "source": [
    "#I chose to train my model on 10 years of data\n",
    "training = index_df['2010-06-23':'2020-06-01'].copy()\n",
    "training.head()"
   ]
  },
  {
   "cell_type": "code",
   "execution_count": 60,
   "metadata": {},
   "outputs": [
    {
     "data": {
      "text/html": [
       "<div>\n",
       "<style scoped>\n",
       "    .dataframe tbody tr th:only-of-type {\n",
       "        vertical-align: middle;\n",
       "    }\n",
       "\n",
       "    .dataframe tbody tr th {\n",
       "        vertical-align: top;\n",
       "    }\n",
       "\n",
       "    .dataframe thead th {\n",
       "        text-align: right;\n",
       "    }\n",
       "</style>\n",
       "<table border=\"1\" class=\"dataframe\">\n",
       "  <thead>\n",
       "    <tr style=\"text-align: right;\">\n",
       "      <th></th>\n",
       "      <th>Open</th>\n",
       "      <th>High</th>\n",
       "      <th>Low</th>\n",
       "      <th>Close</th>\n",
       "      <th>Adj Close</th>\n",
       "      <th>Volume</th>\n",
       "    </tr>\n",
       "    <tr>\n",
       "      <th>Date</th>\n",
       "      <th></th>\n",
       "      <th></th>\n",
       "      <th></th>\n",
       "      <th></th>\n",
       "      <th></th>\n",
       "      <th></th>\n",
       "    </tr>\n",
       "  </thead>\n",
       "  <tbody>\n",
       "    <tr>\n",
       "      <th>2020-06-01</th>\n",
       "      <td>28.940001</td>\n",
       "      <td>30.60</td>\n",
       "      <td>28.110001</td>\n",
       "      <td>28.230000</td>\n",
       "      <td>28.230000</td>\n",
       "      <td>0</td>\n",
       "    </tr>\n",
       "    <tr>\n",
       "      <th>2020-06-02</th>\n",
       "      <td>28.400000</td>\n",
       "      <td>28.52</td>\n",
       "      <td>26.660000</td>\n",
       "      <td>26.840000</td>\n",
       "      <td>26.840000</td>\n",
       "      <td>0</td>\n",
       "    </tr>\n",
       "    <tr>\n",
       "      <th>2020-06-03</th>\n",
       "      <td>26.750000</td>\n",
       "      <td>26.98</td>\n",
       "      <td>25.040001</td>\n",
       "      <td>25.660000</td>\n",
       "      <td>25.660000</td>\n",
       "      <td>0</td>\n",
       "    </tr>\n",
       "    <tr>\n",
       "      <th>2020-06-04</th>\n",
       "      <td>26.230000</td>\n",
       "      <td>26.43</td>\n",
       "      <td>24.379999</td>\n",
       "      <td>25.809999</td>\n",
       "      <td>25.809999</td>\n",
       "      <td>0</td>\n",
       "    </tr>\n",
       "    <tr>\n",
       "      <th>2020-06-05</th>\n",
       "      <td>24.790001</td>\n",
       "      <td>25.09</td>\n",
       "      <td>23.540001</td>\n",
       "      <td>24.520000</td>\n",
       "      <td>24.520000</td>\n",
       "      <td>0</td>\n",
       "    </tr>\n",
       "  </tbody>\n",
       "</table>\n",
       "</div>"
      ],
      "text/plain": [
       "                 Open   High        Low      Close  Adj Close  Volume\n",
       "Date                                                                 \n",
       "2020-06-01  28.940001  30.60  28.110001  28.230000  28.230000       0\n",
       "2020-06-02  28.400000  28.52  26.660000  26.840000  26.840000       0\n",
       "2020-06-03  26.750000  26.98  25.040001  25.660000  25.660000       0\n",
       "2020-06-04  26.230000  26.43  24.379999  25.809999  25.809999       0\n",
       "2020-06-05  24.790001  25.09  23.540001  24.520000  24.520000       0"
      ]
     },
     "execution_count": 60,
     "metadata": {},
     "output_type": "execute_result"
    }
   ],
   "source": [
    "#I chose to test my model's performance on data from 1st June 2020\n",
    "testing = index_df['2020-06-01':].copy()\n",
    "testing.head()"
   ]
  },
  {
   "cell_type": "code",
   "execution_count": 61,
   "metadata": {},
   "outputs": [],
   "source": [
    "#dropping Volume \n",
    "train = training.drop(['Volume'],axis = 1)"
   ]
  },
  {
   "cell_type": "code",
   "execution_count": 62,
   "metadata": {},
   "outputs": [
    {
     "data": {
      "text/plain": [
       "array([[0.24321389, 0.25262603, 0.29089144, 0.24160434, 0.24160434],\n",
       "       [0.252443  , 0.27521008, 0.30690827, 0.28008157, 0.28008157],\n",
       "       [0.27999455, 0.27704832, 0.3156447 , 0.26363019, 0.26363019],\n",
       "       ...,\n",
       "       [0.25529315, 0.27022057, 0.30529039, 0.26444595, 0.26444595],\n",
       "       [0.27538   , 0.27376575, 0.3030254 , 0.24976206, 0.24976206],\n",
       "       [0.27049403, 0.27954306, 0.31629186, 0.25955132, 0.25955132]])"
      ]
     },
     "execution_count": 62,
     "metadata": {},
     "output_type": "execute_result"
    }
   ],
   "source": [
    "#scaling the data to pass it through the model \n",
    "scaler = MinMaxScaler()\n",
    "train = scaler.fit_transform(train)\n",
    "train"
   ]
  },
  {
   "cell_type": "code",
   "execution_count": 63,
   "metadata": {},
   "outputs": [],
   "source": [
    "#Creating two empty lists that will be used to create training variables \n",
    "X_train = []\n",
    "y_train = []"
   ]
  },
  {
   "cell_type": "code",
   "execution_count": 64,
   "metadata": {},
   "outputs": [],
   "source": [
    "# Creating loop that iteratetes through the df and grabbes next sets of 30 days of values. \n",
    "#Use these sets to predict 1 day ahead.\n",
    "for i in range(30,train.shape[0]):\n",
    "    X_train.append(train[i-30:i])\n",
    "    y_train.append(train[i,0])"
   ]
  },
  {
   "cell_type": "code",
   "execution_count": 65,
   "metadata": {},
   "outputs": [],
   "source": [
    "# Turning X & Y trains into arrays for the model take it \n",
    "X_train,y_train = np.array(X_train), np.array(y_train)"
   ]
  },
  {
   "cell_type": "code",
   "execution_count": 66,
   "metadata": {},
   "outputs": [
    {
     "data": {
      "text/plain": [
       "((2472, 30, 5), (2472,))"
      ]
     },
     "execution_count": 66,
     "metadata": {},
     "output_type": "execute_result"
    }
   ],
   "source": [
    "#Sanity Check to see whether X & Y variables have the right shape\n",
    "X_train.shape, y_train.shape"
   ]
  },
  {
   "cell_type": "code",
   "execution_count": 67,
   "metadata": {},
   "outputs": [],
   "source": [
    "#Because this model uses the past 30 days to predict 1 day into the future we need to add the 60 days previous from 2018 to get the first day of 2019. \n",
    "#we are taking the last 30 days of our training data and making a new datafrane\n",
    "past_30_days = training.tail(30)"
   ]
  },
  {
   "cell_type": "code",
   "execution_count": 68,
   "metadata": {},
   "outputs": [
    {
     "data": {
      "text/html": [
       "<div>\n",
       "<style scoped>\n",
       "    .dataframe tbody tr th:only-of-type {\n",
       "        vertical-align: middle;\n",
       "    }\n",
       "\n",
       "    .dataframe tbody tr th {\n",
       "        vertical-align: top;\n",
       "    }\n",
       "\n",
       "    .dataframe thead th {\n",
       "        text-align: right;\n",
       "    }\n",
       "</style>\n",
       "<table border=\"1\" class=\"dataframe\">\n",
       "  <thead>\n",
       "    <tr style=\"text-align: right;\">\n",
       "      <th></th>\n",
       "      <th>Open</th>\n",
       "      <th>High</th>\n",
       "      <th>Low</th>\n",
       "      <th>Close</th>\n",
       "      <th>Adj Close</th>\n",
       "    </tr>\n",
       "    <tr>\n",
       "      <th>Date</th>\n",
       "      <th></th>\n",
       "      <th></th>\n",
       "      <th></th>\n",
       "      <th></th>\n",
       "      <th></th>\n",
       "    </tr>\n",
       "  </thead>\n",
       "  <tbody>\n",
       "    <tr>\n",
       "      <th>2020-04-20</th>\n",
       "      <td>40.680000</td>\n",
       "      <td>43.830002</td>\n",
       "      <td>39.880001</td>\n",
       "      <td>43.830002</td>\n",
       "      <td>43.830002</td>\n",
       "    </tr>\n",
       "    <tr>\n",
       "      <th>2020-04-21</th>\n",
       "      <td>44.279999</td>\n",
       "      <td>47.770000</td>\n",
       "      <td>43.770000</td>\n",
       "      <td>45.410000</td>\n",
       "      <td>45.410000</td>\n",
       "    </tr>\n",
       "    <tr>\n",
       "      <th>2020-04-22</th>\n",
       "      <td>44.910000</td>\n",
       "      <td>45.070000</td>\n",
       "      <td>41.410000</td>\n",
       "      <td>41.980000</td>\n",
       "      <td>41.980000</td>\n",
       "    </tr>\n",
       "    <tr>\n",
       "      <th>2020-04-23</th>\n",
       "      <td>41.299999</td>\n",
       "      <td>42.470001</td>\n",
       "      <td>39.060001</td>\n",
       "      <td>41.380001</td>\n",
       "      <td>41.380001</td>\n",
       "    </tr>\n",
       "    <tr>\n",
       "      <th>2020-04-24</th>\n",
       "      <td>38.799999</td>\n",
       "      <td>40.169998</td>\n",
       "      <td>35.599998</td>\n",
       "      <td>35.930000</td>\n",
       "      <td>35.930000</td>\n",
       "    </tr>\n",
       "  </tbody>\n",
       "</table>\n",
       "</div>"
      ],
      "text/plain": [
       "                 Open       High        Low      Close  Adj Close\n",
       "Date                                                             \n",
       "2020-04-20  40.680000  43.830002  39.880001  43.830002  43.830002\n",
       "2020-04-21  44.279999  47.770000  43.770000  45.410000  45.410000\n",
       "2020-04-22  44.910000  45.070000  41.410000  41.980000  41.980000\n",
       "2020-04-23  41.299999  42.470001  39.060001  41.380001  41.380001\n",
       "2020-04-24  38.799999  40.169998  35.599998  35.930000  35.930000"
      ]
     },
     "execution_count": 68,
     "metadata": {},
     "output_type": "execute_result"
    }
   ],
   "source": [
    "#Here we are adding testing data to the df we just created and dropping the Adj Close column\n",
    "dff = past_30_days.append(testing)\n",
    "dff = dff.drop(['Volume'],axis = 1)\n",
    "dff.head()"
   ]
  },
  {
   "cell_type": "code",
   "execution_count": 69,
   "metadata": {},
   "outputs": [
    {
     "data": {
      "text/plain": [
       "array([[0.42983169, 0.45325632, 0.50671412, 0.47165195, 0.47165195],\n",
       "       [0.47869161, 0.50498949, 0.5696489 , 0.49313391, 0.49313391],\n",
       "       [0.48724211, 0.46953781, 0.53146737, 0.44649897, 0.44649897],\n",
       "       [0.43824645, 0.43539917, 0.49344765, 0.43834127, 0.43834127],\n",
       "       [0.40431594, 0.40519955, 0.43746961, 0.364242  , 0.364242  ],\n",
       "       [0.37024973, 0.35622372, 0.3874777 , 0.32834807, 0.32834807],\n",
       "       [0.32844732, 0.34243696, 0.35560589, 0.33215499, 0.33215499],\n",
       "       [0.31853962, 0.3135504 , 0.35835622, 0.3003399 , 0.3003399 ],\n",
       "       [0.29831704, 0.3496586 , 0.36191553, 0.34004081, 0.34004081],\n",
       "       [0.39576543, 0.39732142, 0.45348647, 0.38137319, 0.38137319],\n",
       "       [0.40879479, 0.40716911, 0.43633712, 0.36478586, 0.36478586],\n",
       "       [0.35029858, 0.35333509, 0.37841773, 0.33269885, 0.33269885],\n",
       "       [0.32138977, 0.34637603, 0.37404949, 0.33963288, 0.33963288],\n",
       "       [0.31365362, 0.30160187, 0.35285552, 0.30319511, 0.30319511],\n",
       "       [0.28678065, 0.2767857 , 0.31273254, 0.25615227, 0.25615227],\n",
       "       [0.26397935, 0.29083507, 0.29784821, 0.25057783, 0.25057783],\n",
       "       [0.26411507, 0.31158089, 0.28215498, 0.32494902, 0.32494902],\n",
       "       [0.32206842, 0.36909136, 0.35932695, 0.35540446, 0.35540446],\n",
       "       [0.35491313, 0.39351364, 0.38456562, 0.31910266, 0.31910266],\n",
       "       [0.31881107, 0.33902312, 0.36369519, 0.30931337, 0.30931337],\n",
       "       [0.29451681, 0.28584558, 0.32017471, 0.27409923, 0.27409923],\n",
       "       [0.26764386, 0.2813813 , 0.3204983 , 0.29082258, 0.29082258],\n",
       "       [0.2783659 , 0.26943277, 0.31176184, 0.25628823, 0.25628823],\n",
       "       [0.27090117, 0.27429098, 0.30917326, 0.27722638, 0.27722638],\n",
       "       [0.30333877, 0.29201679, 0.31499757, 0.25859959, 0.25859959],\n",
       "       [0.25393592, 0.25301995, 0.30124574, 0.25656016, 0.25656016],\n",
       "       [0.25257873, 0.27862396, 0.28086069, 0.25125765, 0.25125765],\n",
       "       [0.25529315, 0.27022057, 0.30529039, 0.26444595, 0.26444595],\n",
       "       [0.27538   , 0.27376575, 0.3030254 , 0.24976206, 0.24976206],\n",
       "       [0.27049403, 0.27954306, 0.31629186, 0.25955132, 0.25955132],\n",
       "       [0.27049403, 0.27954306, 0.31629186, 0.25955132, 0.25955132],\n",
       "       [0.26316503, 0.25223214, 0.29283286, 0.24065261, 0.24065261],\n",
       "       [0.24077089, 0.23201155, 0.26662353, 0.2246091 , 0.2246091 ],\n",
       "       [0.23371335, 0.22478991, 0.25594561, 0.22664852, 0.22664852],\n",
       "       [0.21416939, 0.20719538, 0.24235561, 0.20910944, 0.20910944],\n",
       "       [0.22461996, 0.2188813 , 0.26031385, 0.22664852, 0.22664852],\n",
       "       [0.22964169, 0.24146535, 0.27746316, 0.25057783, 0.25057783],\n",
       "       [0.24049945, 0.25866596, 0.28312568, 0.25057783, 0.25057783],\n",
       "       [0.29098806, 0.43684351, 0.33861833, 0.43031951, 0.43031951],\n",
       "       [0.38911508, 0.45758928, 0.42727714, 0.36641739, 0.36641739],\n",
       "       [0.47611291, 0.46126574, 0.41611386, 0.34343985, 0.34343985],\n",
       "       [0.34296958, 0.3694853 , 0.37485842, 0.33351458, 0.33351458],\n",
       "       [0.32939737, 0.33954829, 0.3832713 , 0.33079538, 0.33079538],\n",
       "       [0.33686212, 0.35372899, 0.38310954, 0.32358937, 0.32358937],\n",
       "       [0.31297502, 0.33889179, 0.35334087, 0.35322907, 0.35322907],\n",
       "       [0.35572747, 0.34243696, 0.37340233, 0.30768184, 0.30768184],\n",
       "       [0.30808901, 0.29411763, 0.33489725, 0.30224338, 0.30224338]])"
      ]
     },
     "execution_count": 69,
     "metadata": {},
     "output_type": "execute_result"
    }
   ],
   "source": [
    "#Scaling the dataframe list created and turning it into an array \n",
    "inputs =scaler.transform(dff)\n",
    "inputs"
   ]
  },
  {
   "cell_type": "code",
   "execution_count": 70,
   "metadata": {},
   "outputs": [],
   "source": [
    "#Repeating what we did earlier \n",
    "#first create two lists X and Y \n",
    "#then create a for loop that iteraterates through our df and grabbes sets of 30 days of values. \n",
    "#we are then going to use these sets to predict 1 day ahead.\n",
    "X_test = []\n",
    "y_test = []\n",
    "\n",
    "for i in range(30, inputs.shape[0]):\n",
    "    X_test.append(inputs[i-30:i])\n",
    "    y_test.append(inputs[i,0])"
   ]
  },
  {
   "cell_type": "code",
   "execution_count": 71,
   "metadata": {},
   "outputs": [],
   "source": [
    "# we are turning our X & Y tests into arrays for the model\n",
    "X_test, y_test = np.array(X_test), np.array(y_test)"
   ]
  },
  {
   "cell_type": "markdown",
   "metadata": {},
   "source": [
    "# Baseline Model "
   ]
  },
  {
   "cell_type": "code",
   "execution_count": 72,
   "metadata": {},
   "outputs": [],
   "source": [
    "#First initialize model \n",
    "model1 = Sequential()\n",
    "#Then add  lstm layer - for base model I randomly inputed 60 units\n",
    "model1.add(LSTM(units = 60, activation='relu', input_shape=(X_train.shape[1],5)))\n",
    "#now we add out dense layer \n",
    "model1.add(Dense(1))"
   ]
  },
  {
   "cell_type": "code",
   "execution_count": 73,
   "metadata": {},
   "outputs": [
    {
     "name": "stdout",
     "output_type": "stream",
     "text": [
      "Model: \"sequential_2\"\n",
      "_________________________________________________________________\n",
      "Layer (type)                 Output Shape              Param #   \n",
      "=================================================================\n",
      "lstm_2 (LSTM)                (None, 60)                15840     \n",
      "_________________________________________________________________\n",
      "dense_2 (Dense)              (None, 1)                 61        \n",
      "=================================================================\n",
      "Total params: 15,901\n",
      "Trainable params: 15,901\n",
      "Non-trainable params: 0\n",
      "_________________________________________________________________\n"
     ]
    }
   ],
   "source": [
    "#Checking if model setup to specifications by using .summary()\n",
    "model1.summary()"
   ]
  },
  {
   "cell_type": "code",
   "execution_count": 74,
   "metadata": {},
   "outputs": [],
   "source": [
    "#Compiled my model using adam optimization and mean_squared_error for loss \n",
    "model1.compile(optimizer='adam', loss = 'mean_squared_error')"
   ]
  },
  {
   "cell_type": "code",
   "execution_count": 75,
   "metadata": {},
   "outputs": [
    {
     "name": "stdout",
     "output_type": "stream",
     "text": [
      "Epoch 1/10\n",
      "13/13 [==============================] - 0s 20ms/step - loss: 0.0247\n",
      "Epoch 2/10\n",
      "13/13 [==============================] - 0s 20ms/step - loss: 0.0050\n",
      "Epoch 3/10\n",
      "13/13 [==============================] - 0s 19ms/step - loss: 0.0022\n",
      "Epoch 4/10\n",
      "13/13 [==============================] - 0s 19ms/step - loss: 0.0015\n",
      "Epoch 5/10\n",
      "13/13 [==============================] - 0s 19ms/step - loss: 0.0012\n",
      "Epoch 6/10\n",
      "13/13 [==============================] - 0s 19ms/step - loss: 0.0010\n",
      "Epoch 7/10\n",
      "13/13 [==============================] - 0s 19ms/step - loss: 9.0822e-04\n",
      "Epoch 8/10\n",
      "13/13 [==============================] - 0s 19ms/step - loss: 8.2082e-04\n",
      "Epoch 9/10\n",
      "13/13 [==============================] - 0s 19ms/step - loss: 7.4025e-04\n",
      "Epoch 10/10\n",
      "13/13 [==============================] - 0s 19ms/step - loss: 6.9374e-04\n"
     ]
    },
    {
     "data": {
      "text/plain": [
       "<tensorflow.python.keras.callbacks.History at 0x14ed356d0>"
      ]
     },
     "execution_count": 75,
     "metadata": {},
     "output_type": "execute_result"
    }
   ],
   "source": [
    "#Fitting model using X and Y train, 10 epochs and a batch size of 200.\n",
    "model1.fit(X_train,y_train,epochs=10,batch_size=200)"
   ]
  },
  {
   "cell_type": "code",
   "execution_count": 76,
   "metadata": {},
   "outputs": [],
   "source": [
    "#Now use fitted model and pass through X_test and predict y_test.\n",
    "y_pred1 = model1.predict(X_test)"
   ]
  },
  {
   "cell_type": "code",
   "execution_count": 77,
   "metadata": {},
   "outputs": [
    {
     "data": {
      "text/plain": [
       "array([[0.2509489 ],\n",
       "       [0.25207517],\n",
       "       [0.24782294],\n",
       "       [0.2392227 ],\n",
       "       [0.23188677],\n",
       "       [0.22138155],\n",
       "       [0.21792755],\n",
       "       [0.22038856],\n",
       "       [0.22459418],\n",
       "       [0.26366165],\n",
       "       [0.29806885],\n",
       "       [0.32715407],\n",
       "       [0.33217728],\n",
       "       [0.33297345],\n",
       "       [0.33365408],\n",
       "       [0.3321827 ],\n",
       "       [0.33031145]], dtype=float32)"
      ]
     },
     "execution_count": 77,
     "metadata": {},
     "output_type": "execute_result"
    }
   ],
   "source": [
    "#checking output. We will need to scale data back to values for interpretation\n",
    "y_pred1"
   ]
  },
  {
   "cell_type": "code",
   "execution_count": 78,
   "metadata": {},
   "outputs": [
    {
     "data": {
      "text/plain": [
       "array([0.0135722 , 0.01313025, 0.01617861, 0.01359619, 0.01359619])"
      ]
     },
     "execution_count": 78,
     "metadata": {},
     "output_type": "execute_result"
    }
   ],
   "source": [
    "#using .scale_ on our scaler, take first value and use it to scale the pr \n",
    "scaler.scale_"
   ]
  },
  {
   "cell_type": "code",
   "execution_count": 79,
   "metadata": {},
   "outputs": [
    {
     "data": {
      "text/plain": [
       "73.6800223987268"
      ]
     },
     "execution_count": 79,
     "metadata": {},
     "output_type": "execute_result"
    }
   ],
   "source": [
    "# Here I am setting up my scale\n",
    "scale = 1/0.0135722\n",
    "scale"
   ]
  },
  {
   "cell_type": "code",
   "execution_count": 80,
   "metadata": {},
   "outputs": [],
   "source": [
    "# This function should stream line scaling,graphing, and evaluation process\n",
    "def ScaleGraphEval(y_pred,name):\n",
    "    #this scales prediction to normal values \n",
    "    y_pred=y_pred*scale\n",
    "    #now with normalized predictions one can graph them against actuals  \n",
    "    plt.figure(figsize=(18,5))\n",
    "    plt.plot(y_test, color = 'b', label = 'Actual VIX Value')\n",
    "    plt.plot(y_pred ,color ='r', label = 'Predicted VIX Value')\n",
    "    plt.title(name)\n",
    "    plt.xlabel('Time')\n",
    "    plt.ylabel('VIX Index Prediction')\n",
    "    plt.legend()\n",
    "    plt.show()\n",
    "    # Calculating the RMSE and display it at the bottom\n",
    "    rmse = math.sqrt(mean_squared_error(y_test, y_pred))\n",
    "    print('The RMSE of this Model is',rmse)"
   ]
  },
  {
   "cell_type": "code",
   "execution_count": 81,
   "metadata": {},
   "outputs": [],
   "source": [
    "#Scaling y_test data back to normal.\n",
    "y_test = y_test*scale"
   ]
  },
  {
   "cell_type": "code",
   "execution_count": 82,
   "metadata": {},
   "outputs": [
    {
     "data": {
      "image/png": "[encoded data removed]",
      "text/plain": [
       "<Figure size 1296x360 with 1 Axes>"
      ]
     },
     "metadata": {
      "needs_background": "light"
     },
     "output_type": "display_data"
    },
    {
     "name": "stdout",
     "output_type": "stream",
     "text": [
      "The RMSE of this Model is 4.192658494668473\n"
     ]
    }
   ],
   "source": [
    "ScaleGraphEval(y_pred1,'VIX Index 2020 Prediction [Base Model]')"
   ]
  },
  {
   "cell_type": "markdown",
   "metadata": {},
   "source": [
    "# Model 2 "
   ]
  },
  {
   "cell_type": "code",
   "execution_count": 83,
   "metadata": {},
   "outputs": [],
   "source": [
    "\n",
    "# This is my second model\n",
    "model2 = Sequential()\n",
    "# After some trials I found that setting my units to 110 gets me the best rmse score \n",
    "model2.add(LSTM(units = 110, activation='relu', input_shape=(X_train.shape[1],5)))\n",
    "\n",
    "model2.add(Dense(1))"
   ]
  },
  {
   "cell_type": "code",
   "execution_count": 84,
   "metadata": {},
   "outputs": [
    {
     "name": "stdout",
     "output_type": "stream",
     "text": [
      "Model: \"sequential_3\"\n",
      "_________________________________________________________________\n",
      "Layer (type)                 Output Shape              Param #   \n",
      "=================================================================\n",
      "lstm_3 (LSTM)                (None, 110)               51040     \n",
      "_________________________________________________________________\n",
      "dense_3 (Dense)              (None, 1)                 111       \n",
      "=================================================================\n",
      "Total params: 51,151\n",
      "Trainable params: 51,151\n",
      "Non-trainable params: 0\n",
      "_________________________________________________________________\n"
     ]
    }
   ],
   "source": [
    "\n",
    "#Here I see that my model is set up properly \n",
    "model2.summary()"
   ]
  },
  {
   "cell_type": "code",
   "execution_count": 85,
   "metadata": {},
   "outputs": [
    {
     "name": "stdout",
     "output_type": "stream",
     "text": [
      "Epoch 1/80\n",
      "50/50 [==============================] - 1s 13ms/step - loss: 0.0055\n",
      "Epoch 2/80\n",
      "50/50 [==============================] - 1s 13ms/step - loss: 8.0297e-04\n",
      "Epoch 3/80\n",
      "50/50 [==============================] - 1s 13ms/step - loss: 6.8760e-04\n",
      "Epoch 4/80\n",
      "50/50 [==============================] - 1s 13ms/step - loss: 5.8650e-04\n",
      "Epoch 5/80\n",
      "50/50 [==============================] - 1s 13ms/step - loss: 5.0676e-04\n",
      "Epoch 6/80\n",
      "50/50 [==============================] - 1s 13ms/step - loss: 4.7238e-04\n",
      "Epoch 7/80\n",
      "50/50 [==============================] - 1s 13ms/step - loss: 4.2575e-04\n",
      "Epoch 8/80\n",
      "50/50 [==============================] - 1s 13ms/step - loss: 3.8649e-04\n",
      "Epoch 9/80\n",
      "50/50 [==============================] - 1s 13ms/step - loss: 4.0303e-04\n",
      "Epoch 10/80\n",
      "50/50 [==============================] - 1s 13ms/step - loss: 3.5289e-04\n",
      "Epoch 11/80\n",
      "50/50 [==============================] - 1s 13ms/step - loss: 3.0952e-04\n",
      "Epoch 12/80\n",
      "50/50 [==============================] - 1s 13ms/step - loss: 3.2653e-04\n",
      "Epoch 13/80\n",
      "50/50 [==============================] - 1s 13ms/step - loss: 2.8442e-04\n",
      "Epoch 14/80\n",
      "50/50 [==============================] - 1s 13ms/step - loss: 2.8204e-04\n",
      "Epoch 15/80\n",
      "50/50 [==============================] - 1s 13ms/step - loss: 2.6615e-04\n",
      "Epoch 16/80\n",
      "50/50 [==============================] - 1s 12ms/step - loss: 2.4548e-04\n",
      "Epoch 17/80\n",
      "50/50 [==============================] - 1s 12ms/step - loss: 2.7402e-04\n",
      "Epoch 18/80\n",
      "50/50 [==============================] - 1s 12ms/step - loss: 2.4471e-04\n",
      "Epoch 19/80\n",
      "50/50 [==============================] - 1s 12ms/step - loss: 2.6220e-04\n",
      "Epoch 20/80\n",
      "50/50 [==============================] - 1s 12ms/step - loss: 2.3929e-04\n",
      "Epoch 21/80\n",
      "50/50 [==============================] - 1s 12ms/step - loss: 2.3580e-04\n",
      "Epoch 22/80\n",
      "50/50 [==============================] - 1s 12ms/step - loss: 2.1949e-04\n",
      "Epoch 23/80\n",
      "50/50 [==============================] - 1s 13ms/step - loss: 2.3255e-04\n",
      "Epoch 24/80\n",
      "50/50 [==============================] - 1s 13ms/step - loss: 2.2928e-04\n",
      "Epoch 25/80\n",
      "50/50 [==============================] - 1s 13ms/step - loss: 2.2308e-04\n",
      "Epoch 26/80\n",
      "50/50 [==============================] - 1s 13ms/step - loss: 2.1638e-04\n",
      "Epoch 27/80\n",
      "50/50 [==============================] - 1s 13ms/step - loss: 2.1972e-04\n",
      "Epoch 28/80\n",
      "50/50 [==============================] - 1s 13ms/step - loss: 2.0366e-04\n",
      "Epoch 29/80\n",
      "50/50 [==============================] - 1s 12ms/step - loss: 2.2856e-04\n",
      "Epoch 30/80\n",
      "50/50 [==============================] - 1s 12ms/step - loss: 2.5088e-04\n",
      "Epoch 31/80\n",
      "50/50 [==============================] - 1s 13ms/step - loss: 2.1410e-04\n",
      "Epoch 32/80\n",
      "50/50 [==============================] - 1s 15ms/step - loss: 2.0484e-04\n",
      "Epoch 33/80\n",
      "50/50 [==============================] - 1s 12ms/step - loss: 2.2604e-04\n",
      "Epoch 34/80\n",
      "50/50 [==============================] - 1s 12ms/step - loss: 2.0161e-04\n",
      "Epoch 35/80\n",
      "50/50 [==============================] - 1s 13ms/step - loss: 2.0504e-04\n",
      "Epoch 36/80\n",
      "50/50 [==============================] - 1s 13ms/step - loss: 2.1429e-04\n",
      "Epoch 37/80\n",
      "50/50 [==============================] - 1s 15ms/step - loss: 2.0450e-04\n",
      "Epoch 38/80\n",
      "50/50 [==============================] - 1s 13ms/step - loss: 2.2117e-04\n",
      "Epoch 39/80\n",
      "50/50 [==============================] - 1s 14ms/step - loss: 2.1314e-04\n",
      "Epoch 40/80\n",
      "50/50 [==============================] - 1s 13ms/step - loss: 2.0032e-04\n",
      "Epoch 41/80\n",
      "50/50 [==============================] - 1s 13ms/step - loss: 1.9495e-04\n",
      "Epoch 42/80\n",
      "50/50 [==============================] - 1s 13ms/step - loss: 2.0232e-04\n",
      "Epoch 43/80\n",
      "50/50 [==============================] - 1s 13ms/step - loss: 1.8983e-04\n",
      "Epoch 44/80\n",
      "50/50 [==============================] - 1s 13ms/step - loss: 1.9793e-04\n",
      "Epoch 45/80\n",
      "50/50 [==============================] - 1s 13ms/step - loss: 1.9109e-04\n",
      "Epoch 46/80\n",
      "50/50 [==============================] - 1s 13ms/step - loss: 1.9309e-04\n",
      "Epoch 47/80\n",
      "50/50 [==============================] - 1s 13ms/step - loss: 1.9349e-04\n",
      "Epoch 48/80\n",
      "50/50 [==============================] - 1s 13ms/step - loss: 1.8649e-04\n",
      "Epoch 49/80\n",
      "50/50 [==============================] - 1s 13ms/step - loss: 1.9487e-04\n",
      "Epoch 50/80\n",
      "50/50 [==============================] - 1s 13ms/step - loss: 1.9142e-04\n",
      "Epoch 51/80\n",
      "50/50 [==============================] - 1s 13ms/step - loss: 1.9800e-04\n",
      "Epoch 52/80\n",
      "50/50 [==============================] - 1s 13ms/step - loss: 1.9149e-04\n",
      "Epoch 53/80\n",
      "50/50 [==============================] - 1s 13ms/step - loss: 1.9058e-04\n",
      "Epoch 54/80\n",
      "50/50 [==============================] - 1s 13ms/step - loss: 2.1212e-04\n",
      "Epoch 55/80\n",
      "50/50 [==============================] - 1s 13ms/step - loss: 1.8860e-04\n",
      "Epoch 56/80\n",
      "50/50 [==============================] - 1s 13ms/step - loss: 1.8814e-04\n",
      "Epoch 57/80\n",
      "50/50 [==============================] - 1s 13ms/step - loss: 1.9485e-04\n",
      "Epoch 58/80\n",
      "50/50 [==============================] - 1s 13ms/step - loss: 1.8641e-04\n",
      "Epoch 59/80\n",
      "50/50 [==============================] - 1s 13ms/step - loss: 1.8315e-04\n",
      "Epoch 60/80\n",
      "50/50 [==============================] - 1s 13ms/step - loss: 1.9266e-04\n",
      "Epoch 61/80\n",
      "50/50 [==============================] - 1s 14ms/step - loss: 1.8951e-04\n",
      "Epoch 62/80\n",
      "50/50 [==============================] - 1s 13ms/step - loss: 1.8820e-04\n",
      "Epoch 63/80\n",
      "50/50 [==============================] - 1s 13ms/step - loss: 1.8500e-04\n",
      "Epoch 64/80\n",
      "50/50 [==============================] - 1s 13ms/step - loss: 1.9572e-04\n",
      "Epoch 65/80\n",
      "50/50 [==============================] - 1s 13ms/step - loss: 2.1525e-04\n",
      "Epoch 66/80\n",
      "50/50 [==============================] - 1s 13ms/step - loss: 1.8453e-04\n",
      "Epoch 67/80\n",
      "50/50 [==============================] - 1s 13ms/step - loss: 1.8414e-04\n",
      "Epoch 68/80\n",
      "50/50 [==============================] - 1s 14ms/step - loss: 1.8328e-04\n",
      "Epoch 69/80\n",
      "50/50 [==============================] - 1s 13ms/step - loss: 1.9006e-04\n",
      "Epoch 70/80\n",
      "50/50 [==============================] - 1s 13ms/step - loss: 1.8418e-04\n",
      "Epoch 71/80\n",
      "50/50 [==============================] - 1s 13ms/step - loss: 1.8539e-04\n",
      "Epoch 72/80\n",
      "50/50 [==============================] - 1s 13ms/step - loss: 1.9305e-04\n",
      "Epoch 73/80\n",
      "50/50 [==============================] - 1s 13ms/step - loss: 1.8144e-04\n",
      "Epoch 74/80\n",
      "50/50 [==============================] - 1s 13ms/step - loss: 1.8201e-04\n",
      "Epoch 75/80\n",
      "50/50 [==============================] - 1s 13ms/step - loss: 1.8202e-04\n",
      "Epoch 76/80\n",
      "50/50 [==============================] - 1s 13ms/step - loss: 1.8154e-04\n",
      "Epoch 77/80\n",
      "50/50 [==============================] - 1s 14ms/step - loss: 1.9645e-04\n",
      "Epoch 78/80\n",
      "50/50 [==============================] - 1s 13ms/step - loss: 1.8479e-04\n",
      "Epoch 79/80\n",
      "50/50 [==============================] - 1s 13ms/step - loss: 1.8300e-04\n",
      "Epoch 80/80\n",
      "50/50 [==============================] - 1s 13ms/step - loss: 1.7854e-04\n"
     ]
    },
    {
     "data": {
      "text/plain": [
       "<tensorflow.python.keras.callbacks.History at 0x14f5a4a50>"
      ]
     },
     "execution_count": 85,
     "metadata": {},
     "output_type": "execute_result"
    }
   ],
   "source": [
    "model2.compile(optimizer='adam', loss = 'mean_squared_error')\n",
    "# After a few trials I found that increaseing my epochs to 80 and reducing my batch size to 50 gave me a lower rmse \n",
    "model2.fit(X_train,y_train,epochs=80,batch_size=50)"
   ]
  },
  {
   "cell_type": "code",
   "execution_count": 87,
   "metadata": {},
   "outputs": [
    {
     "data": {
      "text/plain": [
       "array([[0.27066427],\n",
       "       [0.26803184],\n",
       "       [0.24611877],\n",
       "       [0.2293648 ],\n",
       "       [0.22958381],\n",
       "       [0.21120194],\n",
       "       [0.23110576],\n",
       "       [0.25356185],\n",
       "       [0.25420913],\n",
       "       [0.4160551 ],\n",
       "       [0.36492446],\n",
       "       [0.36509565],\n",
       "       [0.3469643 ],\n",
       "       [0.3394318 ],\n",
       "       [0.33580813],\n",
       "       [0.3560135 ],\n",
       "       [0.31388196]], dtype=float32)"
      ]
     },
     "execution_count": 87,
     "metadata": {},
     "output_type": "execute_result"
    }
   ],
   "source": [
    "y_pred2 = model2.predict(X_test)\n",
    "y_pred2"
   ]
  },
  {
   "cell_type": "code",
   "execution_count": 88,
   "metadata": {},
   "outputs": [
    {
     "data": {
      "image/png": "[encoded data removed]",
      "text/plain": [
       "<Figure size 1296x360 with 1 Axes>"
      ]
     },
     "metadata": {
      "needs_background": "light"
     },
     "output_type": "display_data"
    },
    {
     "name": "stdout",
     "output_type": "stream",
     "text": [
      "The RMSE of this Model is 2.2928526851777185\n"
     ]
    }
   ],
   "source": [
    "ScaleGraphEval(y_pred2,'VIX Index 2020 Prediction [Model#2]')\n",
    "#Here we got an RMSE of 2.28 though I suspect that there is an over fitting problem"
   ]
  },
  {
   "cell_type": "markdown",
   "metadata": {},
   "source": [
    "# Model 3 "
   ]
  },
  {
   "cell_type": "code",
   "execution_count": 90,
   "metadata": {},
   "outputs": [],
   "source": [
    "model3 = Sequential()\n",
    "#In this model I am adding a second layer to see how the results vary \n",
    "model3.add(LSTM(units = 110, activation='relu',return_sequences = True, input_shape=(X_train.shape[1],5)))\n",
    "model3.add(Dropout(0.2))\n",
    "#After some experimination and research I found that lowering the number of units in my second layer increases performance \n",
    "model3.add(LSTM(units = 80, activation='relu'))\n",
    "model3.add(Dropout(0.2))\n",
    "#I added droupout of .2 to each layer to solve my overfitting problem \n",
    "model3.add(Dense(1))"
   ]
  },
  {
   "cell_type": "code",
   "execution_count": 91,
   "metadata": {},
   "outputs": [
    {
     "name": "stdout",
     "output_type": "stream",
     "text": [
      "Model: \"sequential_5\"\n",
      "_________________________________________________________________\n",
      "Layer (type)                 Output Shape              Param #   \n",
      "=================================================================\n",
      "lstm_6 (LSTM)                (None, 30, 110)           51040     \n",
      "_________________________________________________________________\n",
      "dropout_2 (Dropout)          (None, 30, 110)           0         \n",
      "_________________________________________________________________\n",
      "lstm_7 (LSTM)                (None, 80)                61120     \n",
      "_________________________________________________________________\n",
      "dropout_3 (Dropout)          (None, 80)                0         \n",
      "_________________________________________________________________\n",
      "dense_5 (Dense)              (None, 1)                 81        \n",
      "=================================================================\n",
      "Total params: 112,241\n",
      "Trainable params: 112,241\n",
      "Non-trainable params: 0\n",
      "_________________________________________________________________\n"
     ]
    }
   ],
   "source": [
    "# checking if model is set up exactly to specifications \n",
    "model3.summary()"
   ]
  },
  {
   "cell_type": "code",
   "execution_count": 92,
   "metadata": {},
   "outputs": [
    {
     "name": "stdout",
     "output_type": "stream",
     "text": [
      "Epoch 1/80\n",
      "50/50 [==============================] - 1s 26ms/step - loss: 0.0033\n",
      "Epoch 2/80\n",
      "50/50 [==============================] - 1s 24ms/step - loss: 0.0015\n",
      "Epoch 3/80\n",
      "50/50 [==============================] - 1s 24ms/step - loss: 0.0013\n",
      "Epoch 4/80\n",
      "50/50 [==============================] - 1s 24ms/step - loss: 0.0012\n",
      "Epoch 5/80\n",
      "50/50 [==============================] - 1s 24ms/step - loss: 0.0011\n",
      "Epoch 6/80\n",
      "50/50 [==============================] - 1s 24ms/step - loss: 9.3294e-04\n",
      "Epoch 7/80\n",
      "50/50 [==============================] - 1s 24ms/step - loss: 0.0010\n",
      "Epoch 8/80\n",
      "50/50 [==============================] - 1s 24ms/step - loss: 9.0833e-04\n",
      "Epoch 9/80\n",
      "50/50 [==============================] - 1s 24ms/step - loss: 8.9538e-04\n",
      "Epoch 10/80\n",
      "50/50 [==============================] - 1s 26ms/step - loss: 8.5653e-04\n",
      "Epoch 11/80\n",
      "50/50 [==============================] - 1s 25ms/step - loss: 7.5023e-04\n",
      "Epoch 12/80\n",
      "50/50 [==============================] - 1s 25ms/step - loss: 7.5352e-04\n",
      "Epoch 13/80\n",
      "50/50 [==============================] - 1s 25ms/step - loss: 7.3381e-04\n",
      "Epoch 14/80\n",
      "50/50 [==============================] - 1s 25ms/step - loss: 7.1684e-04\n",
      "Epoch 15/80\n",
      "50/50 [==============================] - 1s 26ms/step - loss: 6.8635e-04\n",
      "Epoch 16/80\n",
      "50/50 [==============================] - 1s 25ms/step - loss: 6.4415e-04\n",
      "Epoch 17/80\n",
      "50/50 [==============================] - 1s 25ms/step - loss: 6.3202e-04\n",
      "Epoch 18/80\n",
      "50/50 [==============================] - 1s 25ms/step - loss: 5.9270e-04\n",
      "Epoch 19/80\n",
      "50/50 [==============================] - 1s 24ms/step - loss: 6.1779e-04\n",
      "Epoch 20/80\n",
      "50/50 [==============================] - 1s 24ms/step - loss: 5.3960e-04\n",
      "Epoch 21/80\n",
      "50/50 [==============================] - 1s 26ms/step - loss: 5.2257e-04\n",
      "Epoch 22/80\n",
      "50/50 [==============================] - 1s 24ms/step - loss: 5.6246e-04\n",
      "Epoch 23/80\n",
      "50/50 [==============================] - 1s 24ms/step - loss: 5.6770e-04\n",
      "Epoch 24/80\n",
      "50/50 [==============================] - 1s 24ms/step - loss: 6.7239e-04\n",
      "Epoch 25/80\n",
      "50/50 [==============================] - 1s 24ms/step - loss: 5.1526e-04\n",
      "Epoch 26/80\n",
      "50/50 [==============================] - 1s 24ms/step - loss: 5.4919e-04\n",
      "Epoch 27/80\n",
      "50/50 [==============================] - 1s 24ms/step - loss: 5.4627e-04\n",
      "Epoch 28/80\n",
      "50/50 [==============================] - 1s 23ms/step - loss: 5.6365e-04\n",
      "Epoch 29/80\n",
      "50/50 [==============================] - 1s 23ms/step - loss: 4.8664e-04\n",
      "Epoch 30/80\n",
      "50/50 [==============================] - 1s 23ms/step - loss: 4.7740e-04\n",
      "Epoch 31/80\n",
      "50/50 [==============================] - 1s 23ms/step - loss: 5.3996e-04\n",
      "Epoch 32/80\n",
      "50/50 [==============================] - 1s 23ms/step - loss: 5.3506e-04\n",
      "Epoch 33/80\n",
      "50/50 [==============================] - 1s 23ms/step - loss: 4.7650e-04\n",
      "Epoch 34/80\n",
      "50/50 [==============================] - 1s 23ms/step - loss: 4.6595e-04\n",
      "Epoch 35/80\n",
      "50/50 [==============================] - 1s 23ms/step - loss: 5.1296e-04\n",
      "Epoch 36/80\n",
      "50/50 [==============================] - 1s 23ms/step - loss: 4.4114e-04\n",
      "Epoch 37/80\n",
      "50/50 [==============================] - 1s 23ms/step - loss: 4.6033e-04\n",
      "Epoch 38/80\n",
      "50/50 [==============================] - 1s 23ms/step - loss: 4.3179e-04\n",
      "Epoch 39/80\n",
      "50/50 [==============================] - 1s 23ms/step - loss: 4.2972e-04\n",
      "Epoch 40/80\n",
      "50/50 [==============================] - 1s 24ms/step - loss: 4.8274e-04\n",
      "Epoch 41/80\n",
      "50/50 [==============================] - 1s 23ms/step - loss: 4.0027e-04\n",
      "Epoch 42/80\n",
      "50/50 [==============================] - 1s 24ms/step - loss: 4.3727e-04\n",
      "Epoch 43/80\n",
      "50/50 [==============================] - 1s 23ms/step - loss: 4.3279e-04\n",
      "Epoch 44/80\n",
      "50/50 [==============================] - 1s 23ms/step - loss: 4.6920e-04\n",
      "Epoch 45/80\n",
      "50/50 [==============================] - 1s 23ms/step - loss: 4.7651e-04\n",
      "Epoch 46/80\n",
      "50/50 [==============================] - 1s 23ms/step - loss: 4.0897e-04\n",
      "Epoch 47/80\n",
      "50/50 [==============================] - 1s 23ms/step - loss: 3.8864e-04\n",
      "Epoch 48/80\n",
      "50/50 [==============================] - 1s 23ms/step - loss: 4.1428e-04\n",
      "Epoch 49/80\n",
      "50/50 [==============================] - 1s 23ms/step - loss: 4.2732e-04\n",
      "Epoch 50/80\n",
      "50/50 [==============================] - 1s 23ms/step - loss: 3.9849e-04\n",
      "Epoch 51/80\n",
      "50/50 [==============================] - 1s 23ms/step - loss: 4.5587e-04\n",
      "Epoch 52/80\n",
      "50/50 [==============================] - 1s 24ms/step - loss: 3.4176e-04\n",
      "Epoch 53/80\n",
      "50/50 [==============================] - 1s 23ms/step - loss: 3.7415e-04\n",
      "Epoch 54/80\n",
      "50/50 [==============================] - 1s 23ms/step - loss: 4.2224e-04\n",
      "Epoch 55/80\n",
      "50/50 [==============================] - 1s 23ms/step - loss: 3.8196e-04\n",
      "Epoch 56/80\n",
      "50/50 [==============================] - 1s 23ms/step - loss: 3.8907e-04\n",
      "Epoch 57/80\n",
      "50/50 [==============================] - 1s 26ms/step - loss: 3.9083e-04\n",
      "Epoch 58/80\n",
      "50/50 [==============================] - 1s 24ms/step - loss: 4.3473e-04\n",
      "Epoch 59/80\n",
      "50/50 [==============================] - 1s 24ms/step - loss: 3.3741e-04\n",
      "Epoch 60/80\n",
      "50/50 [==============================] - 1s 24ms/step - loss: 3.8037e-04\n",
      "Epoch 61/80\n",
      "50/50 [==============================] - 1s 24ms/step - loss: 3.8345e-04\n",
      "Epoch 62/80\n",
      "50/50 [==============================] - 1s 24ms/step - loss: 3.9234e-04\n",
      "Epoch 63/80\n",
      "50/50 [==============================] - 1s 24ms/step - loss: 4.0760e-04\n",
      "Epoch 64/80\n",
      "50/50 [==============================] - 1s 24ms/step - loss: 3.6240e-04\n",
      "Epoch 65/80\n",
      "50/50 [==============================] - 1s 25ms/step - loss: 3.4622e-04\n",
      "Epoch 66/80\n",
      "50/50 [==============================] - 1s 24ms/step - loss: 3.6449e-04\n",
      "Epoch 67/80\n",
      "50/50 [==============================] - 1s 24ms/step - loss: 4.0379e-04\n",
      "Epoch 68/80\n",
      "50/50 [==============================] - 1s 25ms/step - loss: 3.6080e-04\n",
      "Epoch 69/80\n",
      "50/50 [==============================] - 1s 24ms/step - loss: 3.6105e-04\n",
      "Epoch 70/80\n",
      "50/50 [==============================] - 1s 23ms/step - loss: 3.6919e-04\n",
      "Epoch 71/80\n",
      "50/50 [==============================] - 1s 23ms/step - loss: 3.7017e-04\n",
      "Epoch 72/80\n",
      "50/50 [==============================] - 1s 23ms/step - loss: 3.2579e-04\n",
      "Epoch 73/80\n",
      "50/50 [==============================] - 1s 23ms/step - loss: 3.6969e-04\n",
      "Epoch 74/80\n",
      "50/50 [==============================] - 1s 23ms/step - loss: 3.4264e-04\n",
      "Epoch 75/80\n",
      "50/50 [==============================] - 1s 23ms/step - loss: 3.7368e-04\n",
      "Epoch 76/80\n",
      "50/50 [==============================] - 1s 23ms/step - loss: 3.3754e-04\n",
      "Epoch 77/80\n",
      "50/50 [==============================] - 1s 24ms/step - loss: 3.3620e-04\n",
      "Epoch 78/80\n",
      "50/50 [==============================] - 1s 23ms/step - loss: 3.6482e-04\n",
      "Epoch 79/80\n",
      "50/50 [==============================] - 1s 23ms/step - loss: 4.0507e-04\n",
      "Epoch 80/80\n",
      "50/50 [==============================] - 1s 23ms/step - loss: 3.6436e-04\n"
     ]
    },
    {
     "data": {
      "text/plain": [
       "<tensorflow.python.keras.callbacks.History at 0x14f9603d0>"
      ]
     },
     "execution_count": 92,
     "metadata": {},
     "output_type": "execute_result"
    }
   ],
   "source": [
    "model3.compile(optimizer='adam', loss = 'mean_squared_error')\n",
    "\n",
    "model3.fit(X_train,y_train,epochs=80,batch_size=50)"
   ]
  },
  {
   "cell_type": "code",
   "execution_count": 93,
   "metadata": {},
   "outputs": [
    {
     "data": {
      "text/plain": [
       "array([[0.26279128],\n",
       "       [0.25843048],\n",
       "       [0.24311715],\n",
       "       [0.22834148],\n",
       "       [0.22664535],\n",
       "       [0.20999976],\n",
       "       [0.22571911],\n",
       "       [0.24091795],\n",
       "       [0.24445283],\n",
       "       [0.40253216],\n",
       "       [0.3517034 ],\n",
       "       [0.3610142 ],\n",
       "       [0.32545465],\n",
       "       [0.32964563],\n",
       "       [0.31975424],\n",
       "       [0.3368494 ],\n",
       "       [0.3097229 ]], dtype=float32)"
      ]
     },
     "execution_count": 93,
     "metadata": {},
     "output_type": "execute_result"
    }
   ],
   "source": [
    "y_pred3 = model3.predict(X_test)\n",
    "\n",
    "y_pred3"
   ]
  },
  {
   "cell_type": "code",
   "execution_count": 94,
   "metadata": {},
   "outputs": [
    {
     "data": {
      "image/png": "[encoded data removed]",
      "text/plain": [
       "<Figure size 1296x360 with 1 Axes>"
      ]
     },
     "metadata": {
      "needs_background": "light"
     },
     "output_type": "display_data"
    },
    {
     "name": "stdout",
     "output_type": "stream",
     "text": [
      "The RMSE of this Model is 2.47114682775307\n"
     ]
    }
   ],
   "source": [
    "\n",
    "ScaleGraphEval(y_pred3,'VIX Index 2020 Prediction [Model#3]')"
   ]
  },
  {
   "cell_type": "markdown",
   "metadata": {},
   "source": [
    "# Final Model"
   ]
  },
  {
   "cell_type": "code",
   "execution_count": 96,
   "metadata": {},
   "outputs": [],
   "source": [
    "regressor = Sequential()\n",
    "#tried a third layer to improve results \n",
    "regressor.add(LSTM(units = 150, activation='relu',return_sequences = True, input_shape=(X_train.shape[1],5)))\n",
    "regressor.add(Dropout(0.15))\n",
    "#kept decreasing units at ever layer\n",
    "regressor.add(LSTM(units = 100, activation='relu',return_sequences = True))\n",
    "regressor.add(Dropout(0.15))\n",
    "#added a dropout of .15 to each layer \n",
    "regressor.add(LSTM(units = 80, activation='relu'))\n",
    "regressor.add(Dropout(0.15))\n",
    "\n",
    "regressor.add(Dense(1))"
   ]
  },
  {
   "cell_type": "code",
   "execution_count": 102,
   "metadata": {},
   "outputs": [
    {
     "name": "stdout",
     "output_type": "stream",
     "text": [
      "Model: \"sequential_7\"\n",
      "_________________________________________________________________\n",
      "Layer (type)                 Output Shape              Param #   \n",
      "=================================================================\n",
      "lstm_11 (LSTM)               (None, 30, 150)           93600     \n",
      "_________________________________________________________________\n",
      "dropout_7 (Dropout)          (None, 30, 150)           0         \n",
      "_________________________________________________________________\n",
      "lstm_12 (LSTM)               (None, 30, 100)           100400    \n",
      "_________________________________________________________________\n",
      "dropout_8 (Dropout)          (None, 30, 100)           0         \n",
      "_________________________________________________________________\n",
      "lstm_13 (LSTM)               (None, 80)                57920     \n",
      "_________________________________________________________________\n",
      "dropout_9 (Dropout)          (None, 80)                0         \n",
      "_________________________________________________________________\n",
      "dense_7 (Dense)              (None, 1)                 81        \n",
      "=================================================================\n",
      "Total params: 252,001\n",
      "Trainable params: 252,001\n",
      "Non-trainable params: 0\n",
      "_________________________________________________________________\n"
     ]
    }
   ],
   "source": [
    "#check model is set up to specifications \n",
    "regressor.summary()"
   ]
  },
  {
   "cell_type": "code",
   "execution_count": 103,
   "metadata": {},
   "outputs": [],
   "source": [
    "regressor.compile(optimizer='adam', loss = 'mean_squared_error')"
   ]
  },
  {
   "cell_type": "code",
   "execution_count": 99,
   "metadata": {
    "scrolled": false
   },
   "outputs": [
    {
     "name": "stdout",
     "output_type": "stream",
     "text": [
      "Epoch 1/180\n",
      "50/50 [==============================] - 2s 41ms/step - loss: 0.0047\n",
      "Epoch 2/180\n",
      "50/50 [==============================] - 2s 40ms/step - loss: 0.0022\n",
      "Epoch 3/180\n",
      "50/50 [==============================] - 2s 41ms/step - loss: 0.0017\n",
      "Epoch 4/180\n",
      "50/50 [==============================] - 2s 42ms/step - loss: 0.0014\n",
      "Epoch 5/180\n",
      "50/50 [==============================] - 2s 41ms/step - loss: 0.0013\n",
      "Epoch 6/180\n",
      "50/50 [==============================] - 2s 41ms/step - loss: 0.0015\n",
      "Epoch 7/180\n",
      "50/50 [==============================] - 2s 41ms/step - loss: 0.0013\n",
      "Epoch 8/180\n",
      "50/50 [==============================] - 2s 41ms/step - loss: 0.0010\n",
      "Epoch 9/180\n",
      "50/50 [==============================] - 2s 41ms/step - loss: 0.0010\n",
      "Epoch 10/180\n",
      "50/50 [==============================] - 2s 41ms/step - loss: 9.2129e-04\n",
      "Epoch 11/180\n",
      "50/50 [==============================] - 2s 42ms/step - loss: 9.1736e-04\n",
      "Epoch 12/180\n",
      "50/50 [==============================] - 2s 41ms/step - loss: 9.0664e-04\n",
      "Epoch 13/180\n",
      "50/50 [==============================] - 2s 42ms/step - loss: 8.5019e-04\n",
      "Epoch 14/180\n",
      "50/50 [==============================] - 2s 41ms/step - loss: 7.8349e-04\n",
      "Epoch 15/180\n",
      "50/50 [==============================] - 2s 41ms/step - loss: 7.4808e-04\n",
      "Epoch 16/180\n",
      "50/50 [==============================] - 2s 41ms/step - loss: 7.5350e-04\n",
      "Epoch 17/180\n",
      "50/50 [==============================] - 2s 41ms/step - loss: 6.6721e-04\n",
      "Epoch 18/180\n",
      "50/50 [==============================] - 2s 41ms/step - loss: 6.3154e-04\n",
      "Epoch 19/180\n",
      "50/50 [==============================] - 2s 41ms/step - loss: 6.5812e-04\n",
      "Epoch 20/180\n",
      "50/50 [==============================] - 2s 41ms/step - loss: 6.4221e-04\n",
      "Epoch 21/180\n",
      "50/50 [==============================] - 2s 41ms/step - loss: 5.5115e-04\n",
      "Epoch 22/180\n",
      "50/50 [==============================] - 2s 40ms/step - loss: 5.9888e-04\n",
      "Epoch 23/180\n",
      "50/50 [==============================] - 2s 41ms/step - loss: 5.4923e-04\n",
      "Epoch 24/180\n",
      "50/50 [==============================] - 2s 40ms/step - loss: 5.3346e-04\n",
      "Epoch 25/180\n",
      "50/50 [==============================] - 2s 42ms/step - loss: 4.7253e-04\n",
      "Epoch 26/180\n",
      "50/50 [==============================] - 2s 41ms/step - loss: 4.8115e-04\n",
      "Epoch 27/180\n",
      "50/50 [==============================] - 2s 41ms/step - loss: 5.4941e-04\n",
      "Epoch 28/180\n",
      "50/50 [==============================] - 2s 40ms/step - loss: 5.7924e-04\n",
      "Epoch 29/180\n",
      "50/50 [==============================] - 2s 39ms/step - loss: 5.5807e-04\n",
      "Epoch 30/180\n",
      "50/50 [==============================] - 2s 39ms/step - loss: 4.7578e-04\n",
      "Epoch 31/180\n",
      "50/50 [==============================] - 2s 39ms/step - loss: 4.6357e-04\n",
      "Epoch 32/180\n",
      "50/50 [==============================] - 2s 40ms/step - loss: 4.6255e-04\n",
      "Epoch 33/180\n",
      "50/50 [==============================] - 2s 39ms/step - loss: 4.2692e-04\n",
      "Epoch 34/180\n",
      "50/50 [==============================] - 2s 39ms/step - loss: 4.2800e-04\n",
      "Epoch 35/180\n",
      "50/50 [==============================] - 2s 40ms/step - loss: 4.0390e-04\n",
      "Epoch 36/180\n",
      "50/50 [==============================] - 2s 40ms/step - loss: 5.2721e-04\n",
      "Epoch 37/180\n",
      "50/50 [==============================] - 2s 39ms/step - loss: 4.1044e-04\n",
      "Epoch 38/180\n",
      "50/50 [==============================] - 2s 39ms/step - loss: 4.6711e-04\n",
      "Epoch 39/180\n",
      "50/50 [==============================] - 2s 39ms/step - loss: 4.4340e-04\n",
      "Epoch 40/180\n",
      "50/50 [==============================] - 2s 40ms/step - loss: 4.5231e-04\n",
      "Epoch 41/180\n",
      "50/50 [==============================] - 2s 39ms/step - loss: 3.8336e-04\n",
      "Epoch 42/180\n",
      "50/50 [==============================] - 2s 39ms/step - loss: 4.4384e-04\n",
      "Epoch 43/180\n",
      "50/50 [==============================] - 2s 39ms/step - loss: 3.9378e-04\n",
      "Epoch 44/180\n",
      "50/50 [==============================] - 2s 39ms/step - loss: 3.9485e-04\n",
      "Epoch 45/180\n",
      "50/50 [==============================] - 2s 39ms/step - loss: 4.1928e-04\n",
      "Epoch 46/180\n",
      "50/50 [==============================] - 2s 39ms/step - loss: 4.1361e-04\n",
      "Epoch 47/180\n",
      "50/50 [==============================] - 2s 40ms/step - loss: 3.6868e-04\n",
      "Epoch 48/180\n",
      "50/50 [==============================] - 2s 39ms/step - loss: 3.9958e-04\n",
      "Epoch 49/180\n",
      "50/50 [==============================] - 2s 39ms/step - loss: 4.1639e-04\n",
      "Epoch 50/180\n",
      "50/50 [==============================] - 2s 39ms/step - loss: 3.5395e-04\n",
      "Epoch 51/180\n",
      "50/50 [==============================] - 2s 39ms/step - loss: 3.9078e-04\n",
      "Epoch 52/180\n",
      "50/50 [==============================] - 2s 39ms/step - loss: 3.7671e-04\n",
      "Epoch 53/180\n",
      "50/50 [==============================] - 2s 39ms/step - loss: 3.3684e-04\n",
      "Epoch 54/180\n",
      "50/50 [==============================] - 2s 39ms/step - loss: 3.1972e-04\n",
      "Epoch 55/180\n",
      "50/50 [==============================] - 2s 40ms/step - loss: 3.6994e-04\n",
      "Epoch 56/180\n",
      "50/50 [==============================] - 2s 42ms/step - loss: 4.6325e-04\n",
      "Epoch 57/180\n",
      "50/50 [==============================] - 2s 41ms/step - loss: 3.4878e-04\n",
      "Epoch 58/180\n",
      "50/50 [==============================] - 2s 39ms/step - loss: 3.8616e-04\n",
      "Epoch 59/180\n",
      "50/50 [==============================] - 2s 38ms/step - loss: 3.7576e-04\n",
      "Epoch 60/180\n",
      "50/50 [==============================] - 2s 39ms/step - loss: 3.6090e-04\n",
      "Epoch 61/180\n",
      "50/50 [==============================] - 2s 42ms/step - loss: 3.5783e-04\n",
      "Epoch 62/180\n",
      "50/50 [==============================] - 2s 42ms/step - loss: 3.4251e-04\n",
      "Epoch 63/180\n",
      "50/50 [==============================] - 2s 42ms/step - loss: 3.6240e-04\n",
      "Epoch 64/180\n",
      "50/50 [==============================] - 2s 44ms/step - loss: 3.9333e-04\n",
      "Epoch 65/180\n",
      "50/50 [==============================] - 2s 45ms/step - loss: 3.9588e-04\n",
      "Epoch 66/180\n",
      "50/50 [==============================] - 2s 43ms/step - loss: 3.4816e-04\n",
      "Epoch 67/180\n",
      "50/50 [==============================] - 2s 44ms/step - loss: 3.5067e-04\n",
      "Epoch 68/180\n",
      "50/50 [==============================] - 2s 44ms/step - loss: 3.7688e-04\n",
      "Epoch 69/180\n",
      "50/50 [==============================] - 2s 43ms/step - loss: 4.1229e-04\n",
      "Epoch 70/180\n",
      "50/50 [==============================] - 2s 41ms/step - loss: 3.6205e-04\n",
      "Epoch 71/180\n",
      "50/50 [==============================] - 2s 41ms/step - loss: 3.7343e-04\n",
      "Epoch 72/180\n",
      "50/50 [==============================] - 2s 41ms/step - loss: 3.4834e-04\n",
      "Epoch 73/180\n",
      "50/50 [==============================] - 2s 42ms/step - loss: 3.6822e-04\n",
      "Epoch 74/180\n",
      "50/50 [==============================] - 2s 40ms/step - loss: 3.2785e-04\n",
      "Epoch 75/180\n",
      "50/50 [==============================] - 2s 40ms/step - loss: 3.6504e-04\n",
      "Epoch 76/180\n",
      "50/50 [==============================] - 2s 40ms/step - loss: 3.8966e-04\n",
      "Epoch 77/180\n",
      "50/50 [==============================] - 2s 40ms/step - loss: 3.5429e-04\n",
      "Epoch 78/180\n",
      "50/50 [==============================] - 2s 40ms/step - loss: 3.4107e-04\n",
      "Epoch 79/180\n",
      "50/50 [==============================] - 2s 40ms/step - loss: 3.2231e-04\n",
      "Epoch 80/180\n",
      "50/50 [==============================] - 2s 40ms/step - loss: 3.2148e-04\n",
      "Epoch 81/180\n",
      "50/50 [==============================] - 2s 41ms/step - loss: 3.4219e-04\n",
      "Epoch 82/180\n",
      "50/50 [==============================] - 2s 41ms/step - loss: 3.3594e-04\n",
      "Epoch 83/180\n",
      "50/50 [==============================] - 2s 41ms/step - loss: 3.7339e-04\n",
      "Epoch 84/180\n",
      "50/50 [==============================] - 2s 41ms/step - loss: 3.3773e-04\n",
      "Epoch 85/180\n",
      "50/50 [==============================] - 2s 41ms/step - loss: 3.6650e-04\n",
      "Epoch 86/180\n",
      "50/50 [==============================] - 2s 41ms/step - loss: 3.7136e-04\n",
      "Epoch 87/180\n",
      "50/50 [==============================] - 2s 41ms/step - loss: 2.9753e-04\n",
      "Epoch 88/180\n",
      "50/50 [==============================] - 2s 41ms/step - loss: 3.4081e-04\n",
      "Epoch 89/180\n",
      "50/50 [==============================] - 2s 41ms/step - loss: 3.4113e-04\n",
      "Epoch 90/180\n",
      "50/50 [==============================] - 2s 41ms/step - loss: 3.4976e-04\n",
      "Epoch 91/180\n",
      "50/50 [==============================] - 2s 42ms/step - loss: 3.3664e-04\n",
      "Epoch 92/180\n",
      "50/50 [==============================] - 2s 42ms/step - loss: 3.2725e-04\n",
      "Epoch 93/180\n",
      "50/50 [==============================] - 2s 41ms/step - loss: 3.3878e-04\n",
      "Epoch 94/180\n",
      "50/50 [==============================] - 2s 41ms/step - loss: 3.2321e-04\n",
      "Epoch 95/180\n",
      "50/50 [==============================] - 2s 40ms/step - loss: 3.5130e-04\n",
      "Epoch 96/180\n"
     ]
    },
    {
     "name": "stdout",
     "output_type": "stream",
     "text": [
      "50/50 [==============================] - 2s 40ms/step - loss: 3.1694e-04\n",
      "Epoch 97/180\n",
      "50/50 [==============================] - 2s 40ms/step - loss: 3.3378e-04\n",
      "Epoch 98/180\n",
      "50/50 [==============================] - 2s 41ms/step - loss: 2.9439e-04\n",
      "Epoch 99/180\n",
      "50/50 [==============================] - 2s 40ms/step - loss: 3.6745e-04\n",
      "Epoch 100/180\n",
      "50/50 [==============================] - 2s 40ms/step - loss: 4.0117e-04\n",
      "Epoch 101/180\n",
      "50/50 [==============================] - 2s 40ms/step - loss: 3.5569e-04\n",
      "Epoch 102/180\n",
      "50/50 [==============================] - 2s 40ms/step - loss: 3.1123e-04\n",
      "Epoch 103/180\n",
      "50/50 [==============================] - 2s 40ms/step - loss: 3.2950e-04\n",
      "Epoch 104/180\n",
      "50/50 [==============================] - 2s 40ms/step - loss: 3.2949e-04\n",
      "Epoch 105/180\n",
      "50/50 [==============================] - 2s 40ms/step - loss: 3.1767e-04\n",
      "Epoch 106/180\n",
      "50/50 [==============================] - 2s 40ms/step - loss: 3.4475e-04\n",
      "Epoch 107/180\n",
      "50/50 [==============================] - 2s 40ms/step - loss: 3.3967e-04\n",
      "Epoch 108/180\n",
      "50/50 [==============================] - 2s 40ms/step - loss: 3.2418e-04\n",
      "Epoch 109/180\n",
      "50/50 [==============================] - 2s 40ms/step - loss: 2.9515e-04\n",
      "Epoch 110/180\n",
      "50/50 [==============================] - 2s 40ms/step - loss: 3.0251e-04\n",
      "Epoch 111/180\n",
      "50/50 [==============================] - 2s 42ms/step - loss: 3.2054e-04\n",
      "Epoch 112/180\n",
      "50/50 [==============================] - 2s 41ms/step - loss: 3.0937e-04\n",
      "Epoch 113/180\n",
      "50/50 [==============================] - 2s 40ms/step - loss: 3.3398e-04\n",
      "Epoch 114/180\n",
      "50/50 [==============================] - 2s 40ms/step - loss: 3.2326e-04\n",
      "Epoch 115/180\n",
      "50/50 [==============================] - 2s 40ms/step - loss: 2.9894e-04\n",
      "Epoch 116/180\n",
      "50/50 [==============================] - 2s 40ms/step - loss: 3.1652e-04\n",
      "Epoch 117/180\n",
      "50/50 [==============================] - 2s 41ms/step - loss: 3.1171e-04\n",
      "Epoch 118/180\n",
      "50/50 [==============================] - 2s 41ms/step - loss: 2.9667e-04\n",
      "Epoch 119/180\n",
      "50/50 [==============================] - 2s 41ms/step - loss: 3.6315e-04\n",
      "Epoch 120/180\n",
      "50/50 [==============================] - 2s 42ms/step - loss: 3.7661e-04\n",
      "Epoch 121/180\n",
      "50/50 [==============================] - 2s 41ms/step - loss: 3.4044e-04\n",
      "Epoch 122/180\n",
      "50/50 [==============================] - 2s 41ms/step - loss: 3.2840e-04\n",
      "Epoch 123/180\n",
      "50/50 [==============================] - 2s 41ms/step - loss: 3.9476e-04\n",
      "Epoch 124/180\n",
      "50/50 [==============================] - 2s 41ms/step - loss: 3.6292e-04\n",
      "Epoch 125/180\n",
      "50/50 [==============================] - 2s 41ms/step - loss: 3.3093e-04\n",
      "Epoch 126/180\n",
      "50/50 [==============================] - 2s 41ms/step - loss: 3.3127e-04\n",
      "Epoch 127/180\n",
      "50/50 [==============================] - 2s 42ms/step - loss: 3.2232e-04\n",
      "Epoch 128/180\n",
      "50/50 [==============================] - 2s 41ms/step - loss: 3.1834e-04\n",
      "Epoch 129/180\n",
      "50/50 [==============================] - 2s 40ms/step - loss: 3.3976e-04\n",
      "Epoch 130/180\n",
      "50/50 [==============================] - 2s 40ms/step - loss: 2.9006e-04\n",
      "Epoch 131/180\n",
      "50/50 [==============================] - 2s 40ms/step - loss: 2.9817e-04\n",
      "Epoch 132/180\n",
      "50/50 [==============================] - 2s 43ms/step - loss: 3.4169e-04\n",
      "Epoch 133/180\n",
      "50/50 [==============================] - 2s 41ms/step - loss: 3.6260e-04\n",
      "Epoch 134/180\n",
      "50/50 [==============================] - 2s 42ms/step - loss: 2.8174e-04\n",
      "Epoch 135/180\n",
      "50/50 [==============================] - 2s 40ms/step - loss: 3.6018e-04\n",
      "Epoch 136/180\n",
      "50/50 [==============================] - 2s 40ms/step - loss: 3.3024e-04\n",
      "Epoch 137/180\n",
      "50/50 [==============================] - 2s 41ms/step - loss: 2.8700e-04\n",
      "Epoch 138/180\n",
      "50/50 [==============================] - 2s 42ms/step - loss: 3.0660e-04\n",
      "Epoch 139/180\n",
      "50/50 [==============================] - 2s 45ms/step - loss: 3.0224e-04\n",
      "Epoch 140/180\n",
      "50/50 [==============================] - 2s 50ms/step - loss: 2.9606e-04\n",
      "Epoch 141/180\n",
      "50/50 [==============================] - 2s 42ms/step - loss: 3.0941e-04\n",
      "Epoch 142/180\n",
      "50/50 [==============================] - 2s 41ms/step - loss: 2.9977e-04\n",
      "Epoch 143/180\n",
      "50/50 [==============================] - 2s 44ms/step - loss: 2.9338e-04\n",
      "Epoch 144/180\n",
      "50/50 [==============================] - 2s 44ms/step - loss: 3.4313e-04\n",
      "Epoch 145/180\n",
      "50/50 [==============================] - 2s 45ms/step - loss: 3.4059e-04\n",
      "Epoch 146/180\n",
      "50/50 [==============================] - 3s 53ms/step - loss: 2.9628e-04\n",
      "Epoch 147/180\n",
      "50/50 [==============================] - 2s 43ms/step - loss: 3.0712e-04\n",
      "Epoch 148/180\n",
      "50/50 [==============================] - 2s 42ms/step - loss: 3.5696e-04\n",
      "Epoch 149/180\n",
      "50/50 [==============================] - 2s 43ms/step - loss: 2.9838e-04\n",
      "Epoch 150/180\n",
      "50/50 [==============================] - 2s 44ms/step - loss: 2.9515e-04\n",
      "Epoch 151/180\n",
      "50/50 [==============================] - 2s 43ms/step - loss: 3.0475e-04\n",
      "Epoch 152/180\n",
      "50/50 [==============================] - 2s 44ms/step - loss: 3.0214e-04\n",
      "Epoch 153/180\n",
      "50/50 [==============================] - 2s 43ms/step - loss: 3.0890e-04\n",
      "Epoch 154/180\n",
      "50/50 [==============================] - 2s 41ms/step - loss: 3.1384e-04\n",
      "Epoch 155/180\n",
      "50/50 [==============================] - 2s 41ms/step - loss: 3.1785e-04\n",
      "Epoch 156/180\n",
      "50/50 [==============================] - 2s 41ms/step - loss: 3.1006e-04\n",
      "Epoch 157/180\n",
      "50/50 [==============================] - 2s 41ms/step - loss: 3.2014e-04\n",
      "Epoch 158/180\n",
      "50/50 [==============================] - 2s 42ms/step - loss: 3.0909e-04\n",
      "Epoch 159/180\n",
      "50/50 [==============================] - 2s 41ms/step - loss: 2.6959e-04\n",
      "Epoch 160/180\n",
      "50/50 [==============================] - 2s 40ms/step - loss: 3.5254e-04\n",
      "Epoch 161/180\n",
      "50/50 [==============================] - 2s 41ms/step - loss: 3.0578e-04\n",
      "Epoch 162/180\n",
      "50/50 [==============================] - 2s 43ms/step - loss: 3.1304e-04\n",
      "Epoch 163/180\n",
      "50/50 [==============================] - 2s 40ms/step - loss: 3.0696e-04\n",
      "Epoch 164/180\n",
      "50/50 [==============================] - 2s 41ms/step - loss: 3.3057e-04\n",
      "Epoch 165/180\n",
      "50/50 [==============================] - 2s 41ms/step - loss: 3.5901e-04\n",
      "Epoch 166/180\n",
      "50/50 [==============================] - 2s 41ms/step - loss: 3.2266e-04\n",
      "Epoch 167/180\n",
      "50/50 [==============================] - 2s 41ms/step - loss: 2.9558e-04\n",
      "Epoch 168/180\n",
      "50/50 [==============================] - 2s 42ms/step - loss: 2.9370e-04\n",
      "Epoch 169/180\n",
      "50/50 [==============================] - 2s 42ms/step - loss: 3.3106e-04\n",
      "Epoch 170/180\n",
      "50/50 [==============================] - 2s 42ms/step - loss: 2.9992e-04\n",
      "Epoch 171/180\n",
      "50/50 [==============================] - 2s 41ms/step - loss: 3.0562e-04\n",
      "Epoch 172/180\n",
      "50/50 [==============================] - 2s 41ms/step - loss: 3.5365e-04\n",
      "Epoch 173/180\n",
      "50/50 [==============================] - 2s 42ms/step - loss: 2.8762e-04\n",
      "Epoch 174/180\n",
      "50/50 [==============================] - 2s 42ms/step - loss: 3.0017e-04\n",
      "Epoch 175/180\n",
      "50/50 [==============================] - 2s 42ms/step - loss: 3.9936e-04\n",
      "Epoch 176/180\n",
      "50/50 [==============================] - 2s 41ms/step - loss: 2.8523e-04\n",
      "Epoch 177/180\n",
      "50/50 [==============================] - 2s 42ms/step - loss: 2.9616e-04\n",
      "Epoch 178/180\n",
      "50/50 [==============================] - 2s 45ms/step - loss: 2.8236e-04\n",
      "Epoch 179/180\n",
      "50/50 [==============================] - 2s 43ms/step - loss: 3.9196e-04\n",
      "Epoch 180/180\n",
      "50/50 [==============================] - 2s 42ms/step - loss: 3.1946e-04\n"
     ]
    },
    {
     "data": {
      "text/plain": [
       "<tensorflow.python.keras.callbacks.History at 0x15040a090>"
      ]
     },
     "execution_count": 99,
     "metadata": {},
     "output_type": "execute_result"
    }
   ],
   "source": [
    "regressor.fit(X_train,y_train,epochs=180,batch_size=50)"
   ]
  },
  {
   "cell_type": "code",
   "execution_count": 100,
   "metadata": {},
   "outputs": [],
   "source": [
    "y_pred4 = regressor.predict(X_test)"
   ]
  },
  {
   "cell_type": "code",
   "execution_count": 101,
   "metadata": {},
   "outputs": [
    {
     "data": {
      "image/png": "[encoded data removed]",
      "text/plain": [
       "<Figure size 1296x360 with 1 Axes>"
      ]
     },
     "metadata": {
      "needs_background": "light"
     },
     "output_type": "display_data"
    },
    {
     "name": "stdout",
     "output_type": "stream",
     "text": [
      "The RMSE of this Model is 2.327287048583684\n"
     ]
    }
   ],
   "source": [
    "ScaleGraphEval(y_pred4,'VIX Index 2020 Prediction [Model#4]')\n",
    "#evaluating final model"
   ]
  },
  {
   "cell_type": "markdown",
   "metadata": {},
   "source": [
    "# Model 2 was the best performing LSTM "
   ]
  }
 ],
 "metadata": {
  "kernelspec": {
   "display_name": "Python 3",
   "language": "python",
   "name": "python3"
  },
  "language_info": {
   "codemirror_mode": {
    "name": "ipython",
    "version": 3
   },
   "file_extension": ".py",
   "mimetype": "text/x-python",
   "name": "python",
   "nbconvert_exporter": "python",
   "pygments_lexer": "ipython3",
   "version": "3.7.4"
  }
 },
 "nbformat": 4,
 "nbformat_minor": 2
}
