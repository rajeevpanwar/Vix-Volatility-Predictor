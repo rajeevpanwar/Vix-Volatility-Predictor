{
 "cells": [
  {
   "cell_type": "markdown",
   "metadata": {},
   "source": [
    "### Importing Libaries ###"
   ]
  },
  {
   "cell_type": "code",
   "execution_count": 2,
   "metadata": {},
   "outputs": [
    {
     "name": "stderr",
     "output_type": "stream",
     "text": [
      "/Applications/anaconda3/lib/python3.7/site-packages/ipykernel_launcher.py:12: FutureWarning: The pandas.datetime class is deprecated and will be removed from pandas in a future version. Import from datetime module instead.\n",
      "  if sys.path[0] == '':\n"
     ]
    }
   ],
   "source": [
    "#Library imports\n",
    "import re\n",
    "import os\n",
    "import time\n",
    "import math\n",
    "import random\n",
    "import itertools\n",
    "import warnings\n",
    "import numpy as np\n",
    "from numpy import array\n",
    "import pandas as pd\n",
    "from pandas import datetime\n",
    "from pandas import DataFrame\n",
    "from pandas import concat\n",
    "from matplotlib import pyplot\n",
    "import seaborn as sns\n",
    "import statsmodels.api as sm\n",
    "from statsmodels.tsa.seasonal import seasonal_decompose\n",
    "from statsmodels.tsa.stattools import adfuller\n",
    "from statsmodels.tsa.arima_model import ARIMA\n",
    "from statsmodels.tsa.statespace.sarimax import SARIMAX\n",
    "import matplotlib.pyplot as plt\n",
    "from pylab import rcParams\n",
    "from sklearn.pipeline import Pipeline\n",
    "from sklearn.preprocessing import StandardScaler, MinMaxScaler\n",
    "from sklearn.model_selection import train_test_split, GridSearchCV\n",
    "from sklearn.model_selection import TimeSeriesSplit\n",
    "from sklearn import model_selection\n",
    "from sklearn.metrics import mean_squared_error\n",
    "from sklearn.preprocessing import FunctionTransformer\n",
    "from sklearn.model_selection import LeaveOneOut\n",
    "from sklearn.model_selection import RepeatedKFold\n",
    "from sklearn.model_selection import cross_val_score\n",
    "from sklearn import svm\n",
    "from statsmodels.graphics.tsaplots import plot_pacf, plot_acf\n",
    "import pmdarima as pm\n",
    "from pmdarima.model_selection import train_test_split\n",
    "\n",
    "from tensorflow import keras\n",
    "from tensorflow.keras import layers\n",
    "import tensorflow as tf\n",
    "from keras.models import Sequential\n",
    "from keras.layers.core import Dense, Activation, Dropout\n",
    "from keras.layers.recurrent import LSTM\n",
    "\n",
    "warnings.filterwarnings(\"ignore\")\n",
    "#Notebook arguments\n",
    "%matplotlib inline"
   ]
  },
  {
   "cell_type": "markdown",
   "metadata": {},
   "source": [
    "# Importing Data"
   ]
  },
  {
   "cell_type": "code",
   "execution_count": 112,
   "metadata": {},
   "outputs": [],
   "source": [
    "#I'm using pandas to download my data into the notebook\n",
    "index_df = pd.read_pickle('vix.pickle')"
   ]
  },
  {
   "cell_type": "code",
   "execution_count": 113,
   "metadata": {},
   "outputs": [
    {
     "data": {
      "text/html": [
       "<div>\n",
       "<style scoped>\n",
       "    .dataframe tbody tr th:only-of-type {\n",
       "        vertical-align: middle;\n",
       "    }\n",
       "\n",
       "    .dataframe tbody tr th {\n",
       "        vertical-align: top;\n",
       "    }\n",
       "\n",
       "    .dataframe thead th {\n",
       "        text-align: right;\n",
       "    }\n",
       "</style>\n",
       "<table border=\"1\" class=\"dataframe\">\n",
       "  <thead>\n",
       "    <tr style=\"text-align: right;\">\n",
       "      <th></th>\n",
       "      <th>Date</th>\n",
       "      <th>Open</th>\n",
       "      <th>High</th>\n",
       "      <th>Low</th>\n",
       "      <th>Close</th>\n",
       "      <th>Adj Close</th>\n",
       "      <th>Volume</th>\n",
       "    </tr>\n",
       "  </thead>\n",
       "  <tbody>\n",
       "    <tr>\n",
       "      <th>0</th>\n",
       "      <td>2010-06-23</td>\n",
       "      <td>26.930000</td>\n",
       "      <td>28.549999</td>\n",
       "      <td>26.540001</td>\n",
       "      <td>26.910000</td>\n",
       "      <td>26.910000</td>\n",
       "      <td>0</td>\n",
       "    </tr>\n",
       "    <tr>\n",
       "      <th>1</th>\n",
       "      <td>2010-06-24</td>\n",
       "      <td>27.610001</td>\n",
       "      <td>30.270000</td>\n",
       "      <td>27.530001</td>\n",
       "      <td>29.740000</td>\n",
       "      <td>29.740000</td>\n",
       "      <td>0</td>\n",
       "    </tr>\n",
       "    <tr>\n",
       "      <th>2</th>\n",
       "      <td>2010-06-25</td>\n",
       "      <td>29.639999</td>\n",
       "      <td>30.410000</td>\n",
       "      <td>28.070000</td>\n",
       "      <td>28.530001</td>\n",
       "      <td>28.530001</td>\n",
       "      <td>0</td>\n",
       "    </tr>\n",
       "    <tr>\n",
       "      <th>3</th>\n",
       "      <td>2010-06-28</td>\n",
       "      <td>29.200001</td>\n",
       "      <td>29.900000</td>\n",
       "      <td>28.469999</td>\n",
       "      <td>29.000000</td>\n",
       "      <td>29.000000</td>\n",
       "      <td>0</td>\n",
       "    </tr>\n",
       "    <tr>\n",
       "      <th>4</th>\n",
       "      <td>2010-06-29</td>\n",
       "      <td>31.219999</td>\n",
       "      <td>35.389999</td>\n",
       "      <td>31.219999</td>\n",
       "      <td>34.130001</td>\n",
       "      <td>34.130001</td>\n",
       "      <td>0</td>\n",
       "    </tr>\n",
       "  </tbody>\n",
       "</table>\n",
       "</div>"
      ],
      "text/plain": [
       "         Date       Open       High        Low      Close  Adj Close  Volume\n",
       "0  2010-06-23  26.930000  28.549999  26.540001  26.910000  26.910000       0\n",
       "1  2010-06-24  27.610001  30.270000  27.530001  29.740000  29.740000       0\n",
       "2  2010-06-25  29.639999  30.410000  28.070000  28.530001  28.530001       0\n",
       "3  2010-06-28  29.200001  29.900000  28.469999  29.000000  29.000000       0\n",
       "4  2010-06-29  31.219999  35.389999  31.219999  34.130001  34.130001       0"
      ]
     },
     "execution_count": 113,
     "metadata": {},
     "output_type": "execute_result"
    }
   ],
   "source": [
    "index_df.head()"
   ]
  },
  {
   "cell_type": "code",
   "execution_count": 114,
   "metadata": {},
   "outputs": [
    {
     "data": {
      "text/html": [
       "<div>\n",
       "<style scoped>\n",
       "    .dataframe tbody tr th:only-of-type {\n",
       "        vertical-align: middle;\n",
       "    }\n",
       "\n",
       "    .dataframe tbody tr th {\n",
       "        vertical-align: top;\n",
       "    }\n",
       "\n",
       "    .dataframe thead th {\n",
       "        text-align: right;\n",
       "    }\n",
       "</style>\n",
       "<table border=\"1\" class=\"dataframe\">\n",
       "  <thead>\n",
       "    <tr style=\"text-align: right;\">\n",
       "      <th></th>\n",
       "      <th>Date</th>\n",
       "      <th>Open</th>\n",
       "      <th>High</th>\n",
       "      <th>Low</th>\n",
       "      <th>Close</th>\n",
       "      <th>Adj Close</th>\n",
       "      <th>Volume</th>\n",
       "    </tr>\n",
       "  </thead>\n",
       "  <tbody>\n",
       "    <tr>\n",
       "      <th>2513</th>\n",
       "      <td>2020-06-17</td>\n",
       "      <td>33.279999</td>\n",
       "      <td>35.169998</td>\n",
       "      <td>32.250000</td>\n",
       "      <td>33.470001</td>\n",
       "      <td>33.470001</td>\n",
       "      <td>0</td>\n",
       "    </tr>\n",
       "    <tr>\n",
       "      <th>2514</th>\n",
       "      <td>2020-06-18</td>\n",
       "      <td>33.830002</td>\n",
       "      <td>36.250000</td>\n",
       "      <td>32.240002</td>\n",
       "      <td>32.939999</td>\n",
       "      <td>32.939999</td>\n",
       "      <td>0</td>\n",
       "    </tr>\n",
       "    <tr>\n",
       "      <th>2515</th>\n",
       "      <td>2020-06-19</td>\n",
       "      <td>32.070000</td>\n",
       "      <td>35.119999</td>\n",
       "      <td>30.400000</td>\n",
       "      <td>35.119999</td>\n",
       "      <td>35.119999</td>\n",
       "      <td>0</td>\n",
       "    </tr>\n",
       "    <tr>\n",
       "      <th>2516</th>\n",
       "      <td>2020-06-22</td>\n",
       "      <td>35.220001</td>\n",
       "      <td>35.389999</td>\n",
       "      <td>31.639999</td>\n",
       "      <td>31.770000</td>\n",
       "      <td>31.770000</td>\n",
       "      <td>0</td>\n",
       "    </tr>\n",
       "    <tr>\n",
       "      <th>2517</th>\n",
       "      <td>2020-06-23</td>\n",
       "      <td>31.709999</td>\n",
       "      <td>31.709999</td>\n",
       "      <td>29.260000</td>\n",
       "      <td>31.370001</td>\n",
       "      <td>31.370001</td>\n",
       "      <td>0</td>\n",
       "    </tr>\n",
       "  </tbody>\n",
       "</table>\n",
       "</div>"
      ],
      "text/plain": [
       "            Date       Open       High        Low      Close  Adj Close  \\\n",
       "2513  2020-06-17  33.279999  35.169998  32.250000  33.470001  33.470001   \n",
       "2514  2020-06-18  33.830002  36.250000  32.240002  32.939999  32.939999   \n",
       "2515  2020-06-19  32.070000  35.119999  30.400000  35.119999  35.119999   \n",
       "2516  2020-06-22  35.220001  35.389999  31.639999  31.770000  31.770000   \n",
       "2517  2020-06-23  31.709999  31.709999  29.260000  31.370001  31.370001   \n",
       "\n",
       "      Volume  \n",
       "2513       0  \n",
       "2514       0  \n",
       "2515       0  \n",
       "2516       0  \n",
       "2517       0  "
      ]
     },
     "execution_count": 114,
     "metadata": {},
     "output_type": "execute_result"
    }
   ],
   "source": [
    "index_df.tail()"
   ]
  },
  {
   "cell_type": "code",
   "execution_count": 115,
   "metadata": {},
   "outputs": [
    {
     "data": {
      "text/plain": [
       "str"
      ]
     },
     "execution_count": 115,
     "metadata": {},
     "output_type": "execute_result"
    }
   ],
   "source": [
    "\n",
    "type(index_df['Date'][2])"
   ]
  },
  {
   "cell_type": "code",
   "execution_count": 116,
   "metadata": {},
   "outputs": [],
   "source": [
    "#Set the format of the date in the date column to datetime \n",
    "index_df['Date'] = pd.to_datetime(index_df['Date'])\n",
    "#Put the date column as your index to avoid having to drop the column later on\n",
    "index_df = index_df.set_index(['Date'])"
   ]
  },
  {
   "cell_type": "code",
   "execution_count": 117,
   "metadata": {},
   "outputs": [
    {
     "data": {
      "text/html": [
       "<div>\n",
       "<style scoped>\n",
       "    .dataframe tbody tr th:only-of-type {\n",
       "        vertical-align: middle;\n",
       "    }\n",
       "\n",
       "    .dataframe tbody tr th {\n",
       "        vertical-align: top;\n",
       "    }\n",
       "\n",
       "    .dataframe thead th {\n",
       "        text-align: right;\n",
       "    }\n",
       "</style>\n",
       "<table border=\"1\" class=\"dataframe\">\n",
       "  <thead>\n",
       "    <tr style=\"text-align: right;\">\n",
       "      <th></th>\n",
       "      <th>Open</th>\n",
       "      <th>High</th>\n",
       "      <th>Low</th>\n",
       "      <th>Close</th>\n",
       "      <th>Adj Close</th>\n",
       "      <th>Volume</th>\n",
       "    </tr>\n",
       "    <tr>\n",
       "      <th>Date</th>\n",
       "      <th></th>\n",
       "      <th></th>\n",
       "      <th></th>\n",
       "      <th></th>\n",
       "      <th></th>\n",
       "      <th></th>\n",
       "    </tr>\n",
       "  </thead>\n",
       "  <tbody>\n",
       "    <tr>\n",
       "      <th>2010-06-23</th>\n",
       "      <td>26.930000</td>\n",
       "      <td>28.549999</td>\n",
       "      <td>26.540001</td>\n",
       "      <td>26.910000</td>\n",
       "      <td>26.910000</td>\n",
       "      <td>0</td>\n",
       "    </tr>\n",
       "    <tr>\n",
       "      <th>2010-06-24</th>\n",
       "      <td>27.610001</td>\n",
       "      <td>30.270000</td>\n",
       "      <td>27.530001</td>\n",
       "      <td>29.740000</td>\n",
       "      <td>29.740000</td>\n",
       "      <td>0</td>\n",
       "    </tr>\n",
       "    <tr>\n",
       "      <th>2010-06-25</th>\n",
       "      <td>29.639999</td>\n",
       "      <td>30.410000</td>\n",
       "      <td>28.070000</td>\n",
       "      <td>28.530001</td>\n",
       "      <td>28.530001</td>\n",
       "      <td>0</td>\n",
       "    </tr>\n",
       "    <tr>\n",
       "      <th>2010-06-28</th>\n",
       "      <td>29.200001</td>\n",
       "      <td>29.900000</td>\n",
       "      <td>28.469999</td>\n",
       "      <td>29.000000</td>\n",
       "      <td>29.000000</td>\n",
       "      <td>0</td>\n",
       "    </tr>\n",
       "    <tr>\n",
       "      <th>2010-06-29</th>\n",
       "      <td>31.219999</td>\n",
       "      <td>35.389999</td>\n",
       "      <td>31.219999</td>\n",
       "      <td>34.130001</td>\n",
       "      <td>34.130001</td>\n",
       "      <td>0</td>\n",
       "    </tr>\n",
       "  </tbody>\n",
       "</table>\n",
       "</div>"
      ],
      "text/plain": [
       "                 Open       High        Low      Close  Adj Close  Volume\n",
       "Date                                                                     \n",
       "2010-06-23  26.930000  28.549999  26.540001  26.910000  26.910000       0\n",
       "2010-06-24  27.610001  30.270000  27.530001  29.740000  29.740000       0\n",
       "2010-06-25  29.639999  30.410000  28.070000  28.530001  28.530001       0\n",
       "2010-06-28  29.200001  29.900000  28.469999  29.000000  29.000000       0\n",
       "2010-06-29  31.219999  35.389999  31.219999  34.130001  34.130001       0"
      ]
     },
     "execution_count": 117,
     "metadata": {},
     "output_type": "execute_result"
    }
   ],
   "source": [
    "\n",
    "#I chose to train my model on these 3 years where exogenous factors don't create alot of volatility in the index\n",
    "training = index_df['2010-06-23':'2020-06-01'].copy()\n",
    "training.head()"
   ]
  },
  {
   "cell_type": "code",
   "execution_count": 118,
   "metadata": {},
   "outputs": [
    {
     "data": {
      "text/html": [
       "<div>\n",
       "<style scoped>\n",
       "    .dataframe tbody tr th:only-of-type {\n",
       "        vertical-align: middle;\n",
       "    }\n",
       "\n",
       "    .dataframe tbody tr th {\n",
       "        vertical-align: top;\n",
       "    }\n",
       "\n",
       "    .dataframe thead th {\n",
       "        text-align: right;\n",
       "    }\n",
       "</style>\n",
       "<table border=\"1\" class=\"dataframe\">\n",
       "  <thead>\n",
       "    <tr style=\"text-align: right;\">\n",
       "      <th></th>\n",
       "      <th>Open</th>\n",
       "      <th>High</th>\n",
       "      <th>Low</th>\n",
       "      <th>Close</th>\n",
       "      <th>Adj Close</th>\n",
       "      <th>Volume</th>\n",
       "    </tr>\n",
       "    <tr>\n",
       "      <th>Date</th>\n",
       "      <th></th>\n",
       "      <th></th>\n",
       "      <th></th>\n",
       "      <th></th>\n",
       "      <th></th>\n",
       "      <th></th>\n",
       "    </tr>\n",
       "  </thead>\n",
       "  <tbody>\n",
       "    <tr>\n",
       "      <th>2020-06-01</th>\n",
       "      <td>28.940001</td>\n",
       "      <td>30.60</td>\n",
       "      <td>28.110001</td>\n",
       "      <td>28.230000</td>\n",
       "      <td>28.230000</td>\n",
       "      <td>0</td>\n",
       "    </tr>\n",
       "    <tr>\n",
       "      <th>2020-06-02</th>\n",
       "      <td>28.400000</td>\n",
       "      <td>28.52</td>\n",
       "      <td>26.660000</td>\n",
       "      <td>26.840000</td>\n",
       "      <td>26.840000</td>\n",
       "      <td>0</td>\n",
       "    </tr>\n",
       "    <tr>\n",
       "      <th>2020-06-03</th>\n",
       "      <td>26.750000</td>\n",
       "      <td>26.98</td>\n",
       "      <td>25.040001</td>\n",
       "      <td>25.660000</td>\n",
       "      <td>25.660000</td>\n",
       "      <td>0</td>\n",
       "    </tr>\n",
       "    <tr>\n",
       "      <th>2020-06-04</th>\n",
       "      <td>26.230000</td>\n",
       "      <td>26.43</td>\n",
       "      <td>24.379999</td>\n",
       "      <td>25.809999</td>\n",
       "      <td>25.809999</td>\n",
       "      <td>0</td>\n",
       "    </tr>\n",
       "    <tr>\n",
       "      <th>2020-06-05</th>\n",
       "      <td>24.790001</td>\n",
       "      <td>25.09</td>\n",
       "      <td>23.540001</td>\n",
       "      <td>24.520000</td>\n",
       "      <td>24.520000</td>\n",
       "      <td>0</td>\n",
       "    </tr>\n",
       "  </tbody>\n",
       "</table>\n",
       "</div>"
      ],
      "text/plain": [
       "                 Open   High        Low      Close  Adj Close  Volume\n",
       "Date                                                                 \n",
       "2020-06-01  28.940001  30.60  28.110001  28.230000  28.230000       0\n",
       "2020-06-02  28.400000  28.52  26.660000  26.840000  26.840000       0\n",
       "2020-06-03  26.750000  26.98  25.040001  25.660000  25.660000       0\n",
       "2020-06-04  26.230000  26.43  24.379999  25.809999  25.809999       0\n",
       "2020-06-05  24.790001  25.09  23.540001  24.520000  24.520000       0"
      ]
     },
     "execution_count": 118,
     "metadata": {},
     "output_type": "execute_result"
    }
   ],
   "source": [
    "#I chose to test my model's performance on 2020\n",
    "testing = index_df['2020-06-01':].copy()\n",
    "testing.head()"
   ]
  },
  {
   "cell_type": "code",
   "execution_count": 119,
   "metadata": {},
   "outputs": [],
   "source": [
    "#dropping Volume \n",
    "train = training.drop(['Volume'],axis = 1)"
   ]
  },
  {
   "cell_type": "code",
   "execution_count": 120,
   "metadata": {},
   "outputs": [
    {
     "data": {
      "text/plain": [
       "array([[0.24321389, 0.25262603, 0.29089144, 0.24160434, 0.24160434],\n",
       "       [0.252443  , 0.27521008, 0.30690827, 0.28008157, 0.28008157],\n",
       "       [0.27999455, 0.27704832, 0.3156447 , 0.26363019, 0.26363019],\n",
       "       ...,\n",
       "       [0.25529315, 0.27022057, 0.30529039, 0.26444595, 0.26444595],\n",
       "       [0.27538   , 0.27376575, 0.3030254 , 0.24976206, 0.24976206],\n",
       "       [0.27049403, 0.27954306, 0.31629186, 0.25955132, 0.25955132]])"
      ]
     },
     "execution_count": 120,
     "metadata": {},
     "output_type": "execute_result"
    }
   ],
   "source": [
    "#scaling my data allows me to pass it through my model \n",
    "scaler = MinMaxScaler()\n",
    "train = scaler.fit_transform(train)\n",
    "train"
   ]
  },
  {
   "cell_type": "code",
   "execution_count": 121,
   "metadata": {},
   "outputs": [],
   "source": [
    "#I'm creating two empty lists that im going to create my training variables with \n",
    "X_train = []\n",
    "y_train = []"
   ]
  },
  {
   "cell_type": "code",
   "execution_count": 122,
   "metadata": {},
   "outputs": [],
   "source": [
    "# Then we are creating a for loop that iteraterates through our df and grabbes sets of 60 days of values. \n",
    "#we are then going to use these sets to predict 1 day ahead.\n",
    "for i in range(30,train.shape[0]):\n",
    "    X_train.append(train[i-30:i])\n",
    "    y_train.append(train[i,0])"
   ]
  },
  {
   "cell_type": "code",
   "execution_count": 123,
   "metadata": {},
   "outputs": [],
   "source": [
    "# we are turning our X & Y trains into arrays for the model take it \n",
    "X_train,y_train = np.array(X_train), np.array(y_train)"
   ]
  },
  {
   "cell_type": "code",
   "execution_count": 124,
   "metadata": {},
   "outputs": [
    {
     "data": {
      "text/plain": [
       "((2472, 30, 5), (2472,))"
      ]
     },
     "execution_count": 124,
     "metadata": {},
     "output_type": "execute_result"
    }
   ],
   "source": [
    "#Here I am checking to see whether my X & Y variables are structured properly \n",
    "X_train.shape, y_train.shape"
   ]
  },
  {
   "cell_type": "code",
   "execution_count": 125,
   "metadata": {},
   "outputs": [],
   "source": [
    "#Because this model uses the past 60 days to predict 1 day into the future we need to add the 60 days previous from 2018 to get the first day of 2019. \n",
    "#we are taking the last 60 days of our training data and making a new datafrane\n",
    "past_30_days = training.tail(30)"
   ]
  },
  {
   "cell_type": "code",
   "execution_count": 126,
   "metadata": {},
   "outputs": [
    {
     "data": {
      "text/html": [
       "<div>\n",
       "<style scoped>\n",
       "    .dataframe tbody tr th:only-of-type {\n",
       "        vertical-align: middle;\n",
       "    }\n",
       "\n",
       "    .dataframe tbody tr th {\n",
       "        vertical-align: top;\n",
       "    }\n",
       "\n",
       "    .dataframe thead th {\n",
       "        text-align: right;\n",
       "    }\n",
       "</style>\n",
       "<table border=\"1\" class=\"dataframe\">\n",
       "  <thead>\n",
       "    <tr style=\"text-align: right;\">\n",
       "      <th></th>\n",
       "      <th>Open</th>\n",
       "      <th>High</th>\n",
       "      <th>Low</th>\n",
       "      <th>Close</th>\n",
       "      <th>Adj Close</th>\n",
       "    </tr>\n",
       "    <tr>\n",
       "      <th>Date</th>\n",
       "      <th></th>\n",
       "      <th></th>\n",
       "      <th></th>\n",
       "      <th></th>\n",
       "      <th></th>\n",
       "    </tr>\n",
       "  </thead>\n",
       "  <tbody>\n",
       "    <tr>\n",
       "      <th>2020-04-20</th>\n",
       "      <td>40.680000</td>\n",
       "      <td>43.830002</td>\n",
       "      <td>39.880001</td>\n",
       "      <td>43.830002</td>\n",
       "      <td>43.830002</td>\n",
       "    </tr>\n",
       "    <tr>\n",
       "      <th>2020-04-21</th>\n",
       "      <td>44.279999</td>\n",
       "      <td>47.770000</td>\n",
       "      <td>43.770000</td>\n",
       "      <td>45.410000</td>\n",
       "      <td>45.410000</td>\n",
       "    </tr>\n",
       "    <tr>\n",
       "      <th>2020-04-22</th>\n",
       "      <td>44.910000</td>\n",
       "      <td>45.070000</td>\n",
       "      <td>41.410000</td>\n",
       "      <td>41.980000</td>\n",
       "      <td>41.980000</td>\n",
       "    </tr>\n",
       "    <tr>\n",
       "      <th>2020-04-23</th>\n",
       "      <td>41.299999</td>\n",
       "      <td>42.470001</td>\n",
       "      <td>39.060001</td>\n",
       "      <td>41.380001</td>\n",
       "      <td>41.380001</td>\n",
       "    </tr>\n",
       "    <tr>\n",
       "      <th>2020-04-24</th>\n",
       "      <td>38.799999</td>\n",
       "      <td>40.169998</td>\n",
       "      <td>35.599998</td>\n",
       "      <td>35.930000</td>\n",
       "      <td>35.930000</td>\n",
       "    </tr>\n",
       "  </tbody>\n",
       "</table>\n",
       "</div>"
      ],
      "text/plain": [
       "                 Open       High        Low      Close  Adj Close\n",
       "Date                                                             \n",
       "2020-04-20  40.680000  43.830002  39.880001  43.830002  43.830002\n",
       "2020-04-21  44.279999  47.770000  43.770000  45.410000  45.410000\n",
       "2020-04-22  44.910000  45.070000  41.410000  41.980000  41.980000\n",
       "2020-04-23  41.299999  42.470001  39.060001  41.380001  41.380001\n",
       "2020-04-24  38.799999  40.169998  35.599998  35.930000  35.930000"
      ]
     },
     "execution_count": 126,
     "metadata": {},
     "output_type": "execute_result"
    }
   ],
   "source": [
    "#Here we are adding testing data to the df we just created and dropping the Adj Close column\n",
    "dff = past_30_days.append(testing)\n",
    "dff = dff.drop(['Volume'],axis = 1)\n",
    "dff.head()"
   ]
  },
  {
   "cell_type": "code",
   "execution_count": 127,
   "metadata": {},
   "outputs": [
    {
     "data": {
      "text/plain": [
       "array([[0.42983169, 0.45325632, 0.50671412, 0.47165195, 0.47165195],\n",
       "       [0.47869161, 0.50498949, 0.5696489 , 0.49313391, 0.49313391],\n",
       "       [0.48724211, 0.46953781, 0.53146737, 0.44649897, 0.44649897],\n",
       "       [0.43824645, 0.43539917, 0.49344765, 0.43834127, 0.43834127],\n",
       "       [0.40431594, 0.40519955, 0.43746961, 0.364242  , 0.364242  ],\n",
       "       [0.37024973, 0.35622372, 0.3874777 , 0.32834807, 0.32834807],\n",
       "       [0.32844732, 0.34243696, 0.35560589, 0.33215499, 0.33215499],\n",
       "       [0.31853962, 0.3135504 , 0.35835622, 0.3003399 , 0.3003399 ],\n",
       "       [0.29831704, 0.3496586 , 0.36191553, 0.34004081, 0.34004081],\n",
       "       [0.39576543, 0.39732142, 0.45348647, 0.38137319, 0.38137319],\n",
       "       [0.40879479, 0.40716911, 0.43633712, 0.36478586, 0.36478586],\n",
       "       [0.35029858, 0.35333509, 0.37841773, 0.33269885, 0.33269885],\n",
       "       [0.32138977, 0.34637603, 0.37404949, 0.33963288, 0.33963288],\n",
       "       [0.31365362, 0.30160187, 0.35285552, 0.30319511, 0.30319511],\n",
       "       [0.28678065, 0.2767857 , 0.31273254, 0.25615227, 0.25615227],\n",
       "       [0.26397935, 0.29083507, 0.29784821, 0.25057783, 0.25057783],\n",
       "       [0.26411507, 0.31158089, 0.28215498, 0.32494902, 0.32494902],\n",
       "       [0.32206842, 0.36909136, 0.35932695, 0.35540446, 0.35540446],\n",
       "       [0.35491313, 0.39351364, 0.38456562, 0.31910266, 0.31910266],\n",
       "       [0.31881107, 0.33902312, 0.36369519, 0.30931337, 0.30931337],\n",
       "       [0.29451681, 0.28584558, 0.32017471, 0.27409923, 0.27409923],\n",
       "       [0.26764386, 0.2813813 , 0.3204983 , 0.29082258, 0.29082258],\n",
       "       [0.2783659 , 0.26943277, 0.31176184, 0.25628823, 0.25628823],\n",
       "       [0.27090117, 0.27429098, 0.30917326, 0.27722638, 0.27722638],\n",
       "       [0.30333877, 0.29201679, 0.31499757, 0.25859959, 0.25859959],\n",
       "       [0.25393592, 0.25301995, 0.30124574, 0.25656016, 0.25656016],\n",
       "       [0.25257873, 0.27862396, 0.28086069, 0.25125765, 0.25125765],\n",
       "       [0.25529315, 0.27022057, 0.30529039, 0.26444595, 0.26444595],\n",
       "       [0.27538   , 0.27376575, 0.3030254 , 0.24976206, 0.24976206],\n",
       "       [0.27049403, 0.27954306, 0.31629186, 0.25955132, 0.25955132],\n",
       "       [0.27049403, 0.27954306, 0.31629186, 0.25955132, 0.25955132],\n",
       "       [0.26316503, 0.25223214, 0.29283286, 0.24065261, 0.24065261],\n",
       "       [0.24077089, 0.23201155, 0.26662353, 0.2246091 , 0.2246091 ],\n",
       "       [0.23371335, 0.22478991, 0.25594561, 0.22664852, 0.22664852],\n",
       "       [0.21416939, 0.20719538, 0.24235561, 0.20910944, 0.20910944],\n",
       "       [0.22461996, 0.2188813 , 0.26031385, 0.22664852, 0.22664852],\n",
       "       [0.22964169, 0.24146535, 0.27746316, 0.25057783, 0.25057783],\n",
       "       [0.24049945, 0.25866596, 0.28312568, 0.25057783, 0.25057783],\n",
       "       [0.29098806, 0.43684351, 0.33861833, 0.43031951, 0.43031951],\n",
       "       [0.38911508, 0.45758928, 0.42727714, 0.36641739, 0.36641739],\n",
       "       [0.47611291, 0.46126574, 0.41611386, 0.34343985, 0.34343985],\n",
       "       [0.34296958, 0.3694853 , 0.37485842, 0.33351458, 0.33351458],\n",
       "       [0.32939737, 0.33954829, 0.3832713 , 0.33079538, 0.33079538],\n",
       "       [0.33686212, 0.35372899, 0.38310954, 0.32358937, 0.32358937],\n",
       "       [0.31297502, 0.33889179, 0.35334087, 0.35322907, 0.35322907],\n",
       "       [0.35572747, 0.34243696, 0.37340233, 0.30768184, 0.30768184],\n",
       "       [0.30808901, 0.29411763, 0.33489725, 0.30224338, 0.30224338]])"
      ]
     },
     "execution_count": 127,
     "metadata": {},
     "output_type": "execute_result"
    }
   ],
   "source": [
    "#now we are scaling the dataframe list we just created and turning it into an array \n",
    "inputs =scaler.transform(dff)\n",
    "inputs"
   ]
  },
  {
   "cell_type": "code",
   "execution_count": 128,
   "metadata": {},
   "outputs": [],
   "source": [
    "#now we are repeating what we did earlier \n",
    "#first we create two lists X and Y \n",
    "#then we are creating a for loop that iteraterates through our df and grabbes sets of 30 days of values. \n",
    "#we are then going to use these sets to predict 1 day ahead.\n",
    "X_test = []\n",
    "y_test = []\n",
    "\n",
    "for i in range(30, inputs.shape[0]):\n",
    "    X_test.append(inputs[i-30:i])\n",
    "    y_test.append(inputs[i,0])"
   ]
  },
  {
   "cell_type": "code",
   "execution_count": 129,
   "metadata": {},
   "outputs": [],
   "source": [
    "# we are turning our X & Y tests into arrays for the model\n",
    "X_test, y_test = np.array(X_test), np.array(y_test)"
   ]
  },
  {
   "cell_type": "code",
   "execution_count": 130,
   "metadata": {},
   "outputs": [],
   "source": [
    "#This is my base model\n",
    "#First we initialize our model \n",
    "model1 = Sequential()\n",
    "#Then add our lstm layer because this is a base model I randomly inputed 60 units\n",
    "model1.add(LSTM(units = 60, activation='relu', input_shape=(X_train.shape[1],5)))\n",
    "#now we add out dense layer \n",
    "model1.add(Dense(1))"
   ]
  },
  {
   "cell_type": "code",
   "execution_count": 131,
   "metadata": {},
   "outputs": [
    {
     "name": "stdout",
     "output_type": "stream",
     "text": [
      "Model: \"sequential_3\"\n",
      "_________________________________________________________________\n",
      "Layer (type)                 Output Shape              Param #   \n",
      "=================================================================\n",
      "lstm_3 (LSTM)                (None, 60)                15840     \n",
      "_________________________________________________________________\n",
      "dense_3 (Dense)              (None, 1)                 61        \n",
      "=================================================================\n",
      "Total params: 15,901\n",
      "Trainable params: 15,901\n",
      "Non-trainable params: 0\n",
      "_________________________________________________________________\n"
     ]
    }
   ],
   "source": [
    "#To check if we set up our model to our specifications we can use .summary()\n",
    "model1.summary()"
   ]
  },
  {
   "cell_type": "code",
   "execution_count": 132,
   "metadata": {},
   "outputs": [],
   "source": [
    "#Here I compiled my model using adam optimization and mean_squared_error for loss \n",
    "model1.compile(optimizer='adam', loss = 'mean_squared_error')"
   ]
  },
  {
   "cell_type": "code",
   "execution_count": 133,
   "metadata": {},
   "outputs": [
    {
     "name": "stdout",
     "output_type": "stream",
     "text": [
      "Epoch 1/10\n",
      "13/13 [==============================] - 0s 18ms/step - loss: 0.0128\n",
      "Epoch 2/10\n",
      "13/13 [==============================] - 0s 18ms/step - loss: 0.0022\n",
      "Epoch 3/10\n",
      "13/13 [==============================] - 0s 18ms/step - loss: 0.0013\n",
      "Epoch 4/10\n",
      "13/13 [==============================] - 0s 18ms/step - loss: 9.7435e-04\n",
      "Epoch 5/10\n",
      "13/13 [==============================] - 0s 18ms/step - loss: 8.2961e-04\n",
      "Epoch 6/10\n",
      "13/13 [==============================] - 0s 18ms/step - loss: 7.3137e-04\n",
      "Epoch 7/10\n",
      "13/13 [==============================] - 0s 17ms/step - loss: 6.5909e-04\n",
      "Epoch 8/10\n",
      "13/13 [==============================] - 0s 18ms/step - loss: 6.2025e-04\n",
      "Epoch 9/10\n",
      "13/13 [==============================] - 0s 19ms/step - loss: 5.9750e-04\n",
      "Epoch 10/10\n",
      "13/13 [==============================] - 0s 21ms/step - loss: 5.3389e-04\n"
     ]
    },
    {
     "data": {
      "text/plain": [
       "<tensorflow.python.keras.callbacks.History at 0x14af6ae90>"
      ]
     },
     "execution_count": 133,
     "metadata": {},
     "output_type": "execute_result"
    }
   ],
   "source": [
    "#Now I am fitting my model using my X and Y train, 10 epochs and a batch size of 200.\n",
    "model1.fit(X_train,y_train,epochs=10,batch_size=200)"
   ]
  },
  {
   "cell_type": "code",
   "execution_count": 135,
   "metadata": {},
   "outputs": [],
   "source": [
    "\n",
    "#once we have fit our model we can now use it pass through our X_test and predict our y_test.\n",
    "y_pred1 = model1.predict(X_test)"
   ]
  },
  {
   "cell_type": "code",
   "execution_count": 136,
   "metadata": {},
   "outputs": [
    {
     "data": {
      "text/plain": [
       "array([[0.25706843],\n",
       "       [0.2587312 ],\n",
       "       [0.2523673 ],\n",
       "       [0.24129207],\n",
       "       [0.23293161],\n",
       "       [0.22101972],\n",
       "       [0.21927795],\n",
       "       [0.22521308],\n",
       "       [0.2317118 ],\n",
       "       [0.28817263],\n",
       "       [0.3270947 ],\n",
       "       [0.3559563 ],\n",
       "       [0.353659  ],\n",
       "       [0.3474134 ],\n",
       "       [0.3432238 ],\n",
       "       [0.33954385],\n",
       "       [0.33355466]], dtype=float32)"
      ]
     },
     "execution_count": 136,
     "metadata": {},
     "output_type": "execute_result"
    }
   ],
   "source": [
    "\n",
    "#checking to see the output of the model. We need to now scale our data back to values we can interpret.\n",
    "y_pred1"
   ]
  },
  {
   "cell_type": "code",
   "execution_count": 137,
   "metadata": {},
   "outputs": [
    {
     "data": {
      "text/plain": [
       "array([0.0135722 , 0.01313025, 0.01617861, 0.01359619, 0.01359619])"
      ]
     },
     "execution_count": 137,
     "metadata": {},
     "output_type": "execute_result"
    }
   ],
   "source": [
    "\n",
    "#using .scale_ on our scaler, we can take the first value and use it to scale our predictions. \n",
    "scaler.scale_"
   ]
  },
  {
   "cell_type": "code",
   "execution_count": 138,
   "metadata": {},
   "outputs": [
    {
     "data": {
      "text/plain": [
       "73.6800223987268"
      ]
     },
     "execution_count": 138,
     "metadata": {},
     "output_type": "execute_result"
    }
   ],
   "source": [
    "# Here I am setting up my scale\n",
    "scale = 1/0.0135722\n",
    "scale"
   ]
  },
  {
   "cell_type": "code",
   "execution_count": 139,
   "metadata": {},
   "outputs": [],
   "source": [
    "# I created this function to stream line our scaling,graphing, and evaluation process\n",
    "def ScaleGraphEval(y_pred,name):\n",
    "    #this scales our prediction to normal values \n",
    "    y_pred=y_pred*scale\n",
    "    #now with our normalized predictions we can graph them against the actual values of each day  \n",
    "    plt.figure(figsize=(18,5))\n",
    "    plt.plot(y_test, color = 'b', label = 'Actual VIX Value')\n",
    "    plt.plot(y_pred ,color ='r', label = 'Predicted VIX Value')\n",
    "    plt.title(name)\n",
    "    plt.xlabel('Time')\n",
    "    plt.ylabel('VIX Index Prediction')\n",
    "    plt.legend()\n",
    "    plt.show()\n",
    "    # This line of code calculates the RMSE and displays it at the bottom of the graph.\n",
    "    rmse = math.sqrt(mean_squared_error(y_test, y_pred))\n",
    "    print('The RMSE of this Model is',rmse)"
   ]
  },
  {
   "cell_type": "code",
   "execution_count": 140,
   "metadata": {},
   "outputs": [],
   "source": [
    "#Here we are scaling our y_test data back to normal.\n",
    "#This is the only time we will run this code \n",
    "y_test = y_test*scale"
   ]
  },
  {
   "cell_type": "code",
   "execution_count": 141,
   "metadata": {},
   "outputs": [
    {
     "data": {
      "image/png": "[encoded data removed]",
      "text/plain": [
       "<Figure size 1296x360 with 1 Axes>"
      ]
     },
     "metadata": {
      "needs_background": "light"
     },
     "output_type": "display_data"
    },
    {
     "name": "stdout",
     "output_type": "stream",
     "text": [
      "The RMSE of this Model is 3.5606395814838416\n"
     ]
    }
   ],
   "source": [
    "ScaleGraphEval(y_pred1,'VIX Index 2020 Prediction [Base Model]')"
   ]
  },
  {
   "cell_type": "markdown",
   "metadata": {},
   "source": [
    "# Model 2 "
   ]
  },
  {
   "cell_type": "code",
   "execution_count": 142,
   "metadata": {},
   "outputs": [],
   "source": [
    "\n",
    "# This is my second model\n",
    "model2 = Sequential()\n",
    "# After some trials I found that setting my units to 110 gets me the best rmse score \n",
    "model2.add(LSTM(units = 110, activation='relu', input_shape=(X_train.shape[1],5)))\n",
    "\n",
    "model2.add(Dense(1))"
   ]
  },
  {
   "cell_type": "code",
   "execution_count": 143,
   "metadata": {},
   "outputs": [
    {
     "name": "stdout",
     "output_type": "stream",
     "text": [
      "Model: \"sequential_4\"\n",
      "_________________________________________________________________\n",
      "Layer (type)                 Output Shape              Param #   \n",
      "=================================================================\n",
      "lstm_4 (LSTM)                (None, 110)               51040     \n",
      "_________________________________________________________________\n",
      "dense_4 (Dense)              (None, 1)                 111       \n",
      "=================================================================\n",
      "Total params: 51,151\n",
      "Trainable params: 51,151\n",
      "Non-trainable params: 0\n",
      "_________________________________________________________________\n"
     ]
    }
   ],
   "source": [
    "\n",
    "#Here I see that my model is set up properly \n",
    "model2.summary()"
   ]
  },
  {
   "cell_type": "code",
   "execution_count": 144,
   "metadata": {},
   "outputs": [
    {
     "name": "stdout",
     "output_type": "stream",
     "text": [
      "Epoch 1/80\n",
      "50/50 [==============================] - 1s 14ms/step - loss: 0.0031\n",
      "Epoch 2/80\n",
      "50/50 [==============================] - 1s 13ms/step - loss: 7.8176e-04\n",
      "Epoch 3/80\n",
      "50/50 [==============================] - 1s 14ms/step - loss: 6.2920e-04\n",
      "Epoch 4/80\n",
      "50/50 [==============================] - 1s 14ms/step - loss: 6.0611e-04\n",
      "Epoch 5/80\n",
      "50/50 [==============================] - 1s 13ms/step - loss: 5.2278e-04\n",
      "Epoch 6/80\n",
      "50/50 [==============================] - 1s 13ms/step - loss: 4.9967e-04\n",
      "Epoch 7/80\n",
      "50/50 [==============================] - 1s 13ms/step - loss: 4.6511e-04\n",
      "Epoch 8/80\n",
      "50/50 [==============================] - 1s 13ms/step - loss: 4.3247e-04\n",
      "Epoch 9/80\n",
      "50/50 [==============================] - 1s 13ms/step - loss: 4.5570e-04\n",
      "Epoch 10/80\n",
      "50/50 [==============================] - 1s 13ms/step - loss: 4.0889e-04\n",
      "Epoch 11/80\n",
      "50/50 [==============================] - 1s 13ms/step - loss: 3.8427e-04\n",
      "Epoch 12/80\n",
      "50/50 [==============================] - 1s 13ms/step - loss: 3.7730e-04\n",
      "Epoch 13/80\n",
      "50/50 [==============================] - 1s 13ms/step - loss: 3.7211e-04\n",
      "Epoch 14/80\n",
      "50/50 [==============================] - 1s 13ms/step - loss: 3.3299e-04\n",
      "Epoch 15/80\n",
      "50/50 [==============================] - 1s 13ms/step - loss: 3.3695e-04\n",
      "Epoch 16/80\n",
      "50/50 [==============================] - 1s 13ms/step - loss: 3.3540e-04\n",
      "Epoch 17/80\n",
      "50/50 [==============================] - 1s 13ms/step - loss: 2.9307e-04\n",
      "Epoch 18/80\n",
      "50/50 [==============================] - 1s 13ms/step - loss: 2.9571e-04\n",
      "Epoch 19/80\n",
      "50/50 [==============================] - 1s 13ms/step - loss: 2.7744e-04\n",
      "Epoch 20/80\n",
      "50/50 [==============================] - 1s 13ms/step - loss: 2.7127e-04\n",
      "Epoch 21/80\n",
      "50/50 [==============================] - 1s 13ms/step - loss: 2.5103e-04\n",
      "Epoch 22/80\n",
      "50/50 [==============================] - 1s 13ms/step - loss: 2.5309e-04\n",
      "Epoch 23/80\n",
      "50/50 [==============================] - 1s 13ms/step - loss: 2.3174e-04\n",
      "Epoch 24/80\n",
      "50/50 [==============================] - 1s 13ms/step - loss: 2.2633e-04\n",
      "Epoch 25/80\n",
      "50/50 [==============================] - 1s 13ms/step - loss: 2.2413e-04\n",
      "Epoch 26/80\n",
      "50/50 [==============================] - 1s 13ms/step - loss: 2.1886e-04\n",
      "Epoch 27/80\n",
      "50/50 [==============================] - 1s 13ms/step - loss: 2.2457e-04\n",
      "Epoch 28/80\n",
      "50/50 [==============================] - 1s 13ms/step - loss: 2.1537e-04\n",
      "Epoch 29/80\n",
      "50/50 [==============================] - 1s 13ms/step - loss: 2.0627e-04\n",
      "Epoch 30/80\n",
      "50/50 [==============================] - 1s 13ms/step - loss: 2.0399e-04\n",
      "Epoch 31/80\n",
      "50/50 [==============================] - 1s 13ms/step - loss: 2.0217e-04\n",
      "Epoch 32/80\n",
      "50/50 [==============================] - 1s 12ms/step - loss: 1.9847e-04\n",
      "Epoch 33/80\n",
      "50/50 [==============================] - 1s 13ms/step - loss: 1.9780e-04\n",
      "Epoch 34/80\n",
      "50/50 [==============================] - 1s 15ms/step - loss: 2.0545e-04\n",
      "Epoch 35/80\n",
      "50/50 [==============================] - 1s 13ms/step - loss: 1.9372e-04\n",
      "Epoch 36/80\n",
      "50/50 [==============================] - 1s 16ms/step - loss: 1.9736e-04\n",
      "Epoch 37/80\n",
      "50/50 [==============================] - 1s 16ms/step - loss: 1.9678e-04\n",
      "Epoch 38/80\n",
      "50/50 [==============================] - 1s 13ms/step - loss: 1.9288e-04\n",
      "Epoch 39/80\n",
      "50/50 [==============================] - 1s 13ms/step - loss: 2.0706e-04\n",
      "Epoch 40/80\n",
      "50/50 [==============================] - 1s 13ms/step - loss: 1.9106e-04\n",
      "Epoch 41/80\n",
      "50/50 [==============================] - 1s 13ms/step - loss: 1.9384e-04\n",
      "Epoch 42/80\n",
      "50/50 [==============================] - 1s 13ms/step - loss: 1.9048e-04\n",
      "Epoch 43/80\n",
      "50/50 [==============================] - 1s 13ms/step - loss: 1.8922e-04\n",
      "Epoch 44/80\n",
      "50/50 [==============================] - 1s 13ms/step - loss: 1.8957e-04\n",
      "Epoch 45/80\n",
      "50/50 [==============================] - 1s 12ms/step - loss: 1.8796e-04\n",
      "Epoch 46/80\n",
      "50/50 [==============================] - 1s 13ms/step - loss: 1.9124e-04\n",
      "Epoch 47/80\n",
      "50/50 [==============================] - 1s 13ms/step - loss: 1.8542e-04\n",
      "Epoch 48/80\n",
      "50/50 [==============================] - 1s 13ms/step - loss: 1.8924e-04\n",
      "Epoch 49/80\n",
      "50/50 [==============================] - 1s 13ms/step - loss: 1.8632e-04\n",
      "Epoch 50/80\n",
      "50/50 [==============================] - 1s 13ms/step - loss: 1.8930e-04\n",
      "Epoch 51/80\n",
      "50/50 [==============================] - 1s 13ms/step - loss: 1.8968e-04\n",
      "Epoch 52/80\n",
      "50/50 [==============================] - 1s 13ms/step - loss: 1.9188e-04\n",
      "Epoch 53/80\n",
      "50/50 [==============================] - 1s 13ms/step - loss: 1.8439e-04\n",
      "Epoch 54/80\n",
      "50/50 [==============================] - 1s 14ms/step - loss: 1.8265e-04\n",
      "Epoch 55/80\n",
      "50/50 [==============================] - 1s 19ms/step - loss: 1.7819e-04\n",
      "Epoch 56/80\n",
      "50/50 [==============================] - 1s 15ms/step - loss: 1.8243e-04\n",
      "Epoch 57/80\n",
      "50/50 [==============================] - 1s 14ms/step - loss: 1.8495e-04\n",
      "Epoch 58/80\n",
      "50/50 [==============================] - 1s 14ms/step - loss: 1.7840e-04\n",
      "Epoch 59/80\n",
      "50/50 [==============================] - 1s 13ms/step - loss: 1.8200e-04\n",
      "Epoch 60/80\n",
      "50/50 [==============================] - 1s 13ms/step - loss: 1.8366e-04\n",
      "Epoch 61/80\n",
      "50/50 [==============================] - 1s 13ms/step - loss: 1.8023e-04\n",
      "Epoch 62/80\n",
      "50/50 [==============================] - 1s 13ms/step - loss: 1.8196e-04\n",
      "Epoch 63/80\n",
      "50/50 [==============================] - 1s 13ms/step - loss: 1.8668e-04\n",
      "Epoch 64/80\n",
      "50/50 [==============================] - 1s 13ms/step - loss: 1.9026e-04\n",
      "Epoch 65/80\n",
      "50/50 [==============================] - 1s 14ms/step - loss: 1.8129e-04\n",
      "Epoch 66/80\n",
      "50/50 [==============================] - 1s 13ms/step - loss: 1.7817e-04\n",
      "Epoch 67/80\n",
      "50/50 [==============================] - 1s 13ms/step - loss: 1.7801e-04\n",
      "Epoch 68/80\n",
      "50/50 [==============================] - 1s 13ms/step - loss: 1.7290e-04\n",
      "Epoch 69/80\n",
      "50/50 [==============================] - 1s 13ms/step - loss: 1.7844e-04\n",
      "Epoch 70/80\n",
      "50/50 [==============================] - 1s 15ms/step - loss: 1.7512e-04\n",
      "Epoch 71/80\n",
      "50/50 [==============================] - 1s 13ms/step - loss: 1.8006e-04\n",
      "Epoch 72/80\n",
      "50/50 [==============================] - 1s 13ms/step - loss: 1.8281e-04\n",
      "Epoch 73/80\n",
      "50/50 [==============================] - 1s 13ms/step - loss: 1.7269e-04\n",
      "Epoch 74/80\n",
      "50/50 [==============================] - 1s 13ms/step - loss: 1.8544e-04\n",
      "Epoch 75/80\n",
      "50/50 [==============================] - 1s 13ms/step - loss: 1.7467e-04\n",
      "Epoch 76/80\n",
      "50/50 [==============================] - 1s 13ms/step - loss: 1.7810e-04\n",
      "Epoch 77/80\n",
      "50/50 [==============================] - 1s 13ms/step - loss: 1.7828e-04\n",
      "Epoch 78/80\n",
      "50/50 [==============================] - 1s 13ms/step - loss: 1.7442e-04\n",
      "Epoch 79/80\n",
      "50/50 [==============================] - 1s 13ms/step - loss: 1.7993e-04\n",
      "Epoch 80/80\n",
      "50/50 [==============================] - 1s 14ms/step - loss: 1.7548e-04\n"
     ]
    },
    {
     "data": {
      "text/plain": [
       "<tensorflow.python.keras.callbacks.History at 0x14ba5d8d0>"
      ]
     },
     "execution_count": 144,
     "metadata": {},
     "output_type": "execute_result"
    }
   ],
   "source": [
    "model2.compile(optimizer='adam', loss = 'mean_squared_error')\n",
    "# After a few trials I found that increaseing my epochs to 80 and reducing my batch size to 50 gave me a lower rmse \n",
    "model2.fit(X_train,y_train,epochs=80,batch_size=50)"
   ]
  },
  {
   "cell_type": "code",
   "execution_count": 146,
   "metadata": {},
   "outputs": [
    {
     "data": {
      "text/plain": [
       "array([[0.27280283],\n",
       "       [0.26951894],\n",
       "       [0.24881232],\n",
       "       [0.23278588],\n",
       "       [0.23290524],\n",
       "       [0.21502522],\n",
       "       [0.23436193],\n",
       "       [0.25627986],\n",
       "       [0.25704643],\n",
       "       [0.4128843 ],\n",
       "       [0.36414334],\n",
       "       [0.36416098],\n",
       "       [0.34741998],\n",
       "       [0.33884245],\n",
       "       [0.3341177 ],\n",
       "       [0.35751826],\n",
       "       [0.3138859 ]], dtype=float32)"
      ]
     },
     "execution_count": 146,
     "metadata": {},
     "output_type": "execute_result"
    }
   ],
   "source": [
    "y_pred2 = model2.predict(X_test)\n",
    "y_pred2"
   ]
  },
  {
   "cell_type": "code",
   "execution_count": 148,
   "metadata": {},
   "outputs": [
    {
     "data": {
      "image/png": "[encoded data removed]",
      "text/plain": [
       "<Figure size 1296x360 with 1 Axes>"
      ]
     },
     "metadata": {
      "needs_background": "light"
     },
     "output_type": "display_data"
    },
    {
     "name": "stdout",
     "output_type": "stream",
     "text": [
      "The RMSE of this Model is 2.284391800570448\n"
     ]
    }
   ],
   "source": [
    "ScaleGraphEval(y_pred2,'VIX Index 2020 Prediction [Model#2]')\n",
    "#Here we got an RMSE of 2.28 though I suspect that there is an over fitting problem"
   ]
  },
  {
   "cell_type": "markdown",
   "metadata": {},
   "source": [
    "# Model 3 "
   ]
  },
  {
   "cell_type": "code",
   "execution_count": 149,
   "metadata": {},
   "outputs": [],
   "source": [
    "# This is my third model \n",
    "model3 = Sequential()\n",
    "#In this model I am adding a second layer to see how my results vary \n",
    "model3.add(LSTM(units = 110, activation='relu',return_sequences = True, input_shape=(X_train.shape[1],5)))\n",
    "model3.add(Dropout(0.2))\n",
    "#After some experimination and research I found that lowering the number of units in my second layer increases performance \n",
    "model3.add(LSTM(units = 80, activation='relu'))\n",
    "model3.add(Dropout(0.2))\n",
    "#I added droupout of .2 to each layer to solve my overfitting problem \n",
    "model3.add(Dense(1))"
   ]
  },
  {
   "cell_type": "code",
   "execution_count": 150,
   "metadata": {},
   "outputs": [
    {
     "name": "stdout",
     "output_type": "stream",
     "text": [
      "Model: \"sequential_5\"\n",
      "_________________________________________________________________\n",
      "Layer (type)                 Output Shape              Param #   \n",
      "=================================================================\n",
      "lstm_5 (LSTM)                (None, 30, 110)           51040     \n",
      "_________________________________________________________________\n",
      "dropout (Dropout)            (None, 30, 110)           0         \n",
      "_________________________________________________________________\n",
      "lstm_6 (LSTM)                (None, 80)                61120     \n",
      "_________________________________________________________________\n",
      "dropout_1 (Dropout)          (None, 80)                0         \n",
      "_________________________________________________________________\n",
      "dense_5 (Dense)              (None, 1)                 81        \n",
      "=================================================================\n",
      "Total params: 112,241\n",
      "Trainable params: 112,241\n",
      "Non-trainable params: 0\n",
      "_________________________________________________________________\n"
     ]
    }
   ],
   "source": [
    "# I see my model is set up exactly to my specifications \n",
    "model3.summary()"
   ]
  },
  {
   "cell_type": "code",
   "execution_count": 151,
   "metadata": {},
   "outputs": [
    {
     "name": "stdout",
     "output_type": "stream",
     "text": [
      "Epoch 1/80\n",
      "50/50 [==============================] - 1s 26ms/step - loss: 0.0031\n",
      "Epoch 2/80\n",
      "50/50 [==============================] - 1s 25ms/step - loss: 0.0016\n",
      "Epoch 3/80\n",
      "50/50 [==============================] - 1s 25ms/step - loss: 0.0014\n",
      "Epoch 4/80\n",
      "50/50 [==============================] - 1s 25ms/step - loss: 0.0013\n",
      "Epoch 5/80\n",
      "50/50 [==============================] - 1s 25ms/step - loss: 0.0011\n",
      "Epoch 6/80\n",
      "50/50 [==============================] - 1s 25ms/step - loss: 9.5009e-04\n",
      "Epoch 7/80\n",
      "50/50 [==============================] - 1s 24ms/step - loss: 0.0010\n",
      "Epoch 8/80\n",
      "50/50 [==============================] - 1s 25ms/step - loss: 8.9881e-04\n",
      "Epoch 9/80\n",
      "50/50 [==============================] - 1s 26ms/step - loss: 8.5951e-04\n",
      "Epoch 10/80\n",
      "50/50 [==============================] - 1s 25ms/step - loss: 8.4685e-04\n",
      "Epoch 11/80\n",
      "50/50 [==============================] - 1s 25ms/step - loss: 7.1651e-04\n",
      "Epoch 12/80\n",
      "50/50 [==============================] - 1s 26ms/step - loss: 7.3516e-04\n",
      "Epoch 13/80\n",
      "50/50 [==============================] - 1s 25ms/step - loss: 8.7444e-04\n",
      "Epoch 14/80\n",
      "50/50 [==============================] - 1s 26ms/step - loss: 6.9093e-04\n",
      "Epoch 15/80\n",
      "50/50 [==============================] - 1s 26ms/step - loss: 5.4345e-04\n",
      "Epoch 16/80\n",
      "50/50 [==============================] - 1s 25ms/step - loss: 6.0071e-04\n",
      "Epoch 17/80\n",
      "50/50 [==============================] - 1s 26ms/step - loss: 6.6587e-04\n",
      "Epoch 18/80\n",
      "50/50 [==============================] - 1s 25ms/step - loss: 5.5196e-04\n",
      "Epoch 19/80\n",
      "50/50 [==============================] - 1s 25ms/step - loss: 5.5721e-04\n",
      "Epoch 20/80\n",
      "50/50 [==============================] - 1s 25ms/step - loss: 5.4652e-04\n",
      "Epoch 21/80\n",
      "50/50 [==============================] - 1s 26ms/step - loss: 5.3331e-04\n",
      "Epoch 22/80\n",
      "50/50 [==============================] - 1s 25ms/step - loss: 5.1955e-04\n",
      "Epoch 23/80\n",
      "50/50 [==============================] - 1s 25ms/step - loss: 4.6927e-04\n",
      "Epoch 24/80\n",
      "50/50 [==============================] - 1s 26ms/step - loss: 4.5433e-04\n",
      "Epoch 25/80\n",
      "50/50 [==============================] - 1s 25ms/step - loss: 5.0145e-04\n",
      "Epoch 26/80\n",
      "50/50 [==============================] - 1s 26ms/step - loss: 4.4828e-04\n",
      "Epoch 27/80\n",
      "50/50 [==============================] - 1s 26ms/step - loss: 5.6157e-04\n",
      "Epoch 28/80\n",
      "50/50 [==============================] - 1s 25ms/step - loss: 4.9446e-04\n",
      "Epoch 29/80\n",
      "50/50 [==============================] - 1s 26ms/step - loss: 4.5771e-04\n",
      "Epoch 30/80\n",
      "50/50 [==============================] - 1s 26ms/step - loss: 4.2119e-04\n",
      "Epoch 31/80\n",
      "50/50 [==============================] - 1s 26ms/step - loss: 4.6633e-04\n",
      "Epoch 32/80\n",
      "50/50 [==============================] - 1s 25ms/step - loss: 4.2688e-04\n",
      "Epoch 33/80\n",
      "50/50 [==============================] - 1s 25ms/step - loss: 3.9800e-04\n",
      "Epoch 34/80\n",
      "50/50 [==============================] - 1s 26ms/step - loss: 3.5991e-04\n",
      "Epoch 35/80\n",
      "50/50 [==============================] - 1s 25ms/step - loss: 4.5210e-04\n",
      "Epoch 36/80\n",
      "50/50 [==============================] - 1s 25ms/step - loss: 4.5142e-04\n",
      "Epoch 37/80\n",
      "50/50 [==============================] - 1s 25ms/step - loss: 4.7731e-04\n",
      "Epoch 38/80\n",
      "50/50 [==============================] - 1s 25ms/step - loss: 4.0650e-04\n",
      "Epoch 39/80\n",
      "50/50 [==============================] - 1s 25ms/step - loss: 4.2976e-04\n",
      "Epoch 40/80\n",
      "50/50 [==============================] - 1s 26ms/step - loss: 3.8615e-04\n",
      "Epoch 41/80\n",
      "50/50 [==============================] - 1s 25ms/step - loss: 3.7893e-04\n",
      "Epoch 42/80\n",
      "50/50 [==============================] - 1s 27ms/step - loss: 3.6785e-04\n",
      "Epoch 43/80\n",
      "50/50 [==============================] - 1s 26ms/step - loss: 3.4743e-04\n",
      "Epoch 44/80\n",
      "50/50 [==============================] - 1s 25ms/step - loss: 3.6631e-04\n",
      "Epoch 45/80\n",
      "50/50 [==============================] - 1s 25ms/step - loss: 3.7461e-04\n",
      "Epoch 46/80\n",
      "50/50 [==============================] - 1s 25ms/step - loss: 4.2407e-04\n",
      "Epoch 47/80\n",
      "50/50 [==============================] - 1s 25ms/step - loss: 3.5769e-04\n",
      "Epoch 48/80\n",
      "50/50 [==============================] - 1s 25ms/step - loss: 4.1219e-04\n",
      "Epoch 49/80\n",
      "50/50 [==============================] - 1s 25ms/step - loss: 3.7359e-04\n",
      "Epoch 50/80\n",
      "50/50 [==============================] - 1s 25ms/step - loss: 3.7513e-04\n",
      "Epoch 51/80\n",
      "50/50 [==============================] - 1s 25ms/step - loss: 4.0422e-04\n",
      "Epoch 52/80\n",
      "50/50 [==============================] - 1s 27ms/step - loss: 4.2735e-04\n",
      "Epoch 53/80\n",
      "50/50 [==============================] - 1s 26ms/step - loss: 3.4909e-04\n",
      "Epoch 54/80\n",
      "50/50 [==============================] - 1s 25ms/step - loss: 3.7990e-04\n",
      "Epoch 55/80\n",
      "50/50 [==============================] - 1s 26ms/step - loss: 3.6479e-04\n",
      "Epoch 56/80\n",
      "50/50 [==============================] - 1s 26ms/step - loss: 3.5806e-04\n",
      "Epoch 57/80\n",
      "50/50 [==============================] - 1s 26ms/step - loss: 4.4553e-04\n",
      "Epoch 58/80\n",
      "50/50 [==============================] - 1s 25ms/step - loss: 3.6540e-04\n",
      "Epoch 59/80\n",
      "50/50 [==============================] - 1s 25ms/step - loss: 3.8129e-04\n",
      "Epoch 60/80\n",
      "50/50 [==============================] - 1s 25ms/step - loss: 3.8530e-04\n",
      "Epoch 61/80\n",
      "50/50 [==============================] - 1s 25ms/step - loss: 3.6192e-04\n",
      "Epoch 62/80\n",
      "50/50 [==============================] - 1s 25ms/step - loss: 3.2017e-04\n",
      "Epoch 63/80\n",
      "50/50 [==============================] - 1s 26ms/step - loss: 3.5427e-04\n",
      "Epoch 64/80\n",
      "50/50 [==============================] - 1s 26ms/step - loss: 3.6642e-04\n",
      "Epoch 65/80\n",
      "50/50 [==============================] - 1s 25ms/step - loss: 3.8705e-04\n",
      "Epoch 66/80\n",
      "50/50 [==============================] - 1s 25ms/step - loss: 3.7931e-04\n",
      "Epoch 67/80\n",
      "50/50 [==============================] - 1s 25ms/step - loss: 3.4907e-04\n",
      "Epoch 68/80\n",
      "50/50 [==============================] - 1s 25ms/step - loss: 3.7215e-04\n",
      "Epoch 69/80\n",
      "50/50 [==============================] - 1s 25ms/step - loss: 3.4678e-04\n",
      "Epoch 70/80\n",
      "50/50 [==============================] - 1s 24ms/step - loss: 3.3887e-04\n",
      "Epoch 71/80\n",
      "50/50 [==============================] - 1s 25ms/step - loss: 3.7297e-04\n",
      "Epoch 72/80\n",
      "50/50 [==============================] - 1s 24ms/step - loss: 3.7782e-04\n",
      "Epoch 73/80\n",
      "50/50 [==============================] - 1s 24ms/step - loss: 3.2712e-04\n",
      "Epoch 74/80\n",
      "50/50 [==============================] - 1s 24ms/step - loss: 3.4363e-04\n",
      "Epoch 75/80\n",
      "50/50 [==============================] - 1s 26ms/step - loss: 3.5321e-04\n",
      "Epoch 76/80\n",
      "50/50 [==============================] - 1s 25ms/step - loss: 3.4201e-04\n",
      "Epoch 77/80\n",
      "50/50 [==============================] - 1s 24ms/step - loss: 3.5770e-04\n",
      "Epoch 78/80\n",
      "50/50 [==============================] - 1s 25ms/step - loss: 3.4966e-04\n",
      "Epoch 79/80\n",
      "50/50 [==============================] - 1s 25ms/step - loss: 4.0261e-04\n",
      "Epoch 80/80\n",
      "50/50 [==============================] - 1s 25ms/step - loss: 4.1329e-04\n"
     ]
    },
    {
     "data": {
      "text/plain": [
       "<tensorflow.python.keras.callbacks.History at 0x14a986b90>"
      ]
     },
     "execution_count": 151,
     "metadata": {},
     "output_type": "execute_result"
    }
   ],
   "source": [
    "model3.compile(optimizer='adam', loss = 'mean_squared_error')\n",
    "\n",
    "model3.fit(X_train,y_train,epochs=80,batch_size=50)"
   ]
  },
  {
   "cell_type": "code",
   "execution_count": 152,
   "metadata": {},
   "outputs": [
    {
     "data": {
      "text/plain": [
       "array([[0.27152014],\n",
       "       [0.26634732],\n",
       "       [0.25078267],\n",
       "       [0.23622788],\n",
       "       [0.23467809],\n",
       "       [0.21707474],\n",
       "       [0.23313345],\n",
       "       [0.24865009],\n",
       "       [0.25211895],\n",
       "       [0.41167378],\n",
       "       [0.36043608],\n",
       "       [0.37685066],\n",
       "       [0.33549142],\n",
       "       [0.3428632 ],\n",
       "       [0.328911  ],\n",
       "       [0.3505727 ],\n",
       "       [0.3144905 ]], dtype=float32)"
      ]
     },
     "execution_count": 152,
     "metadata": {},
     "output_type": "execute_result"
    }
   ],
   "source": [
    "y_pred3 = model3.predict(X_test)\n",
    "\n",
    "y_pred3"
   ]
  },
  {
   "cell_type": "code",
   "execution_count": 153,
   "metadata": {},
   "outputs": [
    {
     "data": {
      "image/png": "[encoded data removed]",
      "text/plain": [
       "<Figure size 1296x360 with 1 Axes>"
      ]
     },
     "metadata": {
      "needs_background": "light"
     },
     "output_type": "display_data"
    },
    {
     "name": "stdout",
     "output_type": "stream",
     "text": [
      "The RMSE of this Model is 2.3718935082904187\n"
     ]
    }
   ],
   "source": [
    "\n",
    "ScaleGraphEval(y_pred3,'VIX Index 2020 Prediction [Model#3]')"
   ]
  },
  {
   "cell_type": "markdown",
   "metadata": {},
   "source": [
    "# Final Model"
   ]
  },
  {
   "cell_type": "code",
   "execution_count": 155,
   "metadata": {},
   "outputs": [],
   "source": [
    "#This is my 4th and last model \n",
    "regressor = Sequential()\n",
    "#I added a third layer to see if doing so would improve my results \n",
    "regressor.add(LSTM(units = 150, activation='relu',return_sequences = True, input_shape=(X_train.shape[1],5)))\n",
    "regressor.add(Dropout(0.15))\n",
    "#Here I followed the same pattern of decreasing units at ever layer\n",
    "regressor.add(LSTM(units = 100, activation='relu',return_sequences = True))\n",
    "regressor.add(Dropout(0.15))\n",
    "#I added a dropout of .15 to each layer \n",
    "regressor.add(LSTM(units = 80, activation='relu'))\n",
    "regressor.add(Dropout(0.15))\n",
    "\n",
    "regressor.add(Dense(1))"
   ]
  },
  {
   "cell_type": "code",
   "execution_count": 156,
   "metadata": {},
   "outputs": [
    {
     "name": "stdout",
     "output_type": "stream",
     "text": [
      "Model: \"sequential_7\"\n",
      "_________________________________________________________________\n",
      "Layer (type)                 Output Shape              Param #   \n",
      "=================================================================\n",
      "lstm_10 (LSTM)               (None, 30, 150)           93600     \n",
      "_________________________________________________________________\n",
      "dropout_5 (Dropout)          (None, 30, 150)           0         \n",
      "_________________________________________________________________\n",
      "lstm_11 (LSTM)               (None, 30, 100)           100400    \n",
      "_________________________________________________________________\n",
      "dropout_6 (Dropout)          (None, 30, 100)           0         \n",
      "_________________________________________________________________\n",
      "lstm_12 (LSTM)               (None, 80)                57920     \n",
      "_________________________________________________________________\n",
      "dropout_7 (Dropout)          (None, 80)                0         \n",
      "_________________________________________________________________\n",
      "dense_7 (Dense)              (None, 1)                 81        \n",
      "=================================================================\n",
      "Total params: 252,001\n",
      "Trainable params: 252,001\n",
      "Non-trainable params: 0\n",
      "_________________________________________________________________\n"
     ]
    }
   ],
   "source": [
    "\n",
    "#Here I see that my model is set up to my exact specifications \n",
    "regressor.summary()"
   ]
  },
  {
   "cell_type": "code",
   "execution_count": 157,
   "metadata": {},
   "outputs": [],
   "source": [
    "regressor.compile(optimizer='adam', loss = 'mean_squared_error')"
   ]
  },
  {
   "cell_type": "code",
   "execution_count": 158,
   "metadata": {
    "scrolled": false
   },
   "outputs": [
    {
     "name": "stdout",
     "output_type": "stream",
     "text": [
      "Epoch 1/180\n",
      "50/50 [==============================] - 2s 43ms/step - loss: 0.0050\n",
      "Epoch 2/180\n",
      "50/50 [==============================] - 2s 42ms/step - loss: 0.0026\n",
      "Epoch 3/180\n",
      "50/50 [==============================] - 2s 41ms/step - loss: 0.0019\n",
      "Epoch 4/180\n",
      "50/50 [==============================] - 2s 40ms/step - loss: 0.0018\n",
      "Epoch 5/180\n",
      "50/50 [==============================] - 2s 40ms/step - loss: 0.0013\n",
      "Epoch 6/180\n",
      "50/50 [==============================] - 2s 41ms/step - loss: 0.0013\n",
      "Epoch 7/180\n",
      "50/50 [==============================] - 2s 42ms/step - loss: 0.0013\n",
      "Epoch 8/180\n",
      "50/50 [==============================] - 2s 39ms/step - loss: 0.0011\n",
      "Epoch 9/180\n",
      "50/50 [==============================] - 2s 40ms/step - loss: 0.0011\n",
      "Epoch 10/180\n",
      "50/50 [==============================] - 2s 40ms/step - loss: 9.4951e-04\n",
      "Epoch 11/180\n",
      "50/50 [==============================] - 2s 40ms/step - loss: 8.9876e-04\n",
      "Epoch 12/180\n",
      "50/50 [==============================] - 2s 39ms/step - loss: 9.8829e-04\n",
      "Epoch 13/180\n",
      "50/50 [==============================] - 2s 40ms/step - loss: 7.7475e-04\n",
      "Epoch 14/180\n",
      "50/50 [==============================] - 2s 41ms/step - loss: 0.0010\n",
      "Epoch 15/180\n",
      "50/50 [==============================] - 2s 40ms/step - loss: 8.7667e-04\n",
      "Epoch 16/180\n",
      "50/50 [==============================] - 2s 39ms/step - loss: 7.7019e-04\n",
      "Epoch 17/180\n",
      "50/50 [==============================] - 2s 41ms/step - loss: 7.2359e-04\n",
      "Epoch 18/180\n",
      "50/50 [==============================] - 2s 41ms/step - loss: 7.1905e-04\n",
      "Epoch 19/180\n",
      "50/50 [==============================] - 2s 40ms/step - loss: 6.2126e-04\n",
      "Epoch 20/180\n",
      "50/50 [==============================] - 2s 40ms/step - loss: 5.6843e-04\n",
      "Epoch 21/180\n",
      "50/50 [==============================] - 2s 41ms/step - loss: 6.5520e-04\n",
      "Epoch 22/180\n",
      "50/50 [==============================] - 2s 41ms/step - loss: 6.4880e-04\n",
      "Epoch 23/180\n",
      "50/50 [==============================] - 2s 40ms/step - loss: 5.7579e-04\n",
      "Epoch 24/180\n",
      "50/50 [==============================] - 2s 40ms/step - loss: 5.7528e-04\n",
      "Epoch 25/180\n",
      "50/50 [==============================] - 2s 40ms/step - loss: 5.8447e-04\n",
      "Epoch 26/180\n",
      "50/50 [==============================] - 2s 40ms/step - loss: 5.5661e-04\n",
      "Epoch 27/180\n",
      "50/50 [==============================] - 2s 40ms/step - loss: 6.0303e-04\n",
      "Epoch 28/180\n",
      "50/50 [==============================] - 2s 40ms/step - loss: 5.1618e-04\n",
      "Epoch 29/180\n",
      "50/50 [==============================] - 2s 41ms/step - loss: 5.7406e-04\n",
      "Epoch 30/180\n",
      "50/50 [==============================] - 2s 39ms/step - loss: 5.3811e-04\n",
      "Epoch 31/180\n",
      "50/50 [==============================] - 2s 40ms/step - loss: 5.5625e-04\n",
      "Epoch 32/180\n",
      "50/50 [==============================] - 2s 39ms/step - loss: 5.3272e-04\n",
      "Epoch 33/180\n",
      "50/50 [==============================] - 2s 39ms/step - loss: 5.4601e-04\n",
      "Epoch 34/180\n",
      "50/50 [==============================] - 2s 39ms/step - loss: 6.3123e-04\n",
      "Epoch 35/180\n",
      "50/50 [==============================] - 2s 39ms/step - loss: 4.9973e-04\n",
      "Epoch 36/180\n",
      "50/50 [==============================] - 2s 39ms/step - loss: 5.9629e-04\n",
      "Epoch 37/180\n",
      "50/50 [==============================] - 2s 41ms/step - loss: 4.7152e-04\n",
      "Epoch 38/180\n",
      "50/50 [==============================] - 2s 39ms/step - loss: 4.9679e-04\n",
      "Epoch 39/180\n",
      "50/50 [==============================] - 2s 39ms/step - loss: 4.6788e-04\n",
      "Epoch 40/180\n",
      "50/50 [==============================] - 2s 39ms/step - loss: 5.3572e-04\n",
      "Epoch 41/180\n",
      "50/50 [==============================] - 2s 39ms/step - loss: 4.6978e-04\n",
      "Epoch 42/180\n",
      "50/50 [==============================] - 2s 39ms/step - loss: 4.2871e-04\n",
      "Epoch 43/180\n",
      "50/50 [==============================] - 2s 42ms/step - loss: 4.1762e-04\n",
      "Epoch 44/180\n",
      "50/50 [==============================] - 2s 42ms/step - loss: 5.0200e-04\n",
      "Epoch 45/180\n",
      "50/50 [==============================] - 2s 40ms/step - loss: 4.3225e-04\n",
      "Epoch 46/180\n",
      "50/50 [==============================] - 2s 40ms/step - loss: 3.7734e-04\n",
      "Epoch 47/180\n",
      "50/50 [==============================] - 2s 40ms/step - loss: 4.0364e-04\n",
      "Epoch 48/180\n",
      "50/50 [==============================] - 2s 42ms/step - loss: 4.1046e-04\n",
      "Epoch 49/180\n",
      "50/50 [==============================] - 2s 43ms/step - loss: 4.2260e-04\n",
      "Epoch 50/180\n",
      "50/50 [==============================] - 2s 42ms/step - loss: 3.9816e-04\n",
      "Epoch 51/180\n",
      "50/50 [==============================] - 2s 42ms/step - loss: 4.0084e-04\n",
      "Epoch 52/180\n",
      "50/50 [==============================] - 2s 45ms/step - loss: 3.4743e-04\n",
      "Epoch 53/180\n",
      "50/50 [==============================] - 2s 43ms/step - loss: 4.6335e-04\n",
      "Epoch 54/180\n",
      "50/50 [==============================] - 2s 40ms/step - loss: 4.0819e-04\n",
      "Epoch 55/180\n",
      "50/50 [==============================] - 2s 42ms/step - loss: 4.2830e-04\n",
      "Epoch 56/180\n",
      "50/50 [==============================] - 2s 48ms/step - loss: 4.2032e-04\n",
      "Epoch 57/180\n",
      "50/50 [==============================] - 2s 42ms/step - loss: 3.5421e-04\n",
      "Epoch 58/180\n",
      "50/50 [==============================] - 2s 41ms/step - loss: 3.8812e-04\n",
      "Epoch 59/180\n",
      "50/50 [==============================] - 2s 44ms/step - loss: 3.8888e-04\n",
      "Epoch 60/180\n",
      "50/50 [==============================] - 2s 46ms/step - loss: 4.7217e-04\n",
      "Epoch 61/180\n",
      "50/50 [==============================] - 2s 44ms/step - loss: 3.6152e-04\n",
      "Epoch 62/180\n",
      "50/50 [==============================] - 2s 45ms/step - loss: 3.8858e-04\n",
      "Epoch 63/180\n",
      "50/50 [==============================] - 2s 44ms/step - loss: 3.7086e-04\n",
      "Epoch 64/180\n",
      "50/50 [==============================] - 2s 44ms/step - loss: 3.7638e-04\n",
      "Epoch 65/180\n",
      "50/50 [==============================] - 2s 44ms/step - loss: 3.6233e-04\n",
      "Epoch 66/180\n",
      "50/50 [==============================] - 2s 43ms/step - loss: 4.4078e-04\n",
      "Epoch 67/180\n",
      "50/50 [==============================] - 2s 45ms/step - loss: 4.4946e-04\n",
      "Epoch 68/180\n",
      "50/50 [==============================] - 2s 42ms/step - loss: 3.8782e-04\n",
      "Epoch 69/180\n",
      "50/50 [==============================] - 2s 44ms/step - loss: 3.1811e-04\n",
      "Epoch 70/180\n",
      "50/50 [==============================] - 2s 44ms/step - loss: 4.0550e-04\n",
      "Epoch 71/180\n",
      "50/50 [==============================] - 2s 48ms/step - loss: 3.9318e-04\n",
      "Epoch 72/180\n",
      "50/50 [==============================] - 2s 45ms/step - loss: 3.4011e-04\n",
      "Epoch 73/180\n",
      "50/50 [==============================] - 2s 47ms/step - loss: 3.8133e-04\n",
      "Epoch 74/180\n",
      "50/50 [==============================] - 2s 45ms/step - loss: 3.8180e-04\n",
      "Epoch 75/180\n",
      "50/50 [==============================] - 2s 45ms/step - loss: 3.0444e-04\n",
      "Epoch 76/180\n",
      "50/50 [==============================] - 2s 44ms/step - loss: 3.8083e-04\n",
      "Epoch 77/180\n",
      "50/50 [==============================] - 2s 43ms/step - loss: 3.6553e-04\n",
      "Epoch 78/180\n",
      "50/50 [==============================] - 2s 44ms/step - loss: 3.6046e-04\n",
      "Epoch 79/180\n",
      "50/50 [==============================] - 2s 42ms/step - loss: 3.6837e-04\n",
      "Epoch 80/180\n",
      "50/50 [==============================] - 2s 42ms/step - loss: 3.6884e-04\n",
      "Epoch 81/180\n",
      "50/50 [==============================] - 2s 42ms/step - loss: 4.0956e-04\n",
      "Epoch 82/180\n",
      "50/50 [==============================] - 2s 42ms/step - loss: 3.6605e-04\n",
      "Epoch 83/180\n",
      "50/50 [==============================] - 2s 41ms/step - loss: 3.3959e-04\n",
      "Epoch 84/180\n",
      "50/50 [==============================] - 2s 41ms/step - loss: 3.1476e-04\n",
      "Epoch 85/180\n",
      "50/50 [==============================] - 2s 42ms/step - loss: 3.2653e-04\n",
      "Epoch 86/180\n",
      "50/50 [==============================] - 2s 41ms/step - loss: 3.3813e-04\n",
      "Epoch 87/180\n",
      "50/50 [==============================] - 2s 41ms/step - loss: 3.5876e-04\n",
      "Epoch 88/180\n",
      "50/50 [==============================] - 2s 41ms/step - loss: 2.8276e-04\n",
      "Epoch 89/180\n",
      "50/50 [==============================] - 2s 41ms/step - loss: 3.7877e-04\n",
      "Epoch 90/180\n",
      "50/50 [==============================] - 2s 42ms/step - loss: 3.3674e-04\n",
      "Epoch 91/180\n",
      "50/50 [==============================] - 2s 42ms/step - loss: 4.0696e-04\n",
      "Epoch 92/180\n",
      "50/50 [==============================] - 2s 44ms/step - loss: 3.4757e-04\n",
      "Epoch 93/180\n",
      "50/50 [==============================] - 2s 44ms/step - loss: 3.1830e-04\n",
      "Epoch 94/180\n",
      "50/50 [==============================] - 2s 45ms/step - loss: 3.3591e-04\n",
      "Epoch 95/180\n",
      "50/50 [==============================] - 2s 44ms/step - loss: 3.7679e-04\n",
      "Epoch 96/180\n",
      "50/50 [==============================] - 2s 44ms/step - loss: 3.5253e-04\n",
      "Epoch 97/180\n",
      "50/50 [==============================] - 2s 48ms/step - loss: 3.5011e-04\n",
      "Epoch 98/180\n",
      "50/50 [==============================] - 2s 45ms/step - loss: 3.3718e-04\n",
      "Epoch 99/180\n",
      "50/50 [==============================] - 2s 43ms/step - loss: 3.4568e-04\n",
      "Epoch 100/180\n",
      "50/50 [==============================] - 2s 43ms/step - loss: 3.0888e-04\n",
      "Epoch 101/180\n",
      "50/50 [==============================] - 2s 43ms/step - loss: 3.6058e-04\n",
      "Epoch 102/180\n",
      "50/50 [==============================] - 2s 43ms/step - loss: 3.4633e-04\n",
      "Epoch 103/180\n",
      "50/50 [==============================] - 2s 42ms/step - loss: 3.2559e-04\n",
      "Epoch 104/180\n",
      "50/50 [==============================] - 2s 42ms/step - loss: 3.4636e-04\n",
      "Epoch 105/180\n",
      "50/50 [==============================] - 2s 43ms/step - loss: 3.1516e-04\n",
      "Epoch 106/180\n",
      "50/50 [==============================] - 2s 42ms/step - loss: 3.2254e-04\n",
      "Epoch 107/180\n",
      "50/50 [==============================] - 2s 41ms/step - loss: 3.4865e-04\n",
      "Epoch 108/180\n",
      "50/50 [==============================] - 2s 41ms/step - loss: 3.2608e-04\n",
      "Epoch 109/180\n",
      "50/50 [==============================] - 2s 41ms/step - loss: 3.7449e-04\n",
      "Epoch 110/180\n",
      "50/50 [==============================] - 2s 41ms/step - loss: 3.7748e-04\n",
      "Epoch 111/180\n",
      "50/50 [==============================] - 2s 40ms/step - loss: 3.2986e-04\n",
      "Epoch 112/180\n",
      "50/50 [==============================] - 2s 42ms/step - loss: 3.7549e-04\n",
      "Epoch 113/180\n",
      "50/50 [==============================] - 2s 41ms/step - loss: 3.4667e-04\n",
      "Epoch 114/180\n",
      "50/50 [==============================] - 2s 43ms/step - loss: 3.4208e-04\n",
      "Epoch 115/180\n",
      "50/50 [==============================] - 2s 43ms/step - loss: 3.6648e-04\n",
      "Epoch 116/180\n",
      "50/50 [==============================] - 2s 44ms/step - loss: 3.4061e-04\n",
      "Epoch 117/180\n",
      "50/50 [==============================] - 2s 44ms/step - loss: 3.7233e-04\n",
      "Epoch 118/180\n",
      "50/50 [==============================] - 2s 45ms/step - loss: 3.3668e-04\n",
      "Epoch 119/180\n",
      "50/50 [==============================] - 2s 45ms/step - loss: 3.1645e-04\n",
      "Epoch 120/180\n",
      "50/50 [==============================] - 2s 44ms/step - loss: 3.5948e-04\n",
      "Epoch 121/180\n",
      "50/50 [==============================] - 2s 43ms/step - loss: 3.1556e-04\n",
      "Epoch 122/180\n",
      "50/50 [==============================] - 2s 43ms/step - loss: 3.3921e-04\n",
      "Epoch 123/180\n",
      "50/50 [==============================] - 2s 43ms/step - loss: 3.1033e-04\n",
      "Epoch 124/180\n",
      "50/50 [==============================] - 2s 44ms/step - loss: 3.6941e-04\n",
      "Epoch 125/180\n",
      "50/50 [==============================] - 2s 44ms/step - loss: 3.9061e-04\n",
      "Epoch 126/180\n",
      "50/50 [==============================] - 2s 46ms/step - loss: 3.3828e-04\n",
      "Epoch 127/180\n",
      "50/50 [==============================] - 2s 44ms/step - loss: 3.3187e-04\n",
      "Epoch 128/180\n",
      "50/50 [==============================] - 2s 45ms/step - loss: 3.5865e-04\n",
      "Epoch 129/180\n",
      "50/50 [==============================] - 2s 45ms/step - loss: 2.9934e-04\n",
      "Epoch 130/180\n",
      "50/50 [==============================] - 2s 46ms/step - loss: 4.1534e-04\n",
      "Epoch 131/180\n",
      "50/50 [==============================] - 2s 45ms/step - loss: 3.3974e-04\n",
      "Epoch 132/180\n",
      "50/50 [==============================] - 2s 49ms/step - loss: 3.3323e-04\n",
      "Epoch 133/180\n",
      "50/50 [==============================] - 2s 47ms/step - loss: 3.1647e-04\n",
      "Epoch 134/180\n",
      "50/50 [==============================] - 2s 45ms/step - loss: 3.2734e-04\n",
      "Epoch 135/180\n",
      "50/50 [==============================] - 2s 45ms/step - loss: 2.8627e-04\n",
      "Epoch 136/180\n",
      "50/50 [==============================] - 2s 45ms/step - loss: 3.3645e-04\n",
      "Epoch 137/180\n",
      "50/50 [==============================] - 2s 46ms/step - loss: 3.2384e-04\n",
      "Epoch 138/180\n",
      "50/50 [==============================] - 2s 45ms/step - loss: 3.2033e-04\n",
      "Epoch 139/180\n",
      "50/50 [==============================] - 2s 47ms/step - loss: 3.4003e-04\n",
      "Epoch 140/180\n",
      "50/50 [==============================] - 2s 45ms/step - loss: 3.1551e-04\n",
      "Epoch 141/180\n",
      "50/50 [==============================] - 2s 44ms/step - loss: 2.7810e-04\n",
      "Epoch 142/180\n",
      "50/50 [==============================] - 2s 44ms/step - loss: 3.4054e-04\n",
      "Epoch 143/180\n",
      "50/50 [==============================] - 2s 44ms/step - loss: 4.0448e-04\n",
      "Epoch 144/180\n",
      "50/50 [==============================] - 2s 45ms/step - loss: 3.6147e-04\n",
      "Epoch 145/180\n",
      "50/50 [==============================] - 2s 45ms/step - loss: 3.1223e-04\n",
      "Epoch 146/180\n",
      "50/50 [==============================] - 2s 44ms/step - loss: 2.9416e-04\n",
      "Epoch 147/180\n",
      "50/50 [==============================] - 2s 45ms/step - loss: 3.3669e-04\n",
      "Epoch 148/180\n",
      "50/50 [==============================] - 2s 43ms/step - loss: 3.1655e-04\n",
      "Epoch 149/180\n",
      "50/50 [==============================] - 2s 43ms/step - loss: 3.0732e-04\n",
      "Epoch 150/180\n",
      "50/50 [==============================] - 2s 43ms/step - loss: 3.2662e-04\n",
      "Epoch 151/180\n",
      "50/50 [==============================] - 2s 43ms/step - loss: 3.2328e-04\n",
      "Epoch 152/180\n",
      "50/50 [==============================] - 2s 44ms/step - loss: 3.0165e-04\n",
      "Epoch 153/180\n",
      "50/50 [==============================] - 2s 43ms/step - loss: 3.0018e-04\n",
      "Epoch 154/180\n",
      "50/50 [==============================] - 2s 42ms/step - loss: 3.0105e-04\n",
      "Epoch 155/180\n",
      "50/50 [==============================] - 2s 42ms/step - loss: 3.1838e-04\n",
      "Epoch 156/180\n",
      "50/50 [==============================] - 2s 42ms/step - loss: 3.2043e-04\n",
      "Epoch 157/180\n",
      "50/50 [==============================] - 2s 42ms/step - loss: 3.3075e-04\n",
      "Epoch 158/180\n",
      "50/50 [==============================] - 2s 42ms/step - loss: 3.1241e-04\n",
      "Epoch 159/180\n",
      "50/50 [==============================] - 2s 43ms/step - loss: 3.8964e-04\n",
      "Epoch 160/180\n",
      "50/50 [==============================] - 2s 42ms/step - loss: 3.2822e-04\n",
      "Epoch 161/180\n",
      "50/50 [==============================] - 2s 42ms/step - loss: 2.9590e-04\n",
      "Epoch 162/180\n",
      "50/50 [==============================] - 2s 42ms/step - loss: 3.7378e-04\n",
      "Epoch 163/180\n",
      "50/50 [==============================] - 2s 42ms/step - loss: 3.0063e-04\n",
      "Epoch 164/180\n",
      "50/50 [==============================] - 2s 43ms/step - loss: 3.2683e-04\n",
      "Epoch 165/180\n",
      "50/50 [==============================] - 2s 42ms/step - loss: 2.9066e-04\n",
      "Epoch 166/180\n",
      "50/50 [==============================] - 2s 43ms/step - loss: 3.3686e-04\n",
      "Epoch 167/180\n",
      "50/50 [==============================] - 2s 42ms/step - loss: 3.1491e-04\n",
      "Epoch 168/180\n",
      "50/50 [==============================] - 2s 42ms/step - loss: 3.2834e-04\n",
      "Epoch 169/180\n",
      "50/50 [==============================] - 2s 42ms/step - loss: 3.1671e-04\n",
      "Epoch 170/180\n",
      "50/50 [==============================] - 2s 44ms/step - loss: 3.2813e-04\n",
      "Epoch 171/180\n",
      "50/50 [==============================] - 2s 44ms/step - loss: 3.0594e-04\n",
      "Epoch 172/180\n",
      "50/50 [==============================] - 2s 46ms/step - loss: 3.5333e-04\n",
      "Epoch 173/180\n",
      "50/50 [==============================] - 2s 46ms/step - loss: 3.3519e-04\n",
      "Epoch 174/180\n",
      "50/50 [==============================] - 2s 46ms/step - loss: 3.0054e-04\n",
      "Epoch 175/180\n",
      "50/50 [==============================] - 2s 45ms/step - loss: 3.4224e-04\n",
      "Epoch 176/180\n",
      "50/50 [==============================] - 2s 44ms/step - loss: 3.2184e-04\n",
      "Epoch 177/180\n",
      "50/50 [==============================] - 2s 45ms/step - loss: 3.1233e-04\n",
      "Epoch 178/180\n",
      "50/50 [==============================] - 2s 45ms/step - loss: 3.3961e-04\n",
      "Epoch 179/180\n",
      "50/50 [==============================] - 2s 46ms/step - loss: 3.1500e-04\n",
      "Epoch 180/180\n",
      "50/50 [==============================] - 2s 47ms/step - loss: 3.5588e-04\n"
     ]
    },
    {
     "data": {
      "text/plain": [
       "<tensorflow.python.keras.callbacks.History at 0x14cc6a250>"
      ]
     },
     "execution_count": 158,
     "metadata": {},
     "output_type": "execute_result"
    }
   ],
   "source": [
    "regressor.fit(X_train,y_train,epochs=180,batch_size=50)"
   ]
  },
  {
   "cell_type": "code",
   "execution_count": 159,
   "metadata": {},
   "outputs": [],
   "source": [
    "y_pred4 = regressor.predict(X_test)"
   ]
  },
  {
   "cell_type": "code",
   "execution_count": 160,
   "metadata": {},
   "outputs": [
    {
     "data": {
      "image/png": "[encoded data removed]",
      "text/plain": [
       "<Figure size 1296x360 with 1 Axes>"
      ]
     },
     "metadata": {
      "needs_background": "light"
     },
     "output_type": "display_data"
    },
    {
     "name": "stdout",
     "output_type": "stream",
     "text": [
      "The RMSE of this Model is 2.6356555138029427\n"
     ]
    }
   ],
   "source": [
    "ScaleGraphEval(y_pred4,'VIX Index 2020 Prediction [Model#4]')\n",
    "#This is my Final Model"
   ]
  },
  {
   "cell_type": "code",
   "execution_count": null,
   "metadata": {},
   "outputs": [],
   "source": []
  }
 ],
 "metadata": {
  "kernelspec": {
   "display_name": "Python 3",
   "language": "python",
   "name": "python3"
  },
  "language_info": {
   "codemirror_mode": {
    "name": "ipython",
    "version": 3
   },
   "file_extension": ".py",
   "mimetype": "text/x-python",
   "name": "python",
   "nbconvert_exporter": "python",
   "pygments_lexer": "ipython3",
   "version": "3.7.4"
  }
 },
 "nbformat": 4,
 "nbformat_minor": 2
}
