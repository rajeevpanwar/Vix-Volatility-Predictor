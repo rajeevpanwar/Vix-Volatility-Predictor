{
 "cells": [
  {
   "cell_type": "code",
   "execution_count": 23,
   "metadata": {},
   "outputs": [],
   "source": [
    "import numpy as np\n",
    "import pandas as pd\n",
    "import calendar, time\n",
    "import datetime as dt\n",
    "from datetime import date\n",
    "import requests\n",
    "from requests import get\n",
    "import json"
   ]
  },
  {
   "cell_type": "code",
   "execution_count": 24,
   "metadata": {},
   "outputs": [],
   "source": [
    "#Set date window to collect data\n",
    "\n",
    "#Stock data interval\n",
    "interval='1d'\n",
    "\n",
    "#Set dates in YYYY-MM-DD format\n",
    "end_date = '2020-06-24'\n",
    "start_date = '2010-06-23'\n",
    "\n",
    "\n",
    "#Stock Tickers\n",
    "tickers = ['SPY','%5EVIX']"
   ]
  },
  {
   "cell_type": "code",
   "execution_count": 25,
   "metadata": {},
   "outputs": [],
   "source": [
    "#Get Historical StockData From Yahoo Finance\n",
    "def StockData(ticker, start_date, end_date = date.today(), interval = '1d'):\n",
    "    #convert dates to epoch time which is how Yahoo stores its data\n",
    "    start_date_epoch = calendar.timegm(time.strptime(str(start_date), '%Y-%m-%d'))\n",
    "    end_date_epoch = calendar.timegm(time.strptime(str(end_date), '%Y-%m-%d'))\n",
    "    \n",
    "    #create the URL to download the historical data\n",
    "    url = 'https://query1.finance.yahoo.com/v7/finance/download/' + ticker\n",
    "    url = url + '?period1=' + str(start_date_epoch) + '&period2=' + str(end_date_epoch)\n",
    "    url = url + '&interval=' + interval + '&events=history'\n",
    "    \n",
    "    #add and convert to a dataframe\n",
    "    df = pd.read_csv(url)\n",
    "    \n",
    "    return df"
   ]
  },
  {
   "cell_type": "code",
   "execution_count": 26,
   "metadata": {},
   "outputs": [
    {
     "data": {
      "text/html": [
       "<div>\n",
       "<style scoped>\n",
       "    .dataframe tbody tr th:only-of-type {\n",
       "        vertical-align: middle;\n",
       "    }\n",
       "\n",
       "    .dataframe tbody tr th {\n",
       "        vertical-align: top;\n",
       "    }\n",
       "\n",
       "    .dataframe thead th {\n",
       "        text-align: right;\n",
       "    }\n",
       "</style>\n",
       "<table border=\"1\" class=\"dataframe\">\n",
       "  <thead>\n",
       "    <tr style=\"text-align: right;\">\n",
       "      <th></th>\n",
       "      <th>Date</th>\n",
       "      <th>Open</th>\n",
       "      <th>High</th>\n",
       "      <th>Low</th>\n",
       "      <th>Close</th>\n",
       "      <th>Adj Close</th>\n",
       "      <th>Volume</th>\n",
       "    </tr>\n",
       "  </thead>\n",
       "  <tbody>\n",
       "    <tr>\n",
       "      <th>0</th>\n",
       "      <td>2010-06-23</td>\n",
       "      <td>26.930000</td>\n",
       "      <td>28.549999</td>\n",
       "      <td>26.540001</td>\n",
       "      <td>26.910000</td>\n",
       "      <td>26.910000</td>\n",
       "      <td>0</td>\n",
       "    </tr>\n",
       "    <tr>\n",
       "      <th>1</th>\n",
       "      <td>2010-06-24</td>\n",
       "      <td>27.610001</td>\n",
       "      <td>30.270000</td>\n",
       "      <td>27.530001</td>\n",
       "      <td>29.740000</td>\n",
       "      <td>29.740000</td>\n",
       "      <td>0</td>\n",
       "    </tr>\n",
       "    <tr>\n",
       "      <th>2</th>\n",
       "      <td>2010-06-25</td>\n",
       "      <td>29.639999</td>\n",
       "      <td>30.410000</td>\n",
       "      <td>28.070000</td>\n",
       "      <td>28.530001</td>\n",
       "      <td>28.530001</td>\n",
       "      <td>0</td>\n",
       "    </tr>\n",
       "    <tr>\n",
       "      <th>3</th>\n",
       "      <td>2010-06-28</td>\n",
       "      <td>29.200001</td>\n",
       "      <td>29.900000</td>\n",
       "      <td>28.469999</td>\n",
       "      <td>29.000000</td>\n",
       "      <td>29.000000</td>\n",
       "      <td>0</td>\n",
       "    </tr>\n",
       "    <tr>\n",
       "      <th>4</th>\n",
       "      <td>2010-06-29</td>\n",
       "      <td>31.219999</td>\n",
       "      <td>35.389999</td>\n",
       "      <td>31.219999</td>\n",
       "      <td>34.130001</td>\n",
       "      <td>34.130001</td>\n",
       "      <td>0</td>\n",
       "    </tr>\n",
       "  </tbody>\n",
       "</table>\n",
       "</div>"
      ],
      "text/plain": [
       "         Date       Open       High        Low      Close  Adj Close  Volume\n",
       "0  2010-06-23  26.930000  28.549999  26.540001  26.910000  26.910000       0\n",
       "1  2010-06-24  27.610001  30.270000  27.530001  29.740000  29.740000       0\n",
       "2  2010-06-25  29.639999  30.410000  28.070000  28.530001  28.530001       0\n",
       "3  2010-06-28  29.200001  29.900000  28.469999  29.000000  29.000000       0\n",
       "4  2010-06-29  31.219999  35.389999  31.219999  34.130001  34.130001       0"
      ]
     },
     "execution_count": 26,
     "metadata": {},
     "output_type": "execute_result"
    }
   ],
   "source": [
    "ticker=tickers[1]\n",
    "vix_df = StockData(ticker, start_date, end_date, interval)\n",
    "vix_df.head()"
   ]
  },
  {
   "cell_type": "code",
   "execution_count": 27,
   "metadata": {},
   "outputs": [],
   "source": [
    "vix_df.to_pickle(\"vix.pickle\")"
   ]
  },
  {
   "cell_type": "markdown",
   "metadata": {},
   "source": [
    "### Following data not used for MVP###"
   ]
  },
  {
   "cell_type": "code",
   "execution_count": 12,
   "metadata": {},
   "outputs": [
    {
     "data": {
      "text/html": [
       "<div>\n",
       "<style scoped>\n",
       "    .dataframe tbody tr th:only-of-type {\n",
       "        vertical-align: middle;\n",
       "    }\n",
       "\n",
       "    .dataframe tbody tr th {\n",
       "        vertical-align: top;\n",
       "    }\n",
       "\n",
       "    .dataframe thead th {\n",
       "        text-align: right;\n",
       "    }\n",
       "</style>\n",
       "<table border=\"1\" class=\"dataframe\">\n",
       "  <thead>\n",
       "    <tr style=\"text-align: right;\">\n",
       "      <th></th>\n",
       "      <th>Date</th>\n",
       "      <th>Open</th>\n",
       "      <th>High</th>\n",
       "      <th>Low</th>\n",
       "      <th>Close</th>\n",
       "      <th>Adj Close</th>\n",
       "      <th>Volume</th>\n",
       "    </tr>\n",
       "  </thead>\n",
       "  <tbody>\n",
       "    <tr>\n",
       "      <th>0</th>\n",
       "      <td>2010-06-23</td>\n",
       "      <td>109.639999</td>\n",
       "      <td>110.029999</td>\n",
       "      <td>108.480003</td>\n",
       "      <td>109.230003</td>\n",
       "      <td>89.306648</td>\n",
       "      <td>254639900</td>\n",
       "    </tr>\n",
       "    <tr>\n",
       "      <th>1</th>\n",
       "      <td>2010-06-24</td>\n",
       "      <td>108.690002</td>\n",
       "      <td>108.830002</td>\n",
       "      <td>107.139999</td>\n",
       "      <td>107.419998</td>\n",
       "      <td>87.826813</td>\n",
       "      <td>268523600</td>\n",
       "    </tr>\n",
       "    <tr>\n",
       "      <th>2</th>\n",
       "      <td>2010-06-25</td>\n",
       "      <td>107.739998</td>\n",
       "      <td>108.419998</td>\n",
       "      <td>106.769997</td>\n",
       "      <td>107.870003</td>\n",
       "      <td>88.194740</td>\n",
       "      <td>238726500</td>\n",
       "    </tr>\n",
       "    <tr>\n",
       "      <th>3</th>\n",
       "      <td>2010-06-28</td>\n",
       "      <td>108.029999</td>\n",
       "      <td>108.320000</td>\n",
       "      <td>107.139999</td>\n",
       "      <td>107.529999</td>\n",
       "      <td>87.916763</td>\n",
       "      <td>169218600</td>\n",
       "    </tr>\n",
       "    <tr>\n",
       "      <th>4</th>\n",
       "      <td>2010-06-29</td>\n",
       "      <td>106.019997</td>\n",
       "      <td>107.510002</td>\n",
       "      <td>103.550003</td>\n",
       "      <td>104.209999</td>\n",
       "      <td>85.202293</td>\n",
       "      <td>373649500</td>\n",
       "    </tr>\n",
       "  </tbody>\n",
       "</table>\n",
       "</div>"
      ],
      "text/plain": [
       "         Date        Open        High         Low       Close  Adj Close  \\\n",
       "0  2010-06-23  109.639999  110.029999  108.480003  109.230003  89.306648   \n",
       "1  2010-06-24  108.690002  108.830002  107.139999  107.419998  87.826813   \n",
       "2  2010-06-25  107.739998  108.419998  106.769997  107.870003  88.194740   \n",
       "3  2010-06-28  108.029999  108.320000  107.139999  107.529999  87.916763   \n",
       "4  2010-06-29  106.019997  107.510002  103.550003  104.209999  85.202293   \n",
       "\n",
       "      Volume  \n",
       "0  254639900  \n",
       "1  268523600  \n",
       "2  238726500  \n",
       "3  169218600  \n",
       "4  373649500  "
      ]
     },
     "execution_count": 12,
     "metadata": {},
     "output_type": "execute_result"
    }
   ],
   "source": [
    "ticker=tickers[0]\n",
    "\n",
    "spy_df = StockData(ticker, start_date, end_date, interval)\n",
    "spy_df.head()"
   ]
  },
  {
   "cell_type": "code",
   "execution_count": null,
   "metadata": {},
   "outputs": [],
   "source": []
  },
  {
   "cell_type": "code",
   "execution_count": 13,
   "metadata": {},
   "outputs": [
    {
     "name": "stdout",
     "output_type": "stream",
     "text": [
      "<class 'pandas.core.frame.DataFrame'>\n",
      "RangeIndex: 2518 entries, 0 to 2517\n",
      "Data columns (total 7 columns):\n",
      " #   Column     Non-Null Count  Dtype  \n",
      "---  ------     --------------  -----  \n",
      " 0   Date       2518 non-null   object \n",
      " 1   Open       2518 non-null   float64\n",
      " 2   High       2518 non-null   float64\n",
      " 3   Low        2518 non-null   float64\n",
      " 4   Close      2518 non-null   float64\n",
      " 5   Adj Close  2518 non-null   float64\n",
      " 6   Volume     2518 non-null   int64  \n",
      "dtypes: float64(5), int64(1), object(1)\n",
      "memory usage: 137.8+ KB\n"
     ]
    }
   ],
   "source": [
    "spy_df.info()"
   ]
  },
  {
   "cell_type": "code",
   "execution_count": null,
   "metadata": {},
   "outputs": [],
   "source": []
  },
  {
   "cell_type": "code",
   "execution_count": null,
   "metadata": {},
   "outputs": [],
   "source": []
  }
 ],
 "metadata": {
  "kernelspec": {
   "display_name": "Python 3",
   "language": "python",
   "name": "python3"
  },
  "language_info": {
   "codemirror_mode": {
    "name": "ipython",
    "version": 3
   },
   "file_extension": ".py",
   "mimetype": "text/x-python",
   "name": "python",
   "nbconvert_exporter": "python",
   "pygments_lexer": "ipython3",
   "version": "3.7.4"
  }
 },
 "nbformat": 4,
 "nbformat_minor": 2
}
