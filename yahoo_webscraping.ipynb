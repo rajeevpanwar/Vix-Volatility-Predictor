{
 "cells": [
  {
   "cell_type": "code",
   "execution_count": 3,
   "metadata": {},
   "outputs": [],
   "source": [
    "import pandas as pd\n",
    "import calendar, time\n",
    "import datetime as dt\n",
    "from datetime import date\n",
    "#import praw\n",
    "import requests\n",
    "from requests import get\n",
    "import json\n",
    "#import quandl"
   ]
  },
  {
   "cell_type": "code",
   "execution_count": 11,
   "metadata": {},
   "outputs": [],
   "source": [
    "#Set date window to collect data\n",
    "\n",
    "#Stock data interval\n",
    "interval='1d'\n",
    "\n",
    "#Set dates in YYYY-MM-DD format\n",
    "end_date = '2020-06-23'\n",
    "start_date = '2010-06-23'\n",
    "\n",
    "\n",
    "#Stock Tickers\n",
    "tickers = ['SPY','%5EVIX']"
   ]
  },
  {
   "cell_type": "code",
   "execution_count": 12,
   "metadata": {},
   "outputs": [],
   "source": [
    "#Get Historical StockData From Yahoo Finance\n",
    "def StockData(ticker, start_date, end_date = date.today(), interval = '1d'):\n",
    "    #convert dates to epoch time which is how Yahoo stores its data\n",
    "    start_date_epoch = calendar.timegm(time.strptime(str(start_date), '%Y-%m-%d'))\n",
    "    end_date_epoch = calendar.timegm(time.strptime(str(end_date), '%Y-%m-%d'))\n",
    "    \n",
    "    #create the URL to download the historical data\n",
    "    url = 'https://query1.finance.yahoo.com/v7/finance/download/' + ticker\n",
    "    url = url + '?period1=' + str(start_date_epoch) + '&period2=' + str(end_date_epoch)\n",
    "    url = url + '&interval=' + interval + '&events=history'\n",
    "    \n",
    "    #add and convert to a dataframe\n",
    "    df = pd.read_csv(url)\n",
    "    df.sort_values(by=['Date'],ascending=False,inplace=True)\n",
    "    df.set_index('Date', inplace=True)\n",
    "    columns_to_drop = ['Open','High','Low','Close','Volume']\n",
    "    df.drop(columns=columns_to_drop,inplace=True)\n",
    "    \n",
    "    return df"
   ]
  },
  {
   "cell_type": "code",
   "execution_count": 13,
   "metadata": {},
   "outputs": [
    {
     "data": {
      "text/html": [
       "<div>\n",
       "<style scoped>\n",
       "    .dataframe tbody tr th:only-of-type {\n",
       "        vertical-align: middle;\n",
       "    }\n",
       "\n",
       "    .dataframe tbody tr th {\n",
       "        vertical-align: top;\n",
       "    }\n",
       "\n",
       "    .dataframe thead th {\n",
       "        text-align: right;\n",
       "    }\n",
       "</style>\n",
       "<table border=\"1\" class=\"dataframe\">\n",
       "  <thead>\n",
       "    <tr style=\"text-align: right;\">\n",
       "      <th></th>\n",
       "      <th>Adj Close</th>\n",
       "    </tr>\n",
       "    <tr>\n",
       "      <th>Date</th>\n",
       "      <th></th>\n",
       "    </tr>\n",
       "  </thead>\n",
       "  <tbody>\n",
       "    <tr>\n",
       "      <td>2020-06-22</td>\n",
       "      <td>31.770000</td>\n",
       "    </tr>\n",
       "    <tr>\n",
       "      <td>2020-06-19</td>\n",
       "      <td>35.119999</td>\n",
       "    </tr>\n",
       "    <tr>\n",
       "      <td>2020-06-18</td>\n",
       "      <td>32.939999</td>\n",
       "    </tr>\n",
       "    <tr>\n",
       "      <td>2020-06-17</td>\n",
       "      <td>33.470001</td>\n",
       "    </tr>\n",
       "    <tr>\n",
       "      <td>2020-06-16</td>\n",
       "      <td>33.669998</td>\n",
       "    </tr>\n",
       "  </tbody>\n",
       "</table>\n",
       "</div>"
      ],
      "text/plain": [
       "            Adj Close\n",
       "Date                 \n",
       "2020-06-22  31.770000\n",
       "2020-06-19  35.119999\n",
       "2020-06-18  32.939999\n",
       "2020-06-17  33.470001\n",
       "2020-06-16  33.669998"
      ]
     },
     "execution_count": 13,
     "metadata": {},
     "output_type": "execute_result"
    }
   ],
   "source": [
    "ticker=tickers[1]\n",
    "\n",
    "vix_df = StockData(ticker, start_date, end_date, interval)\n",
    "vix_df.head()"
   ]
  },
  {
   "cell_type": "code",
   "execution_count": 14,
   "metadata": {},
   "outputs": [
    {
     "name": "stdout",
     "output_type": "stream",
     "text": [
      "<class 'pandas.core.frame.DataFrame'>\n",
      "Index: 2517 entries, 2020-06-22 to 2010-06-23\n",
      "Data columns (total 1 columns):\n",
      "Adj Close    2517 non-null float64\n",
      "dtypes: float64(1)\n",
      "memory usage: 39.3+ KB\n"
     ]
    }
   ],
   "source": [
    "vix_df.info()"
   ]
  },
  {
   "cell_type": "code",
   "execution_count": 15,
   "metadata": {},
   "outputs": [
    {
     "data": {
      "text/html": [
       "<div>\n",
       "<style scoped>\n",
       "    .dataframe tbody tr th:only-of-type {\n",
       "        vertical-align: middle;\n",
       "    }\n",
       "\n",
       "    .dataframe tbody tr th {\n",
       "        vertical-align: top;\n",
       "    }\n",
       "\n",
       "    .dataframe thead th {\n",
       "        text-align: right;\n",
       "    }\n",
       "</style>\n",
       "<table border=\"1\" class=\"dataframe\">\n",
       "  <thead>\n",
       "    <tr style=\"text-align: right;\">\n",
       "      <th></th>\n",
       "      <th>Adj Close</th>\n",
       "    </tr>\n",
       "    <tr>\n",
       "      <th>Date</th>\n",
       "      <th></th>\n",
       "    </tr>\n",
       "  </thead>\n",
       "  <tbody>\n",
       "    <tr>\n",
       "      <td>2020-06-22</td>\n",
       "      <td>310.619995</td>\n",
       "    </tr>\n",
       "    <tr>\n",
       "      <td>2020-06-19</td>\n",
       "      <td>308.640015</td>\n",
       "    </tr>\n",
       "    <tr>\n",
       "      <td>2020-06-18</td>\n",
       "      <td>310.414001</td>\n",
       "    </tr>\n",
       "    <tr>\n",
       "      <td>2020-06-17</td>\n",
       "      <td>310.294525</td>\n",
       "    </tr>\n",
       "    <tr>\n",
       "      <td>2020-06-16</td>\n",
       "      <td>311.588806</td>\n",
       "    </tr>\n",
       "  </tbody>\n",
       "</table>\n",
       "</div>"
      ],
      "text/plain": [
       "             Adj Close\n",
       "Date                  \n",
       "2020-06-22  310.619995\n",
       "2020-06-19  308.640015\n",
       "2020-06-18  310.414001\n",
       "2020-06-17  310.294525\n",
       "2020-06-16  311.588806"
      ]
     },
     "execution_count": 15,
     "metadata": {},
     "output_type": "execute_result"
    }
   ],
   "source": [
    "ticker=tickers[0]\n",
    "\n",
    "spy_df = StockData(ticker, start_date, end_date, interval)\n",
    "spy_df.head()"
   ]
  },
  {
   "cell_type": "code",
   "execution_count": 16,
   "metadata": {},
   "outputs": [
    {
     "name": "stdout",
     "output_type": "stream",
     "text": [
      "<class 'pandas.core.frame.DataFrame'>\n",
      "Index: 2517 entries, 2020-06-22 to 2010-06-23\n",
      "Data columns (total 1 columns):\n",
      "Adj Close    2517 non-null float64\n",
      "dtypes: float64(1)\n",
      "memory usage: 39.3+ KB\n"
     ]
    }
   ],
   "source": [
    "spy_df.info()"
   ]
  },
  {
   "cell_type": "code",
   "execution_count": null,
   "metadata": {},
   "outputs": [],
   "source": []
  }
 ],
 "metadata": {
  "kernelspec": {
   "display_name": "Python 3",
   "language": "python",
   "name": "python3"
  },
  "language_info": {
   "codemirror_mode": {
    "name": "ipython",
    "version": 3
   },
   "file_extension": ".py",
   "mimetype": "text/x-python",
   "name": "python",
   "nbconvert_exporter": "python",
   "pygments_lexer": "ipython3",
   "version": "3.7.4"
  }
 },
 "nbformat": 4,
 "nbformat_minor": 2
}
